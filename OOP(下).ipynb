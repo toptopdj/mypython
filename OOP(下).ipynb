{
 "cells": [
  {
   "cell_type": "markdown",
   "metadata": {},
   "source": [
    "- 单继承和多继承\n",
    "    - 单继承：每个类只能继承一个类\n",
    "    - 多继承：每个类允许继承多个类\n",
    "    \n",
    "- 单继承和多继承的优缺点\n",
    "    - 单继承：\n",
    "        - 传承有序逻辑清晰语法简单隐患少\n",
    "        - 功能不能无限扩展，只能在当前唯一的继承链中扩展\n",
    "    - 多继承：\n",
    "        - 优点：类的功能扩展方便\n",
    "        - 缺点：继承关系混乱"
   ]
  },
  {
   "cell_type": "code",
   "execution_count": 3,
   "metadata": {},
   "outputs": [
    {
     "name": "stdout",
     "output_type": "stream",
     "text": [
      "i am flying,,,\n",
      "i am swimming,,,\n",
      "i am working,,,\n"
     ]
    }
   ],
   "source": [
    "# 多继承的例子\n",
    "# 子类可以直接拥有父类的属性和方法，私有属性和方法除外\n",
    "\n",
    "class Fish():\n",
    "    def __init__(self, name):\n",
    "        self.name = nam\n",
    "        \n",
    "    def swim(self):\n",
    "        print('i am swimming,,,')\n",
    "        \n",
    "class Bird():\n",
    "    def __init__(self, name):\n",
    "        self.name = nam\n",
    "        \n",
    "    def fly(self):\n",
    "        print('i am flying,,,')\n",
    "        \n",
    "class Person():\n",
    "    def __init__(self, name):\n",
    "        self.name = nam\n",
    "        \n",
    "    def work(self):\n",
    "        print('i am working,,,')\n",
    "        \n",
    "# 多继承\n",
    "class SuperMan(Person, Bird, Fish):\n",
    "    def __init__(self, name):\n",
    "        self.name = name\n",
    "        \n",
    "# 单继承        \n",
    "class Student(Person):\n",
    "    def __init__(self, name):\n",
    "        self.name = name\n",
    "\n",
    "s = SuperMan('yueyue')\n",
    "s.fly()\n",
    "s.swim()\n",
    "\n",
    "t = Student('yueyue')\n",
    "t.work()"
   ]
  },
  {
   "cell_type": "markdown",
   "metadata": {},
   "source": [
    "- 菱形继承/钻石继承问题\n",
    "    - 多个子类继承自同一个父类，这些子类又被同一个类继承，于是继承关系图形成一个菱形图谱\n",
    "    - [MRO] http://www.cnblogs.com/whatisfantasy/p/6046991.html\n",
    "    - 关于多继承的MRO\n",
    "        - MRO就是多继承中用于保存继承顺序的一个列表\n",
    "        - Python本身采用C3算法来多多继承的菱形继承进行计算的结果\n",
    "        - MRO列表的计算原则：\n",
    "            - 子类永远在父类前面\n",
    "            - 如果多个父类，则根据继承语法中括号内类的书写顺序存放\n",
    "            - 如果多个类继承了同一个父类，孙子类中只会选取继承语法括号中第一个父类的父类\n",
    "           "
   ]
  },
  {
   "cell_type": "code",
   "execution_count": 4,
   "metadata": {},
   "outputs": [],
   "source": [
    "# 菱形继承问题\n",
    "\n",
    "class A():\n",
    "    pass\n",
    "\n",
    "class B(A):\n",
    "    pass\n",
    "\n",
    "class C(A):\n",
    "    pass\n",
    "\n",
    "class D(B, C):\n",
    "    pass"
   ]
  },
  {
   "cell_type": "markdown",
   "metadata": {},
   "source": [
    "- 构造函数\n",
    "    - 在对象进行实例化的时候，系统自动调用的一个函数叫构造函数，通常此函数用来对实例对象进行\n",
    "    - 构造函数一定要有，如果没有，则自动向上查找，按照MRO顺序，直到找到为止"
   ]
  },
  {
   "cell_type": "code",
   "execution_count": 5,
   "metadata": {},
   "outputs": [
    {
     "name": "stdout",
     "output_type": "stream",
     "text": [
      "In init func\n"
     ]
    }
   ],
   "source": [
    "# 构造函数例子\n",
    "class Person():\n",
    "    # 对Person类进行实例化的时候\n",
    "    # 姓名要确定\n",
    "    # 年龄得确定\n",
    "    # 地址肯定有\n",
    "    def __init__(self):\n",
    "        self.name = 'NoName'\n",
    "        self.age = 18\n",
    "        self.address = 'whoami'\n",
    "        print('In init func')\n",
    "\n",
    "# 实例化一个人\n",
    "p = Person()"
   ]
  },
  {
   "cell_type": "code",
   "execution_count": 6,
   "metadata": {},
   "outputs": [],
   "source": [
    "# 构造函数的调用顺序\n",
    "# 如果子类没有写构造函数，则自动向上查找，直到找到位置\n",
    "class A():\n",
    "    def __init__(self):\n",
    "        print('A')\n",
    "        \n",
    "class B(A):\n",
    "    def __init__(self):\n",
    "        print('B')       \n",
    "        \n",
    "class C(B):\n",
    "    pass\n",
    "\n",
    "# 此时，首先查找C的构造函数\n",
    "# 如果没有，则向上按照MRO顺序查找父类的构造函数，直到找到为止\n",
    "c = C()"
   ]
  },
  {
   "cell_type": "code",
   "execution_count": 7,
   "metadata": {},
   "outputs": [
    {
     "ename": "TypeError",
     "evalue": "__init__() missing 1 required positional argument: 'name'",
     "output_type": "error",
     "traceback": [
      "\u001b[0;31m---------------------------------------------------------------------------\u001b[0m",
      "\u001b[0;31mTypeError\u001b[0m                                 Traceback (most recent call last)",
      "\u001b[0;32m<ipython-input-7-5c27d4d9f812>\u001b[0m in \u001b[0;36m<module>\u001b[0;34m()\u001b[0m\n\u001b[1;32m     15\u001b[0m \u001b[0;31m# 此时，首先查找C的构造函数\u001b[0m\u001b[0;34m\u001b[0m\u001b[0;34m\u001b[0m\u001b[0;34m\u001b[0m\u001b[0m\n\u001b[1;32m     16\u001b[0m \u001b[0;31m# 如果没有，则向上按照MRO顺序查找父类的构造函数，直到找到为止\u001b[0m\u001b[0;34m\u001b[0m\u001b[0;34m\u001b[0m\u001b[0;34m\u001b[0m\u001b[0m\n\u001b[0;32m---> 17\u001b[0;31m \u001b[0mc\u001b[0m \u001b[0;34m=\u001b[0m \u001b[0mC\u001b[0m\u001b[0;34m(\u001b[0m\u001b[0;34m)\u001b[0m\u001b[0;34m\u001b[0m\u001b[0;34m\u001b[0m\u001b[0m\n\u001b[0m",
      "\u001b[0;31mTypeError\u001b[0m: __init__() missing 1 required positional argument: 'name'"
     ]
    }
   ],
   "source": [
    "# 构造函数的调用顺序\n",
    "# 如果子类没有写构造函数，则自动向上查找，直到找到位置\n",
    "class A():\n",
    "    def __init__(self):\n",
    "        print('A')\n",
    "        \n",
    "class B(A):\n",
    "    def __init__(self, name):\n",
    "        print('B')\n",
    "        print(name)\n",
    "        \n",
    "class C(B):\n",
    "    pass\n",
    "\n",
    "# 此时，首先查找C的构造函数\n",
    "# 如果没有，则向上按照MRO顺序查找父类的构造函数，直到找到为止\n",
    "c = C()"
   ]
  },
  {
   "cell_type": "code",
   "execution_count": 9,
   "metadata": {},
   "outputs": [
    {
     "name": "stdout",
     "output_type": "stream",
     "text": [
      "B\n",
      "我是C\n",
      "这是C中附加的功能\n"
     ]
    }
   ],
   "source": [
    "# 构造函数的调用顺序 -- 3\n",
    "# 如果子类没有写构造函数，则自动向上查找，直到找到位置\n",
    "class A():\n",
    "    def __init__(self):\n",
    "        print('A')\n",
    "        \n",
    "class B(A):\n",
    "    def __init__(self, name):\n",
    "        print('B')\n",
    "        print(name)\n",
    "        \n",
    "class C(B):\n",
    "    # c中想扩展B的构造函数\n",
    "    # 即调用B的构造函数后再添加一些功能\n",
    "    # 有两种方法实现\n",
    "    '''\n",
    "    # 第一种是通过父类名调用\n",
    "    def __init_(self, name):\n",
    "        # 首先调用父类构造函数\n",
    "        B.__init__(self, name)\n",
    "        # 其次，再增加自己的功能\n",
    "        print('这是C中附加的功能')\n",
    "    '''\n",
    "    \n",
    "    # 第二种，使用super调用\n",
    "    def __init__(self, name):\n",
    "        # 首先调用父类构造函数\n",
    "        super(C, self).__init__(name)\n",
    "        # 其次，再增加自己的功能\n",
    "        print('这是C中附加的功能')\n",
    "    \n",
    "\n",
    "# 此时，首先查找C的构造函数\n",
    "# 如果没有，则向上按照MRO顺序查找父类的构造函数，直到找到为止\n",
    "c = C('我是C')"
   ]
  },
  {
   "cell_type": "markdown",
   "metadata": {},
   "source": [
    "### 多态\n",
    "- 多态就是同一个对象在不同情况下有不同的状态出现\n",
    "- 多态不是语法，是一种设计思想\n",
    "- 多态性：一种调用方式，不同的执行效果\n",
    "- 多态：同一事物的多种形态，动物分为人类，狗，猪\n",
    "- [多态和多态性]http://www.cnblogs.com/luchuangao/p/6739557.html\n",
    "\n",
    "- Mixin设计模式\n",
    "    - 主要采用多继承方式对类的功能进行扩展\n",
    "    - [Mixin概念] https://www.zhihu.com/question/20778853\n",
    "    - [MRO and Mixin] http://blog.csdn.net/robinjwong/article/detail\n",
    "    \n",
    "- 我们使用多继承语法来实现Mixin\n",
    "- 使用Mixin实现多继承的时候非常小心\n",
    "    - 首先他必须表示某一单一功能，而不是某个物品\n",
    "    - 职责必须单一，如果有多个功能，则写多个Mixin\n",
    "    - Mixin不能依赖于子类的实现\n",
    "    - 子类即使没有继承这个Mixin类，也能照样工作，只是缺少了某个功能\n",
    "- 优点\n",
    "    - 使用Mixin可以在不对类进行任何修改的情况下，扩充功能\n",
    "    - 可以方便的组织和维护不同功能组件的划分\n",
    "    - 可以根据需要任意调整功能类的组合\n",
    "    - 可以避免创建很多新的类，导致类的继承混乱\n"
   ]
  },
  {
   "cell_type": "code",
   "execution_count": 11,
   "metadata": {},
   "outputs": [
    {
     "name": "stdout",
     "output_type": "stream",
     "text": [
      "(<class '__main__.Tutor'>, <class '__main__.Teacher'>, <class '__main__.Student'>, <class '__main__.Person'>, <class 'object'>)\n",
      "{}\n",
      "{'__module__': '__main__', '__doc__': None}\n",
      "******************************\n",
      "(<class '__main__.TutorMixin'>, <class '__main__.Person'>, <class '__main__.TeacherMixin'>, <class '__main__.StudentMixin'>, <class 'object'>)\n",
      "{}\n",
      "{'__module__': '__main__', '__doc__': None}\n"
     ]
    }
   ],
   "source": [
    "# Mixin 案例\n",
    "class Person():\n",
    "    name = 'xiaoxiao'\n",
    "    age = 18\n",
    "    \n",
    "    def eat(self):\n",
    "        print('Eating...')\n",
    "        \n",
    "    def drink(self):\n",
    "        print('Drinking...')\n",
    "        \n",
    "    def sleep(self):\n",
    "        print('Sleeping...')\n",
    "        \n",
    "class Teacher(Person):\n",
    "    def work(self):\n",
    "        print('Working...')\n",
    "        \n",
    "class Student(Person):\n",
    "    def study(self):\n",
    "        print('Studying...')\n",
    "        \n",
    "class Tutor(Teacher, Student):\n",
    "    pass\n",
    "\n",
    "t = Tutor()\n",
    "\n",
    "print(Tutor.__mro__)\n",
    "print(t.__dict__)\n",
    "print(Tutor.__dict__)\n",
    "\n",
    "print('*' * 30)\n",
    "\n",
    "class TeacherMixin():\n",
    "    def work(self):\n",
    "        print('work')\n",
    "        \n",
    "class StudentMixin():\n",
    "    def study(self):\n",
    "        print('study')\n",
    "        \n",
    "class TutorMixin(Person, TeacherMixin, StudentMixin):\n",
    "    pass\n",
    "\n",
    "tt = TutorMixin()\n",
    "print(TutorMixin.__mro__)\n",
    "print(tt.__dict__)\n",
    "print(TutorMixin.__dict__)"
   ]
  },
  {
   "cell_type": "markdown",
   "metadata": {},
   "source": [
    "## 类相关函数\n",
    "- issubclass: 检测一个类是否是另一个类的子类\n",
    "- isinstance: 检测一个对象是否是一个类的实例\n",
    "- hasattr: 检测一个对象是否有成员xxx\n",
    "- getattr: get attribute\n",
    "- setattr: set attribute\n",
    "- delattr: delete attribute\n",
    "- dir: 获取对象的成员列表"
   ]
  },
  {
   "cell_type": "code",
   "execution_count": 13,
   "metadata": {},
   "outputs": [
    {
     "name": "stdout",
     "output_type": "stream",
     "text": [
      "True\n",
      "False\n",
      "True\n"
     ]
    }
   ],
   "source": [
    "# issubclass\n",
    "\n",
    "class A():\n",
    "    pass\n",
    "\n",
    "class B(A):\n",
    "    pass\n",
    "\n",
    "class C():\n",
    "    pass\n",
    "\n",
    "print( issubclass(B, A) )\n",
    "print( issubclass(C, A) )\n",
    "print( issubclass(B, object) )"
   ]
  },
  {
   "cell_type": "code",
   "execution_count": 14,
   "metadata": {},
   "outputs": [
    {
     "name": "stdout",
     "output_type": "stream",
     "text": [
      "True\n",
      "False\n"
     ]
    }
   ],
   "source": [
    "# isinstance\n",
    "\n",
    "class A():\n",
    "    pass\n",
    "\n",
    "a = A()\n",
    "\n",
    "print(isinstance(a, A))\n",
    "print(isinstance(A, A))"
   ]
  },
  {
   "cell_type": "code",
   "execution_count": 16,
   "metadata": {},
   "outputs": [
    {
     "name": "stdout",
     "output_type": "stream",
     "text": [
      "True\n"
     ]
    }
   ],
   "source": [
    "# hasattr\n",
    "class A():\n",
    "    name = 'NoName'\n",
    "    \n",
    "a = A()\n",
    "\n",
    "print(hasattr(a, 'name'))"
   ]
  },
  {
   "cell_type": "code",
   "execution_count": 17,
   "metadata": {},
   "outputs": [
    {
     "name": "stdout",
     "output_type": "stream",
     "text": [
      "Help on built-in function hasattr in module builtins:\n",
      "\n",
      "hasattr(obj, name, /)\n",
      "    Return whether the object has an attribute with the given name.\n",
      "    \n",
      "    This is done by calling getattr(obj, name) and catching AttributeError.\n",
      "\n"
     ]
    }
   ],
   "source": [
    "# help案例\n",
    "# 可以获悉hasattr具体用法\n",
    "help(hasattr)"
   ]
  },
  {
   "cell_type": "code",
   "execution_count": 18,
   "metadata": {},
   "outputs": [
    {
     "data": {
      "text/plain": [
       "['__class__',\n",
       " '__delattr__',\n",
       " '__dict__',\n",
       " '__dir__',\n",
       " '__doc__',\n",
       " '__eq__',\n",
       " '__format__',\n",
       " '__ge__',\n",
       " '__getattribute__',\n",
       " '__gt__',\n",
       " '__hash__',\n",
       " '__init__',\n",
       " '__init_subclass__',\n",
       " '__le__',\n",
       " '__lt__',\n",
       " '__module__',\n",
       " '__ne__',\n",
       " '__new__',\n",
       " '__reduce__',\n",
       " '__reduce_ex__',\n",
       " '__repr__',\n",
       " '__setattr__',\n",
       " '__sizeof__',\n",
       " '__str__',\n",
       " '__subclasshook__',\n",
       " '__weakref__']"
      ]
     },
     "execution_count": 18,
     "metadata": {},
     "output_type": "execute_result"
    }
   ],
   "source": [
    "# dir案例\n",
    "class A():\n",
    "    pass\n",
    "\n",
    "dir(A)\n",
    "\n",
    "a = A()\n",
    "dir(a)"
   ]
  },
  {
   "cell_type": "markdown",
   "metadata": {},
   "source": [
    "## 类的成员描述符（属性）\n",
    "- 类的成员描述符是为了在类中对类的成员属性进行相关操作而创建的一种方式\n",
    "    - get： 获取属性的操作\n",
    "    - set： 修改或者添加属性操作\n",
    "    - delete： 删除属性的操作\n",
    "- 如果想使用类的成员描述符，大概有三种方法\n",
    "    - 使用类实现描述符\n",
    "    - 使用属性修饰符\n",
    "    - 使用property函数\n",
    "        - property函数很简单\n",
    "        - property(fget, fset, fdel, doc)\n",
    "    - 案例\n",
    "- 无论哪种修饰符都是为了对成员属性进行相应的控制\n",
    "    - 类的方式：适合多个类中的多个属性共用用一个描述符\n",
    "    - property：使用当前类中使用，可以控制一个类中多个属性\n",
    "    - 属性修饰符：适用于当前类中，控制一个类中的一个属性\n",
    "  "
   ]
  },
  {
   "cell_type": "code",
   "execution_count": 21,
   "metadata": {},
   "outputs": [
    {
     "name": "stdout",
     "output_type": "stream",
     "text": [
      "Hai, my name is XIAOXIAO\n",
      "Hai, my name is MICHI STANGLE\n"
     ]
    }
   ],
   "source": [
    "# 属性案例\n",
    "# 创建Student类，描述学生类\n",
    "# 学生具有Student.name属性\n",
    "# 但name格式并不统一\n",
    "\n",
    "class Student():\n",
    "    def __init__(self, name, age):\n",
    "        self.name = name\n",
    "        self.age = age\n",
    "        \n",
    "        # 如果不想修改代码\n",
    "        self.setName(name)\n",
    "        \n",
    "    # 介绍下自己\n",
    "    def intro(self):\n",
    "        print('Hai, my name is {0}'.format(self.name))\n",
    "        \n",
    "    def setName(self, name):\n",
    "        self.name = name.upper()\n",
    "        \n",
    "s1 = Student('xiaoxiao', 19)\n",
    "s2 = Student('michi stangle', 24)\n",
    "\n",
    "s1.intro()\n",
    "s2.intro()"
   ]
  },
  {
   "cell_type": "code",
   "execution_count": 24,
   "metadata": {},
   "outputs": [
    {
     "name": "stdout",
     "output_type": "stream",
     "text": [
      "TUTUTUTU\n"
     ]
    }
   ],
   "source": [
    "# property案例\n",
    "# 定义一个Person类，具有name，age属性\n",
    "# 对于任意输入的姓名，我们希望都用大写方式保存\n",
    "# 年龄，我们希望内部统一用整数保存\n",
    "# x = property(fget, fset, fdel, doc)\n",
    "\n",
    "class Person():\n",
    "    # 函数的名称可以任意\n",
    "    def fget(self):\n",
    "        return self._name * 2\n",
    "    \n",
    "    def fset(self, name):\n",
    "        # 所有输入的姓名以大写形式保存\n",
    "        self._name = name.upper()\n",
    "        \n",
    "    def fdel(self):\n",
    "        self._name = 'NoName'\n",
    "        \n",
    "    name = property(fget, fset, fdel, '对name进行以下操作')\n",
    "    \n",
    "p1 = Person()\n",
    "p1.name = 'TuTU'\n",
    "print(p1.name)"
   ]
  },
  {
   "cell_type": "markdown",
   "metadata": {},
   "source": [
    "## 类的内置属性\n",
    "\n",
    "    __dict__:以字典的方式显示类的成员组成\n",
    "    __doc__: 获取类的文档信息\n",
    "    __name__:获取类的名称，如果在模块中使用，获取模块的名称\n",
    "    __base__:获取某个类的所有父类，"
   ]
  },
  {
   "cell_type": "code",
   "execution_count": 25,
   "metadata": {},
   "outputs": [
    {
     "name": "stdout",
     "output_type": "stream",
     "text": [
      "{'__module__': '__main__', 'fget': <function Person.fget at 0x7f981b7d6620>, 'fset': <function Person.fset at 0x7f981b7d67b8>, 'fdel': <function Person.fdel at 0x7f981b7d6840>, 'name': <property object at 0x7f981b796638>, '__dict__': <attribute '__dict__' of 'Person' objects>, '__weakref__': <attribute '__weakref__' of 'Person' objects>, '__doc__': None}\n",
      "++++++++++++++++++++++++++++++\n",
      "None\n",
      "++++++++++++++++++++++++++++++\n",
      "Person\n",
      "++++++++++++++++++++++++++++++\n",
      "<class 'object'>\n"
     ]
    }
   ],
   "source": [
    "# 类的内置属性距离\n",
    "print(Person.__dict__)\n",
    "print('+' * 30)\n",
    "print(Person.__doc__)\n",
    "print('+' * 30)\n",
    "print(Person.__name__)\n",
    "print('+' * 30)\n",
    "print(Person.__base__)"
   ]
  },
  {
   "cell_type": "markdown",
   "metadata": {},
   "source": [
    "## 类的常用魔术方法\n",
    "- 魔术方法就是不需要人为调用的方法，基本是在特定的适可自动触发\n",
    "- 魔术方法的统一特征，方法名被前后各两个下划线包裹\n",
    "- 操作类\n",
    "    - `__init__`: 构造函数\n",
    "    - `__new__`: 对象实例化方法，此函数较特殊，一般不需要使用\n",
    "    - `__call__`: 对象当函数使用时触发\n",
    "    - `__str__`: 当对象被当做字符串使用时触发\n",
    "    - `__repr__`: 返回字符串"
   ]
  },
  {
   "cell_type": "code",
   "execution_count": 26,
   "metadata": {},
   "outputs": [
    {
     "name": "stdout",
     "output_type": "stream",
     "text": [
      "哈哈，我被调用了\n"
     ]
    }
   ],
   "source": [
    "# init举例\n",
    "class A():\n",
    "    def __init__(self, name = 0):\n",
    "        print('哈哈，我被调用了')\n",
    "        \n",
    "a = A()"
   ]
  },
  {
   "cell_type": "code",
   "execution_count": 28,
   "metadata": {},
   "outputs": [
    {
     "name": "stdout",
     "output_type": "stream",
     "text": [
      "哈哈，我被调用了\n",
      "我又被调用了一次\n"
     ]
    }
   ],
   "source": [
    "# __call__举例\n",
    "class A():\n",
    "    def __init__(self, name = 0):\n",
    "        print('哈哈，我被调用了')\n",
    "        \n",
    "    def __call__(self):\n",
    "        print('我又被调用了一次')\n",
    "        \n",
    "a = A()\n",
    "a()"
   ]
  },
  {
   "cell_type": "code",
   "execution_count": 29,
   "metadata": {},
   "outputs": [
    {
     "name": "stdout",
     "output_type": "stream",
     "text": [
      "哈哈，我被调用了\n",
      "str例子\n"
     ]
    }
   ],
   "source": [
    "# __str__举例\n",
    "class A():\n",
    "    def __init__(self, name = 0):\n",
    "        print('哈哈，我被调用了')\n",
    "        \n",
    "    def __str__(self):\n",
    "        return 'str例子'\n",
    "        \n",
    "a = A()\n",
    "print(a)"
   ]
  },
  {
   "cell_type": "markdown",
   "metadata": {},
   "source": [
    "- 描述符相关\n",
    "    - `__set__`\n",
    "    - `__get__`\n",
    "    - `__delete__`\n",
    "    \n",
    "- 属性操作相关\n",
    "    - `__getattr__`: 访问一个不存在的\n",
    "    - `__setattr__`: 对成员属性进行设置的事后处罚\n",
    "        - 参数: \n",
    "            - self用来获取当前对象\n",
    "            - 被设置的属性名称，以字符串形式出现\n",
    "            - 需要对属性名称设置的值\n",
    "        - 作用: 进行属性设置的时候进行验证或者修改\n",
    "        - 注意: 在该方法中不能对属性直接进行赋值操作，否则会死循环"
   ]
  },
  {
   "cell_type": "code",
   "execution_count": 33,
   "metadata": {},
   "outputs": [
    {
     "name": "stdout",
     "output_type": "stream",
     "text": [
      "NoName\n",
      "哈哈，没找到啊\n",
      "addr\n",
      "None\n"
     ]
    }
   ],
   "source": [
    "# __getattr__\n",
    "class A():\n",
    "    name = 'NoName'\n",
    "    \n",
    "    def __getattr__(self, name):\n",
    "        print('哈哈，没找到啊')\n",
    "        print(name)\n",
    "        \n",
    "a = A()\n",
    "print(a.name)\n",
    "print(a.addr)"
   ]
  },
  {
   "cell_type": "code",
   "execution_count": 34,
   "metadata": {},
   "outputs": [
    {
     "name": "stdout",
     "output_type": "stream",
     "text": [
      "{}\n",
      "设置属性：age\n"
     ]
    }
   ],
   "source": [
    "# __setattr__\n",
    "class Person():\n",
    "    def __init__(self):\n",
    "        pass\n",
    "    \n",
    "    def __setattr__(self, name, value):\n",
    "        print('设置属性：{0}'.format(name))\n",
    "        # 下面语句会导致问题，死循环\n",
    "        # self.name = value\n",
    "        # 此种情况，为了避免死循环，规定统一调用父类魔法函数\n",
    "        super().__setattr__(name, value)\n",
    "        \n",
    "p = Person()\n",
    "print(p.__dict__)\n",
    "p.age = 18"
   ]
  },
  {
   "cell_type": "markdown",
   "metadata": {},
   "source": [
    "- 运算分类相关魔术方法\n",
    "    - `__gt__`: 进行大于判断时触发的函数\n",
    "        - 参数:\n",
    "            - self\n",
    "            - 第二个参数是第二个对象\n",
    "            - 返回值可以是任意值"
   ]
  },
  {
   "cell_type": "code",
   "execution_count": 47,
   "metadata": {},
   "outputs": [
    {
     "name": "stdout",
     "output_type": "stream",
     "text": [
      "哈哈，one会比two大吗？\n",
      "False\n"
     ]
    }
   ],
   "source": [
    "# __gt__\n",
    "\n",
    "class Student():\n",
    "    def __init__(self, name):\n",
    "        self._name = name\n",
    "        \n",
    "    def __gt__(self, obj):\n",
    "        print('哈哈，{0}会比{1}大吗？'.format(self._name, obj._name))\n",
    "        return self._name > obj._name\n",
    "    \n",
    "stu1 = Student('one')\n",
    "stu2 = Student('two')\n",
    "\n",
    "print(stu1 > stu2)"
   ]
  },
  {
   "cell_type": "markdown",
   "metadata": {},
   "source": [
    "- 类和对象的三种方法\n",
    "    - 实例方法\n",
    "        - 需要实例化对象才能使用的方法，使用过程中可能需要截止对象的其他对象的方法完成\n",
    "    - 静态方法\n",
    "        - 不需要实例化，通过类直接访问\n",
    "    - 类方法\n",
    "        - 不需要实例化\n",
    "    - 区别自行百度"
   ]
  },
  {
   "cell_type": "code",
   "execution_count": 1,
   "metadata": {},
   "outputs": [
    {
     "name": "stdout",
     "output_type": "stream",
     "text": [
      "<__main__.Person object at 0x7f0e7c664ac8>\n",
      "Eating....\n",
      "<class '__main__.Person'>\n",
      "Playing...\n",
      "<class '__main__.Person'>\n",
      "Playing...\n",
      "Saying....\n",
      "Saying....\n"
     ]
    }
   ],
   "source": [
    "# 三种方法的案例\n",
    "class Person():\n",
    "    \n",
    "    # 实例方法\n",
    "    def eat(self):\n",
    "        print(self)\n",
    "        print('Eating....')\n",
    "        \n",
    "    # 类方法\n",
    "    # 类方法的第一个参数，一般命名为cls，区别于self\n",
    "    @classmethod\n",
    "    def play(cls):\n",
    "        print(cls)\n",
    "        print('Playing...')\n",
    "        \n",
    "    # 静态方法\n",
    "    # 不需要用第一个参数表示自身或者类\n",
    "    @staticmethod\n",
    "    def say():\n",
    "        print('Saying....')\n",
    "        \n",
    "yueyue = Person()\n",
    "\n",
    "# 实例方法\n",
    "yueyue.eat()\n",
    "# 类方法\n",
    "Person.play()\n",
    "yueyue.play()\n",
    "# 静态方法\n",
    "Person.say()\n",
    "yueyue.say()"
   ]
  },
  {
   "cell_type": "markdown",
   "metadata": {},
   "source": [
    "### 抽象类\n",
    "- 抽象方法：没有具体实现内容的方法称为抽象方法\n",
    "- 抽象方法的主要意义是规范了子类的行为和接口\n",
    "- 抽象类的使用需要借助abc模块\n",
    "\n",
    "        import abc\n",
    "        \n",
    "- 抽象类: 包含抽象方法的类叫抽象类，通常称为ABC类\n",
    "- 抽象类的使用\n",
    "    - 抽象类可以包含抽象方法，也可以包含具体方法\n",
    "    - 抽象类中可以有方法也可以有属性\n",
    "    - 抽象类不允许直接实例化\n",
    "    - 必须继承才可以使用，且继承的子类必须实现所有继承来的抽象方法\n",
    "    - 假定子类没有实现所有继承的抽象方法，则子类也不能实例化\n",
    "    - 抽象类的主要作用是设定类的标准，以便于开发的时候具有统一的规范"
   ]
  },
  {
   "cell_type": "code",
   "execution_count": 8,
   "metadata": {},
   "outputs": [
    {
     "name": "stdout",
     "output_type": "stream",
     "text": [
      "闻下对方\n",
      "Kiss\n"
     ]
    }
   ],
   "source": [
    "# 抽象\n",
    "class Animal():\n",
    "    \n",
    "    def sayHello(self):\n",
    "        pass\n",
    "        \n",
    "class Dog(Animal):\n",
    "    \n",
    "    def sayHello(self):\n",
    "        print('闻下对方')\n",
    "\n",
    "class Person(Animal):\n",
    "    \n",
    "    def sayHello(self):\n",
    "        print('Kiss')\n",
    "        \n",
    "d = Dog()\n",
    "d.sayHello()\n",
    "\n",
    "p = Person()\n",
    "p.sayHello()"
   ]
  },
  {
   "cell_type": "code",
   "execution_count": 9,
   "metadata": {},
   "outputs": [],
   "source": [
    "# 抽象类的实现\n",
    "\n",
    "import abc\n",
    "\n",
    "# 声明一个类并且指定当前类的元素\n",
    "class Human(metaclass=abc.ABCMeta):\n",
    "    \n",
    "    # 定义一个抽象的方法\n",
    "    @abc.abstractmethod\n",
    "    def smoking(self):\n",
    "        pass\n",
    "    \n",
    "    # 定义类抽象方法\n",
    "    @abc.abstractclassmethod\n",
    "    def drink():\n",
    "        pass\n",
    "    \n",
    "    # 定义类抽象方法\n",
    "    @abc.abstractclassmethod\n",
    "    def play():\n",
    "        pass\n",
    "    \n",
    "    def sleep(self):\n",
    "        print('Sleeping......')"
   ]
  },
  {
   "cell_type": "code",
   "execution_count": 3,
   "metadata": {},
   "outputs": [
    {
     "name": "stdout",
     "output_type": "stream",
     "text": [
      "刘大拿\n"
     ]
    }
   ],
   "source": [
    "## 变量的三种用法\n",
    "\n",
    "class A():\n",
    "    def __init__(self):\n",
    "        self.name = 'haha'\n",
    "        self.age = 18\n",
    "        \n",
    "a = A()\n",
    "\n",
    "# 属性的三种用法\n",
    "# 1.赋值\n",
    "# 2.读取\n",
    "# 3.删除\n",
    "a.name = '刘大拿'\n",
    "print(a.name)\n",
    "del a.name\n",
    "# print(a.name)"
   ]
  },
  {
   "cell_type": "code",
   "execution_count": 5,
   "metadata": {},
   "outputs": [
    {
     "name": "stdout",
     "output_type": "stream",
     "text": [
      "haha\n",
      "我被读取了\n",
      "haha\n"
     ]
    }
   ],
   "source": [
    "# 类属性 property\n",
    "# 应用场景\n",
    "# 对变量除了普通的三种操作，还想增加一些附加的操作，那么可以通过property完成\n",
    "\n",
    "class A():\n",
    "    def __init__(self):\n",
    "        self.name = 'haha'\n",
    "        self.age = 18\n",
    "        \n",
    "    # 此功能，是对类变量进行读取操作的时候应该执行的函数功能\n",
    "    def fget(self):\n",
    "        print('我被读取了')\n",
    "        return self.name\n",
    "    \n",
    "    # 模拟的是对变量进行写操作的时候执行的功能\n",
    "    def fset(self, name):\n",
    "        print('我被写入了，但是还可以做好多事')\n",
    "        self.name = '好好学习' + name\n",
    "        \n",
    "    # fdel 模拟的是删除变量的时候进行的操作\n",
    "    def fdel(self):\n",
    "        pass\n",
    "    \n",
    "    # property的四个参数顺序是固定的\n",
    "    # 第一个参数代表读取的时候需要调用的函数\n",
    "    # 第二个参数代表写入的时候需要调用的函数\n",
    "    # 第三个是删除\n",
    "    name2 = property(fget, fset, fdel, '这是一个property的例子')\n",
    "    \n",
    "a = A()\n",
    "print(a.name)\n",
    "\n",
    "print(a.name2)"
   ]
  },
  {
   "cell_type": "markdown",
   "metadata": {},
   "source": [
    "## 自定义类\n",
    "- 类其实是一个类定义和各种方法的自由组合\n",
    "- 可以定义类和函数，然后自己通过类直接赋值\n",
    "- 可以借助于MethodType实现\n",
    "- 借助于type实现\n",
    "- 利用元类实现 MetaClass\n",
    "    - 元类是类\n",
    "    - 备用来创造别的类"
   ]
  },
  {
   "cell_type": "code",
   "execution_count": 12,
   "metadata": {},
   "outputs": [
    {
     "name": "stdout",
     "output_type": "stream",
     "text": [
      "yueyue 你好啊\n",
      "yueyue 你好啊\n"
     ]
    }
   ],
   "source": [
    "# 函数名可以当变量使用\n",
    "\n",
    "def sayHello(name):\n",
    "    print('{0} 你好啊'.format(name))\n",
    "    \n",
    "sayHello('yueyue')\n",
    "\n",
    "liu = sayHello\n",
    "\n",
    "liu('yueyue')"
   ]
  },
  {
   "cell_type": "code",
   "execution_count": 13,
   "metadata": {},
   "outputs": [
    {
     "name": "stdout",
     "output_type": "stream",
     "text": [
      "Saying....\n",
      "Saying....\n",
      "Saying....\n"
     ]
    }
   ],
   "source": [
    "# 自己组装一个类\n",
    "\n",
    "class A():\n",
    "    pass\n",
    "\n",
    "def say(self):\n",
    "    print('Saying....')\n",
    "    \n",
    "class B():\n",
    "    def say(self):\n",
    "        print('Saying....')\n",
    "    \n",
    "say(9)\n",
    "\n",
    "A.say = say\n",
    "\n",
    "a = A()\n",
    "a.say()\n",
    "\n",
    "b = B()\n",
    "b.say()"
   ]
  },
  {
   "cell_type": "code",
   "execution_count": 14,
   "metadata": {},
   "outputs": [
    {
     "name": "stdout",
     "output_type": "stream",
     "text": [
      "Saying....\n"
     ]
    }
   ],
   "source": [
    "# 组装类例子 -- 2\n",
    "from types import MethodType\n",
    "\n",
    "class A():\n",
    "    pass\n",
    "\n",
    "def say(self):\n",
    "    print('Saying....')\n",
    "    \n",
    "a = A()\n",
    "a.say = MethodType(say, A)\n",
    "a.say()\n"
   ]
  },
  {
   "cell_type": "code",
   "execution_count": 15,
   "metadata": {},
   "outputs": [
    {
     "name": "stdout",
     "output_type": "stream",
     "text": [
      "Help on class method in module builtins:\n",
      "\n",
      "class method(object)\n",
      " |  method(function, instance)\n",
      " |  \n",
      " |  Create a bound instance method object.\n",
      " |  \n",
      " |  Methods defined here:\n",
      " |  \n",
      " |  __call__(self, /, *args, **kwargs)\n",
      " |      Call self as a function.\n",
      " |  \n",
      " |  __delattr__(self, name, /)\n",
      " |      Implement delattr(self, name).\n",
      " |  \n",
      " |  __eq__(self, value, /)\n",
      " |      Return self==value.\n",
      " |  \n",
      " |  __ge__(self, value, /)\n",
      " |      Return self>=value.\n",
      " |  \n",
      " |  __get__(self, instance, owner, /)\n",
      " |      Return an attribute of instance, which is of type owner.\n",
      " |  \n",
      " |  __getattribute__(self, name, /)\n",
      " |      Return getattr(self, name).\n",
      " |  \n",
      " |  __gt__(self, value, /)\n",
      " |      Return self>value.\n",
      " |  \n",
      " |  __hash__(self, /)\n",
      " |      Return hash(self).\n",
      " |  \n",
      " |  __le__(self, value, /)\n",
      " |      Return self<=value.\n",
      " |  \n",
      " |  __lt__(self, value, /)\n",
      " |      Return self<value.\n",
      " |  \n",
      " |  __ne__(self, value, /)\n",
      " |      Return self!=value.\n",
      " |  \n",
      " |  __new__(*args, **kwargs) from builtins.type\n",
      " |      Create and return a new object.  See help(type) for accurate signature.\n",
      " |  \n",
      " |  __reduce__(...)\n",
      " |      helper for pickle\n",
      " |  \n",
      " |  __repr__(self, /)\n",
      " |      Return repr(self).\n",
      " |  \n",
      " |  __setattr__(self, name, value, /)\n",
      " |      Implement setattr(self, name, value).\n",
      " |  \n",
      " |  ----------------------------------------------------------------------\n",
      " |  Data descriptors defined here:\n",
      " |  \n",
      " |  __func__\n",
      " |      the function (or other callable) implementing a method\n",
      " |  \n",
      " |  __self__\n",
      " |      the instance to which a method is bound\n",
      "\n"
     ]
    }
   ],
   "source": [
    "help(MethodType)"
   ]
  },
  {
   "cell_type": "code",
   "execution_count": 17,
   "metadata": {},
   "outputs": [
    {
     "name": "stdout",
     "output_type": "stream",
     "text": [
      "Help on class type in module builtins:\n",
      "\n",
      "class type(object)\n",
      " |  type(object_or_name, bases, dict)\n",
      " |  type(object) -> the object's type\n",
      " |  type(name, bases, dict) -> a new type\n",
      " |  \n",
      " |  Methods defined here:\n",
      " |  \n",
      " |  __call__(self, /, *args, **kwargs)\n",
      " |      Call self as a function.\n",
      " |  \n",
      " |  __delattr__(self, name, /)\n",
      " |      Implement delattr(self, name).\n",
      " |  \n",
      " |  __dir__(...)\n",
      " |      __dir__() -> list\n",
      " |      specialized __dir__ implementation for types\n",
      " |  \n",
      " |  __getattribute__(self, name, /)\n",
      " |      Return getattr(self, name).\n",
      " |  \n",
      " |  __init__(self, /, *args, **kwargs)\n",
      " |      Initialize self.  See help(type(self)) for accurate signature.\n",
      " |  \n",
      " |  __instancecheck__(...)\n",
      " |      __instancecheck__() -> bool\n",
      " |      check if an object is an instance\n",
      " |  \n",
      " |  __new__(*args, **kwargs)\n",
      " |      Create and return a new object.  See help(type) for accurate signature.\n",
      " |  \n",
      " |  __prepare__(...)\n",
      " |      __prepare__() -> dict\n",
      " |      used to create the namespace for the class statement\n",
      " |  \n",
      " |  __repr__(self, /)\n",
      " |      Return repr(self).\n",
      " |  \n",
      " |  __setattr__(self, name, value, /)\n",
      " |      Implement setattr(self, name, value).\n",
      " |  \n",
      " |  __sizeof__(...)\n",
      " |      __sizeof__() -> int\n",
      " |      return memory consumption of the type object\n",
      " |  \n",
      " |  __subclasscheck__(...)\n",
      " |      __subclasscheck__() -> bool\n",
      " |      check if a class is a subclass\n",
      " |  \n",
      " |  __subclasses__(...)\n",
      " |      __subclasses__() -> list of immediate subclasses\n",
      " |  \n",
      " |  mro(...)\n",
      " |      mro() -> list\n",
      " |      return a type's method resolution order\n",
      " |  \n",
      " |  ----------------------------------------------------------------------\n",
      " |  Data descriptors defined here:\n",
      " |  \n",
      " |  __abstractmethods__\n",
      " |  \n",
      " |  __dict__\n",
      " |  \n",
      " |  __text_signature__\n",
      " |  \n",
      " |  ----------------------------------------------------------------------\n",
      " |  Data and other attributes defined here:\n",
      " |  \n",
      " |  __base__ = <class 'object'>\n",
      " |      The most base type\n",
      " |  \n",
      " |  __bases__ = (<class 'object'>,)\n",
      " |  \n",
      " |  __basicsize__ = 864\n",
      " |  \n",
      " |  __dictoffset__ = 264\n",
      " |  \n",
      " |  __flags__ = 2148291584\n",
      " |  \n",
      " |  __itemsize__ = 40\n",
      " |  \n",
      " |  __mro__ = (<class 'type'>, <class 'object'>)\n",
      " |  \n",
      " |  __weakrefoffset__ = 368\n",
      "\n"
     ]
    }
   ],
   "source": [
    "help(type)"
   ]
  },
  {
   "cell_type": "code",
   "execution_count": 18,
   "metadata": {},
   "outputs": [
    {
     "name": "stdout",
     "output_type": "stream",
     "text": [
      "Saying......\n",
      "Talking......\n"
     ]
    }
   ],
   "source": [
    "# 利用type造一个类\n",
    "\n",
    "# 先定义类应该具有的成员函数\n",
    "\n",
    "def say(self):\n",
    "    print('Saying......')\n",
    "    \n",
    "def talk(self):\n",
    "    print('Talking......')\n",
    "    \n",
    "# 用type来创建一个类\n",
    "A = type('AName', (object, ), {'class_say': say, 'class_talk': talk})\n",
    "\n",
    "# 然后可以像正常访问一样使用类\n",
    "a = A()\n",
    "\n",
    "a.class_say()\n",
    "\n",
    "a.class_talk()"
   ]
  },
  {
   "cell_type": "code",
   "execution_count": 24,
   "metadata": {},
   "outputs": [
    {
     "name": "stdout",
     "output_type": "stream",
     "text": [
      "哈哈，我是元类啊\n"
     ]
    },
    {
     "data": {
      "text/plain": [
       "'小小鹿'"
      ]
     },
     "execution_count": 24,
     "metadata": {},
     "output_type": "execute_result"
    }
   ],
   "source": [
    "# 元类演示\n",
    "\n",
    "# 元类写法是固定的，必须继承自type\n",
    "# 元类一般命名以MetaClass结尾\n",
    "class TulingMetaClass(type):\n",
    "    # 注意以下写法\n",
    "    def __new__(cls, name, bases, attrs):\n",
    "        # 自己业务处理\n",
    "        print('哈哈，我是元类啊')\n",
    "        attrs['id'] = '00001'\n",
    "        attrs['addr'] = '小小鹿'\n",
    "        return type.__new__(cls, name, bases, attrs)\n",
    "    \n",
    "# 元类定义完就可以使用，使用注意写法\n",
    "class Teacher(object, metaclass=TulingMetaClass):\n",
    "    pass\n",
    "\n",
    "t = Teacher()\n",
    "\n",
    "t.id\n",
    "t.addr"
   ]
  }
 ],
 "metadata": {
  "kernelspec": {
   "display_name": "Python 3",
   "language": "python",
   "name": "python3"
  },
  "language_info": {
   "codemirror_mode": {
    "name": "ipython",
    "version": 3
   },
   "file_extension": ".py",
   "mimetype": "text/x-python",
   "name": "python",
   "nbconvert_exporter": "python",
   "pygments_lexer": "ipython3",
   "version": "3.6.7"
  }
 },
 "nbformat": 4,
 "nbformat_minor": 2
}

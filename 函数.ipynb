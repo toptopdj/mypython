{
 "cells": [
  {
   "cell_type": "markdown",
   "metadata": {},
   "source": [
    "# while循环\n",
    "- 一个循环语句\n",
    "- 表示当某条件成立的时候，就循环\n",
    "- 不知道具体循环次数，但能确定循环的成立条件的时候用while循环\n",
    "- while语法:\n",
    "    \n",
    "    while 条件表达式:\n",
    "        语句块"
   ]
  },
  {
   "cell_type": "code",
   "execution_count": 1,
   "metadata": {},
   "outputs": [
    {
     "name": "stdout",
     "output_type": "stream",
     "text": [
      "第 1 年拿了 106700.0 块钱\n",
      "第 2 年拿了 113848.9 块钱\n",
      "第 3 年拿了 121476.77629999998 块钱\n",
      "第 4 年拿了 129615.72031209998 块钱\n",
      "第 5 年拿了 138299.97357301068 块钱\n",
      "第 6 年拿了 147566.07180240238 块钱\n",
      "第 7 年拿了 157452.99861316333 块钱\n",
      "第 8 年拿了 168002.34952024528 块钱\n",
      "第 9 年拿了 179258.5069381017 块钱\n",
      "第 10 年拿了 191268.8269029545 块钱\n",
      "第 11 年拿了 204083.83830545243 块钱\n"
     ]
    }
   ],
   "source": [
    "# 如果说年利率是6.7%，本利是每年翻滚，则多少年后本钱会翻倍\n",
    "\n",
    "benqian = 100000\n",
    "year = 0\n",
    "while benqian < 200000:\n",
    "    benqian = benqian*(1 + 0.067)\n",
    "    year += 1\n",
    "    print(\"第 {0} 年拿了 {1} 块钱\".format(year, benqian))"
   ]
  },
  {
   "cell_type": "markdown",
   "metadata": {},
   "source": [
    "    # 另一种表达方式\n",
    "        while 条件:\n",
    "            语句块\n",
    "        else:\n",
    "            语句块"
   ]
  },
  {
   "cell_type": "code",
   "execution_count": 2,
   "metadata": {},
   "outputs": [
    {
     "name": "stdout",
     "output_type": "stream",
     "text": [
      "第 1 年拿了 106700.0 块钱\n",
      "第 2 年拿了 113848.9 块钱\n",
      "第 3 年拿了 121476.77629999998 块钱\n",
      "第 4 年拿了 129615.72031209998 块钱\n",
      "第 5 年拿了 138299.97357301068 块钱\n",
      "第 6 年拿了 147566.07180240238 块钱\n",
      "第 7 年拿了 157452.99861316333 块钱\n",
      "第 8 年拿了 168002.34952024528 块钱\n",
      "第 9 年拿了 179258.5069381017 块钱\n",
      "第 10 年拿了 191268.8269029545 块钱\n",
      "第 11 年拿了 204083.83830545243 块钱\n",
      "终于翻倍了\n"
     ]
    }
   ],
   "source": [
    "# 如果说年利率是6.7%，本利是每年翻滚，则多少年后本钱会翻倍\n",
    "\n",
    "benqian = 100000\n",
    "year = 0\n",
    "while benqian < 200000:\n",
    "    benqian = benqian*(1 + 0.067)\n",
    "    year += 1\n",
    "    print(\"第 {0} 年拿了 {1} 块钱\".format(year, benqian))\n",
    "else:\n",
    "    print(\"终于翻倍了\")"
   ]
  },
  {
   "cell_type": "markdown",
   "metadata": {},
   "source": [
    "# 函数\n",
    "- 代码的一种组织形式\n",
    "- 一个函数一般完成一项特定的功能\n",
    "- 函数使用\n",
    "    - 函数需要先定义\n",
    "    - 使用函数，俗称调用"
   ]
  },
  {
   "cell_type": "code",
   "execution_count": 4,
   "metadata": {},
   "outputs": [
    {
     "name": "stdout",
     "output_type": "stream",
     "text": [
      "我是一个函数\n"
     ]
    }
   ],
   "source": [
    "# 定义一个函数\n",
    "# 只是定义的话不会执行\n",
    "# 1. def关键字，后跟一个空格\n",
    "# 2. 函数名，自定义，起名需要遵循便令命名规则，大驼峰命名只给类用\n",
    "# 3. 后面括号和冒号不能省，括号内可以有参数\n",
    "# 4. 函数内所有代码缩进\n",
    "\n",
    "def func():\n",
    "    print(\"我是一个函数\")\n",
    "    \n",
    "# 函数的调用\n",
    "# 直接函数名后面跟括号\n",
    "\n",
    "func()"
   ]
  },
  {
   "cell_type": "markdown",
   "metadata": {},
   "source": [
    "# 函数的参数和返回值\n",
    "- 参数：负责给函数传递一些必要的数据或者信息\n",
    "    - 形参（形式参数）：在函数定义的时候用到的参数没有具体值，只是一个占位符，称为形参\n",
    "    - 实参（实际参数）：在调用函数的时候输入的值\n",
    "- 返回值：函数的执行结果\n",
    "    - 使用return关键字\n",
    "    - 如果没有return，则默认返回一个None\n",
    "    - 函数一旦执行return语句，则无条件返回即结束函数的执行"
   ]
  },
  {
   "cell_type": "code",
   "execution_count": 5,
   "metadata": {},
   "outputs": [
    {
     "name": "stdout",
     "output_type": "stream",
     "text": [
      "Gavin , 你肿么了\n",
      "Sir\n"
     ]
    }
   ],
   "source": [
    "# 参数的定义和使用\n",
    "# 参数person只是一个符号，代表的是调用的时候的某一个数据\n",
    "# 调用的时候，会用其他值代替函数中的person\n",
    "def hello(person):\n",
    "    print(\"{0} , 你肿么了\".format(person))\n",
    "    print(\"Sir\")\n",
    "    \n",
    "hello(\"Gavin\")"
   ]
  },
  {
   "cell_type": "code",
   "execution_count": 6,
   "metadata": {},
   "outputs": [
    {
     "name": "stdout",
     "output_type": "stream",
     "text": [
      "Gavin , 你肿么了\n",
      "Sir\n",
      "我已经跟Gavin打过招呼了，Gavin不理我\n"
     ]
    }
   ],
   "source": [
    "# return语句的基本使用\n",
    "# 函数打完招呼后返回一句话\n",
    "def hello(person):\n",
    "    print(\"{0} , 你肿么了\".format(person))\n",
    "    print(\"Sir\")\n",
    "    \n",
    "    return \"我已经跟{0}打过招呼了，{1}不理我\".format(person,person)\n",
    "\n",
    "\n",
    "res = hello(\"Gavin\")\n",
    "\n",
    "print(res)    "
   ]
  },
  {
   "cell_type": "code",
   "execution_count": 7,
   "metadata": {},
   "outputs": [
    {
     "name": "stdout",
     "output_type": "stream",
     "text": [
      "Gavin , 你肿么了\n",
      "提前结束\n"
     ]
    }
   ],
   "source": [
    "# return语句的基本使用\n",
    "# 函数打完招呼后返回一句话\n",
    "def hello(person):\n",
    "    print(\"{0} , 你肿么了\".format(person))\n",
    "    return \"提前结束\"\n",
    "    print(\"Sir\")    \n",
    "    return \"我已经跟{0}打过招呼了，{1}不理我\".format(person,person)\n",
    "\n",
    "\n",
    "res = hello(\"Gavin\")\n",
    "print(res)    "
   ]
  },
  {
   "cell_type": "code",
   "execution_count": 15,
   "metadata": {},
   "outputs": [
    {
     "name": "stdout",
     "output_type": "stream",
     "text": [
      "1 * 1 = 1 \r\n",
      "1 * 2 = 2 2 * 2 = 4 \r\n",
      "1 * 3 = 3 2 * 3 = 6 3 * 3 = 9 \r\n",
      "1 * 4 = 4 2 * 4 = 8 3 * 4 = 12 4 * 4 = 16 \r\n",
      "1 * 5 = 5 2 * 5 = 10 3 * 5 = 15 4 * 5 = 20 5 * 5 = 25 \r\n",
      "1 * 6 = 6 2 * 6 = 12 3 * 6 = 18 4 * 6 = 24 5 * 6 = 30 6 * 6 = 36 \r\n",
      "1 * 7 = 7 2 * 7 = 14 3 * 7 = 21 4 * 7 = 28 5 * 7 = 35 6 * 7 = 42 7 * 7 = 49 \r\n",
      "1 * 8 = 8 2 * 8 = 16 3 * 8 = 24 4 * 8 = 32 5 * 8 = 40 6 * 8 = 48 7 * 8 = 56 8 * 8 = 64 \r\n",
      "1 * 9 = 9 2 * 9 = 18 3 * 9 = 27 4 * 9 = 36 5 * 9 = 45 6 * 9 = 54 7 * 9 = 63 8 * 9 = 72 9 * 9 = 81 \r\n"
     ]
    }
   ],
   "source": [
    "# 九九乘法表\n",
    "# while循环(不建议使用)\n",
    "i = 1\n",
    "while i < 10:\n",
    "    j = 1\n",
    "    while j <= i:\n",
    "        print(\"{0} * {1} =\".format(j, i), j * i, end=' ')\n",
    "        j += 1\n",
    "    print('\\r')\n",
    "    i += 1"
   ]
  },
  {
   "cell_type": "code",
   "execution_count": 17,
   "metadata": {},
   "outputs": [
    {
     "name": "stdout",
     "output_type": "stream",
     "text": [
      "1 * 1 = 1 \r\n",
      "1 * 2 = 2 2 * 2 = 4 \r\n",
      "1 * 3 = 3 2 * 3 = 6 3 * 3 = 9 \r\n",
      "1 * 4 = 4 2 * 4 = 8 3 * 4 = 12 4 * 4 = 16 \r\n",
      "1 * 5 = 5 2 * 5 = 10 3 * 5 = 15 4 * 5 = 20 5 * 5 = 25 \r\n",
      "1 * 6 = 6 2 * 6 = 12 3 * 6 = 18 4 * 6 = 24 5 * 6 = 30 6 * 6 = 36 \r\n",
      "1 * 7 = 7 2 * 7 = 14 3 * 7 = 21 4 * 7 = 28 5 * 7 = 35 6 * 7 = 42 7 * 7 = 49 \r\n",
      "1 * 8 = 8 2 * 8 = 16 3 * 8 = 24 4 * 8 = 32 5 * 8 = 40 6 * 8 = 48 7 * 8 = 56 8 * 8 = 64 \r\n",
      "1 * 9 = 9 2 * 9 = 18 3 * 9 = 27 4 * 9 = 36 5 * 9 = 45 6 * 9 = 54 7 * 9 = 63 8 * 9 = 72 9 * 9 = 81 \r\n"
     ]
    }
   ],
   "source": [
    "# 九九乘法表\n",
    "# for循环\n",
    "for i in range(1, 10):\n",
    "    for j in range(1, i + 1):\n",
    "        print(\"{0} * {1} =\".format(j, i), j * i, end=' ')\n",
    "    print(\"\\r\")"
   ]
  },
  {
   "cell_type": "code",
   "execution_count": 19,
   "metadata": {},
   "outputs": [
    {
     "name": "stdout",
     "output_type": "stream",
     "text": [
      "1 * 1 = 1 \r\n",
      "1 * 2 = 2 2 * 2 = 4 \r\n",
      "1 * 3 = 3 2 * 3 = 6 3 * 3 = 9 \r\n",
      "1 * 4 = 4 2 * 4 = 8 3 * 4 = 12 4 * 4 = 16 \r\n",
      "1 * 5 = 5 2 * 5 = 10 3 * 5 = 15 4 * 5 = 20 5 * 5 = 25 \r\n",
      "1 * 6 = 6 2 * 6 = 12 3 * 6 = 18 4 * 6 = 24 5 * 6 = 30 6 * 6 = 36 \r\n",
      "1 * 7 = 7 2 * 7 = 14 3 * 7 = 21 4 * 7 = 28 5 * 7 = 35 6 * 7 = 42 7 * 7 = 49 \r\n",
      "1 * 8 = 8 2 * 8 = 16 3 * 8 = 24 4 * 8 = 32 5 * 8 = 40 6 * 8 = 48 7 * 8 = 56 8 * 8 = 64 \r\n",
      "1 * 9 = 9 2 * 9 = 18 3 * 9 = 27 4 * 9 = 36 5 * 9 = 45 6 * 9 = 54 7 * 9 = 63 8 * 9 = 72 9 * 9 = 81 \r\n"
     ]
    }
   ],
   "source": [
    "# 九九乘法表封装为函数\n",
    "\n",
    "def printLine(row):\n",
    "    for i in range(1, row + 1):\n",
    "        for j in range(1, i + 1):\n",
    "            print(\"{0} * {1} =\".format(j, i), j * i, end=' ')\n",
    "        print(\"\\r\")\n",
    "    \n",
    "printLine(9)"
   ]
  },
  {
   "cell_type": "markdown",
   "metadata": {},
   "source": [
    "# 参数详解\n",
    "- [参考资料]https://www.cnblogs.com/bingabcd/p/6671368.html\n",
    "- 零基础入门学习Python（小甲鱼）\n",
    "- 参数分类\n",
    "    - 普通参数\n",
    "        - 定义的时候直接定义变量名\n",
    "        - 调用的时候直接把变量或者值放入指定位置\n",
    "        \n",
    "            def 函数名(参数1,参数2,...):\n",
    "                函数体\n",
    "                \n",
    "            #调用\n",
    "            函数名(value1, value2, ...)\n",
    "            \n",
    "            #调用的时候，具体值参考的是位置，按位置赋值\n",
    "            \n",
    "    - 默认参数\n",
    "        - 形参带有默认值\n",
    "        - 调用时，如果没有给对应形参赋值，则使用默认值\n",
    "        \n",
    "            def func_name(v1=p1, v2=p2, ...)\n",
    "                func_block\n",
    "                \n",
    "            #调用1\n",
    "            func_name()\n",
    "            \n",
    "            #调用2\n",
    "            v1 = 100\n",
    "            v2 = 200\n",
    "            func_name(v1, v2)\n"
   ]
  },
  {
   "cell_type": "code",
   "execution_count": 4,
   "metadata": {},
   "outputs": [
    {
     "name": "stdout",
     "output_type": "stream",
     "text": [
      "xiaoming is 21, and he is a good student\n",
      "xiaomei is 26, and she is a good student\n"
     ]
    }
   ],
   "source": [
    "# 默认参数示例\n",
    "# 报名函数，需要知道学生性别\n",
    "# 学习Python的学生基本都是男生，所以，\n",
    "#报名的时候如果没有特别指定，我们任务是男生\n",
    "\n",
    "def reg(name, age, gender=\"male\"):\n",
    "    if gender == \"male\":\n",
    "        print(\"{0} is {1}, and he is a good student\".format(name, age))\n",
    "    else:\n",
    "        print(\"{0} is {1}, and she is a good student\".format(name, age))\n",
    "        \n",
    "        \n",
    "# 调用\n",
    "reg(\"xiaoming\", 21)\n",
    "\n",
    "reg(\"xiaomei\", 26, \"female\")"
   ]
  },
  {
   "cell_type": "markdown",
   "metadata": {},
   "source": [
    "    - 关键字参数\n",
    "        - 语法\n",
    "            def func(p1=v1, p2=v2, ...):\n",
    "                func_body\n",
    "                \n",
    "            调用函数:\n",
    "            func(p1=v1, p2=v2, ...)\n",
    "        \n",
    "        - 比较麻烦，但也有好处\n",
    "            - 不容易混淆，一般实参和形参只是按照位置一一对应即可，容易出错\n",
    "            - 使用关键字参数，可以不考虑参数位置"
   ]
  },
  {
   "cell_type": "code",
   "execution_count": 3,
   "metadata": {},
   "outputs": [
    {
     "name": "stdout",
     "output_type": "stream",
     "text": [
      "I am a student\n",
      "我叫jingjing, 我今年18岁了， 我住我家\n",
      "==================================================\n",
      "I am a student\n",
      "我叫jingjing, 我今年18岁了， 我住我家\n"
     ]
    }
   ],
   "source": [
    "# 关键字参数案例\n",
    "def stu(name, age, addr):\n",
    "    print('I am a student')\n",
    "    print('我叫{0}, 我今年{1}岁了， 我住{2}'.format(name, age, addr))\n",
    "    \n",
    "n = 'jingjing'\n",
    "a = 18\n",
    "addr = '我家'\n",
    "\n",
    "stu(n, a, addr)\n",
    "\n",
    "print('==================================================')\n",
    "\n",
    "def stu_key(name='No name', age=0, addr=''):\n",
    "    print('I am a student')\n",
    "    print('我叫{0}, 我今年{1}岁了， 我住{2}'.format(name, age, addr))\n",
    "    \n",
    "n = 'jingjing'\n",
    "a = 18\n",
    "addr = '我家'\n",
    "\n",
    "stu(name=n, age=a, addr=addr)"
   ]
  },
  {
   "cell_type": "markdown",
   "metadata": {},
   "source": [
    "- 收集参数\n",
    "    - 把没有位置，不能和定义时的参数位置相对应的参数，放入一个特定的数据结构中\n",
    "    - 语法\n",
    "    \n",
    "        def func(*args):\n",
    "            func_body\n",
    "            按照list使用方式访问args得到传入的参数\n",
    "            \n",
    "        调用:\n",
    "        func(p1, p2, p3, ...)\n",
    "        \n",
    "    - 参数名args不是必须这么写，但是，我们推荐直接用args\n",
    "    - 参数名args前需要有星号\n",
    "    - 收集参数可以和其他参数共存"
   ]
  },
  {
   "cell_type": "code",
   "execution_count": 5,
   "metadata": {},
   "outputs": [
    {
     "name": "stdout",
     "output_type": "stream",
     "text": [
      "Hello 大家好，我自我介绍一下，简单说两句：\n",
      "<class 'tuple'>\n",
      "liuying\n",
      "18\n",
      "北京大通州\n",
      "王晓静\n",
      "single\n",
      "Hello 大家好，我自我介绍一下，简单说两句：\n",
      "<class 'tuple'>\n",
      "周大婶\n"
     ]
    }
   ],
   "source": [
    "# 收集参数代码\n",
    "# 函数模拟一个学生进行自我介绍，但具体内容不清楚\n",
    "def stu( *args ):\n",
    "    print('Hello 大家好，我自我介绍一下，简单说两句：')\n",
    "    # type函数作用是检测变量的类型\n",
    "    print(type(args))\n",
    "    for item in args:\n",
    "        print(item)\n",
    "\n",
    "stu('liuying', 18, '北京大通州', '王晓静', 'single')\n",
    "\n",
    "stu('周大婶')"
   ]
  },
  {
   "cell_type": "code",
   "execution_count": 6,
   "metadata": {},
   "outputs": [
    {
     "name": "stdout",
     "output_type": "stream",
     "text": [
      "Hello 大家好，我自我介绍一下，简单说两句：\n",
      "<class 'tuple'>\n"
     ]
    }
   ],
   "source": [
    "# 收集参数案例\n",
    "# 说明收集参数可以不带任何实参调用，此时收集参数为空tuple\n",
    "stu()"
   ]
  },
  {
   "cell_type": "code",
   "execution_count": 7,
   "metadata": {},
   "outputs": [
    {
     "ename": "TypeError",
     "evalue": "stu() got an unexpected keyword argument 'name'",
     "output_type": "error",
     "traceback": [
      "\u001b[0;31m---------------------------------------------------------------------------\u001b[0m",
      "\u001b[0;31mTypeError\u001b[0m                                 Traceback (most recent call last)",
      "\u001b[0;32m<ipython-input-7-a2efcb52eaa7>\u001b[0m in \u001b[0;36m<module>\u001b[0;34m()\u001b[0m\n\u001b[1;32m      1\u001b[0m \u001b[0;31m# 如果使用关键字参数格式调用，会出现问题\u001b[0m\u001b[0;34m\u001b[0m\u001b[0;34m\u001b[0m\u001b[0;34m\u001b[0m\u001b[0m\n\u001b[0;32m----> 2\u001b[0;31m \u001b[0mstu\u001b[0m\u001b[0;34m(\u001b[0m\u001b[0mname\u001b[0m\u001b[0;34m=\u001b[0m\u001b[0;34m'liuying'\u001b[0m\u001b[0;34m)\u001b[0m\u001b[0;34m\u001b[0m\u001b[0;34m\u001b[0m\u001b[0m\n\u001b[0m",
      "\u001b[0;31mTypeError\u001b[0m: stu() got an unexpected keyword argument 'name'"
     ]
    }
   ],
   "source": [
    "# 如果使用关键字参数格式调用，会出现问题\n",
    "stu(name='liuying')"
   ]
  },
  {
   "cell_type": "markdown",
   "metadata": {},
   "source": [
    "# 收集参数之关键字收集参数\n",
    "- 把关键字参数按字典格式存入收集参数\n",
    "- 语法\n",
    "        def func( **kwargs ):\n",
    "            func_body\n",
    "\n",
    "        #调用\n",
    "        func(p1=v1, p2=v2, ...)\n",
    "    \n",
    "    - kwargs一般约定俗成\n",
    "    - 调用的时候，把多余的关键字参数放入kwargs\n",
    "    - 访问kwargs需要按字典格式访问"
   ]
  },
  {
   "cell_type": "code",
   "execution_count": 8,
   "metadata": {},
   "outputs": [
    {
     "name": "stdout",
     "output_type": "stream",
     "text": [
      "Hello 大家好，我自我介绍一下，简单说两句：\n",
      "<class 'dict'>\n",
      "name --------- liuying\n",
      "age --------- 18\n",
      "addr --------- 北京大通州\n",
      "love --------- 王晓静\n",
      "work --------- Teacher\n",
      "********************\n",
      "Hello 大家好，我自我介绍一下，简单说两句：\n",
      "<class 'dict'>\n",
      "name --------- 周大婶\n"
     ]
    }
   ],
   "source": [
    "# 收集参数代码\n",
    "# 函数模拟一个学生进行自我介绍，但具体内容不清楚\n",
    "# 调用的时候需要使用关键字参数调用\n",
    "def stu( **kwargs ):\n",
    "    print('Hello 大家好，我自我介绍一下，简单说两句：')\n",
    "    # type函数作用是检测变量的类型\n",
    "    print(type(kwargs))\n",
    "    for k,v in kwargs.items():\n",
    "        print(k, '---------', v)\n",
    "\n",
    "stu(name='liuying', age=18, addr='北京大通州', love='王晓静', work='Teacher')\n",
    "\n",
    "print('*' * 20)\n",
    "\n",
    "stu(name='周大婶')"
   ]
  },
  {
   "cell_type": "code",
   "execution_count": 9,
   "metadata": {},
   "outputs": [
    {
     "name": "stdout",
     "output_type": "stream",
     "text": [
      "Hello 大家好，我自我介绍一下，简单说两句：\n",
      "<class 'dict'>\n"
     ]
    }
   ],
   "source": [
    "# 收集参数可为空\n",
    "stu()"
   ]
  },
  {
   "cell_type": "markdown",
   "metadata": {},
   "source": [
    "# 收集参数混合调用的顺序问题\n",
    "- 收集参数，关键字参数，普通参数可以混合使用\n",
    "- 使用规则就是，普通参数和关键字参数优先\n",
    "- 定义的时候一般找普通参数，关键字参数，收集参数tuple，收集参数dict"
   ]
  },
  {
   "cell_type": "code",
   "execution_count": 16,
   "metadata": {},
   "outputs": [
    {
     "name": "stdout",
     "output_type": "stream",
     "text": [
      "Hello 大家好，我自我介绍一下，简单说两句：\n",
      "我叫liuying, 我今年18岁了\n",
      "我的爱好是游泳\n",
      "==================================================\n",
      "王晓静\n",
      "single\n",
      "==================================================\n",
      "Hello 大家好，我自我介绍一下，简单说两句：\n",
      "我叫liuying, 我今年18岁了\n",
      "我的爱好是游泳\n",
      "==================================================\n",
      "王晓静\n",
      "single\n",
      "==================================================\n",
      "g1 ------------- male\n",
      "g2 ------------- female\n"
     ]
    }
   ],
   "source": [
    "# 收集参数混合调用案例\n",
    "# 函数模拟一个学生进行自我介绍，但具体内容不清楚\n",
    "def stu(name, age, hobby='没有', *args, **kwargs):\n",
    "    print('Hello 大家好，我自我介绍一下，简单说两句：')\n",
    "    print('我叫{0}, 我今年{1}岁了'.format(name, age))\n",
    "    \n",
    "    if hobby == '没有':\n",
    "        print('我没有爱好')\n",
    "    else:\n",
    "        print('我的爱好是{0}'.format(hobby))\n",
    "        \n",
    "    print('=' * 50)\n",
    "    \n",
    "    for i in args:\n",
    "        print(i)\n",
    "        \n",
    "    print('=' * 50)\n",
    "    \n",
    "    for k,v in kwargs.items():\n",
    "        print(k, '-------------', v)\n",
    "\n",
    "stu('liuying', 18, '游泳', '王晓静', 'single')\n",
    "\n",
    "stu('liuying', 18, '游泳', '王晓静', 'single', g1='male', g2='female')"
   ]
  },
  {
   "cell_type": "markdown",
   "metadata": {},
   "source": [
    "# 收集参数的解包问题\n",
    "- 把参数放入list中，直接把list/dict中的值放入收集参数中\n",
    "- 语法：参看案例"
   ]
  },
  {
   "cell_type": "code",
   "execution_count": 18,
   "metadata": {},
   "outputs": [
    {
     "name": "stdout",
     "output_type": "stream",
     "text": [
      "hahahahha\n",
      "['liuying', 'liuxiaoying', 19, 200]\n"
     ]
    }
   ],
   "source": [
    "# 收集参数的解包问题\n",
    "def stu(*args):\n",
    "    print('hahahahha')\n",
    "    for i in args:\n",
    "        print(i)\n",
    "        \n",
    "        \n",
    "# stu('liuying', 'liuxiaoying', 19, 200)\n",
    "\n",
    "l = ['liuying', 'liuxiaoying', 19, 200]\n",
    "stu(l)"
   ]
  },
  {
   "cell_type": "code",
   "execution_count": 19,
   "metadata": {},
   "outputs": [
    {
     "name": "stdout",
     "output_type": "stream",
     "text": [
      "hahahahha\n",
      "liuying\n",
      "liuxiaoying\n",
      "19\n",
      "200\n"
     ]
    }
   ],
   "source": [
    "stu(*l)"
   ]
  },
  {
   "cell_type": "markdown",
   "metadata": {},
   "source": [
    "- dict类型收集参数一样可以解包\n",
    "    - 对dict类型进行解包\n",
    "    - 需要用两个星号进行解包\n",
    "    \n",
    "\n",
    "# 返回值\n",
    "- 函数和过程的区别\n",
    "    - 有无返回值\n",
    "- 需要用return显示返回内容\n",
    "- 如果没有返回，则默认返回None\n",
    "- 推荐写法，无论有无返回值，最后都要以return结束"
   ]
  },
  {
   "cell_type": "code",
   "execution_count": 22,
   "metadata": {},
   "outputs": [
    {
     "name": "stdout",
     "output_type": "stream",
     "text": [
      "有返回值\n",
      "1\n",
      "没有返回值\n",
      "None\n"
     ]
    }
   ],
   "source": [
    "# 返回值示例\n",
    "\n",
    "def func_1():\n",
    "    print('有返回值')\n",
    "    return 1\n",
    "\n",
    "def func_2():\n",
    "    print('没有返回值')\n",
    "    \n",
    "f1 = func_1()\n",
    "print(f1)\n",
    "\n",
    "f2 = func_2()\n",
    "print(f2)"
   ]
  },
  {
   "cell_type": "markdown",
   "metadata": {},
   "source": [
    "# 函数文档\n",
    "- 函数的文档的作用是对当前函数提供使用相关的参数信息\n",
    "- 文档的写法：\n",
    "    - 在函数内部开始的第一行使用三字符串定义符\n",
    "    - 一般具有特定格式\n",
    "    - 参看案例\n",
    "- 文档查看\n",
    "    - 使用help函数，形如help(func)\n",
    "    - 使用__doc__，参看案例"
   ]
  },
  {
   "cell_type": "code",
   "execution_count": 28,
   "metadata": {},
   "outputs": [],
   "source": [
    "# 文档案例\n",
    "# 函数stu是模拟一个学生的自我介绍的内容\n",
    "\n",
    "def stu(name, age, *args):\n",
    "    '''\n",
    "    这是文档\n",
    "    第二行\n",
    "    第三行\n",
    "    '''\n",
    "    print('This is hanshu stu')"
   ]
  },
  {
   "cell_type": "code",
   "execution_count": 29,
   "metadata": {},
   "outputs": [
    {
     "name": "stdout",
     "output_type": "stream",
     "text": [
      "Help on function stu in module __main__:\n",
      "\n",
      "stu(name, age, *args)\n",
      "    这是文档\n",
      "    第二行\n",
      "    第三行\n",
      "\n"
     ]
    },
    {
     "data": {
      "text/plain": [
       "'\\n    这是文档\\n    第二行\\n    第三行\\n    '"
      ]
     },
     "execution_count": 29,
     "metadata": {},
     "output_type": "execute_result"
    }
   ],
   "source": [
    "# 查看函数文档\n",
    "help(stu)\n",
    "stu.__doc__"
   ]
  }
 ],
 "metadata": {
  "kernelspec": {
   "display_name": "Python 3",
   "language": "python",
   "name": "python3"
  },
  "language_info": {
   "codemirror_mode": {
    "name": "ipython",
    "version": 3
   },
   "file_extension": ".py",
   "mimetype": "text/x-python",
   "name": "python",
   "nbconvert_exporter": "python",
   "pygments_lexer": "ipython3",
   "version": "3.6.7"
  }
 },
 "nbformat": 4,
 "nbformat_minor": 2
}

{
 "cells": [
  {
   "cell_type": "markdown",
   "metadata": {},
   "source": [
    "# 程序结构\n",
    "- 顺序\n",
    "- 分支\n",
    "    - 分支的基本语法\n",
    "        if 条件表达式:\n",
    "            语句1\n",
    "            语句2\n",
    "            语句3\n",
    "            ......\n",
    "    - 条件表达式就是计算结果必须为布尔值的表达式\n",
    "    - 表达式后面的冒号不能少\n",
    "    - 注意if后面的出现的语句，如果属于if语句块，则必须同一个锁紧等级\n",
    "    - 条件表达式结果为True执行if后面缩进的语句块"
   ]
  },
  {
   "cell_type": "code",
   "execution_count": 2,
   "metadata": {},
   "outputs": [
    {
     "name": "stdout",
     "output_type": "stream",
     "text": [
      "去叫家长\n",
      "我们不带你玩\n"
     ]
    }
   ],
   "source": [
    "# if语句练习\n",
    "# 如果age小于18岁，则打印信息“去叫家长”\n",
    "age = 17\n",
    "if age < 18:\n",
    "    print(\"去叫家长\")\n",
    "    print(\"我们不带你玩\")\n",
    "    "
   ]
  },
  {
   "cell_type": "code",
   "execution_count": 3,
   "metadata": {},
   "outputs": [
    {
     "name": "stdout",
     "output_type": "stream",
     "text": [
      "开始上车咯，老司机们\n"
     ]
    }
   ],
   "source": [
    "age = 19\n",
    "if age < 18:\n",
    "    print(\"去叫家长\")\n",
    "    print(\"我们不带你玩\")\n",
    "\n",
    "print(\"开始上车咯，老司机们\")"
   ]
  },
  {
   "cell_type": "markdown",
   "metadata": {},
   "source": [
    "# 双向分支\n",
    "- if...else...语句\n",
    "    \n",
    "    if 条件表达式:\n",
    "        语句1\n",
    "        语句2\n",
    "        ...\n",
    "    else:\n",
    "        语句1\n",
    "        语句2\n",
    "        ...\n",
    "- 双向分支有两个分支，当程序执行到if...else...语句的时候，一定会执行if或else中的一个，也仅执行一个\n",
    "- 缩进问题，if和else一个层级，其余语句一个层级"
   ]
  },
  {
   "cell_type": "code",
   "execution_count": 4,
   "metadata": {},
   "outputs": [
    {
     "name": "stdout",
     "output_type": "stream",
     "text": [
      "请输入性别：man\n",
      "你输入的性别是：man\n",
      "来来来，我们纪念一下今天\n",
      "开始上课咯\n"
     ]
    }
   ],
   "source": [
    "# input的作用\n",
    "# 1.在屏幕上输出括号内的字符串\n",
    "# 2.接受用户输入的内容并返回到程序\n",
    "# 3.input返回的内容一定是字符串类型\n",
    "gender = input(\"请输入性别：\")\n",
    "print(\"你输入的性别是：{0}\".format(gender))\n",
    "\n",
    "if gender == \"man\":\n",
    "    print(\"来来来，我们纪念一下今天\")\n",
    "else:\n",
    "    print(\"发糖咯\")\n",
    "    \n",
    "print(\"开始上课咯\")"
   ]
  },
  {
   "cell_type": "code",
   "execution_count": 7,
   "metadata": {},
   "outputs": [
    {
     "name": "stdout",
     "output_type": "stream",
     "text": [
      "请输入学生成绩:78\n",
      "中\n"
     ]
    }
   ],
   "source": [
    "# 考试成绩判断\n",
    "# 90以上：优秀\n",
    "# 80-90：良\n",
    "# 70-80：中\n",
    "# 60-70：平\n",
    "# 60以下：需要努力\n",
    "\n",
    "score = int(input(\"请输入学生成绩:\"))\n",
    "\n",
    "if score >= 90:\n",
    "    print(\"优秀\")\n",
    "if score >= 80 and score < 90:\n",
    "    print(\"良\")\n",
    "if score >= 70 and score < 80:\n",
    "    print(\"中\")\n",
    "if score >= 60 and score < 70:\n",
    "    print(\"平\")\n",
    "if score < 60:\n",
    "    print(\"需要努力\")\n",
    "    "
   ]
  },
  {
   "cell_type": "markdown",
   "metadata": {},
   "source": [
    "# 多路分支\n",
    "- 很多分支的情况，简称多路分支\n",
    "\n",
    "    if 条件表达式:\n",
    "        语句1\n",
    "        ...\n",
    "    elif 条件表达式:\n",
    "        语句1\n",
    "        ...\n",
    "    ......\n",
    "    else:\n",
    "        语句1\n",
    "        ...\n",
    "    \n",
    "- elif 可以有很多个\n",
    "- else 可选\n",
    "- 多路分支只会选一个执行"
   ]
  },
  {
   "cell_type": "code",
   "execution_count": 8,
   "metadata": {},
   "outputs": [
    {
     "name": "stdout",
     "output_type": "stream",
     "text": [
      "请输入学生成绩:86\n",
      "良\n"
     ]
    }
   ],
   "source": [
    "# 考试成绩判断\n",
    "# 90以上：优秀\n",
    "# 80-90：良\n",
    "# 70-80：中\n",
    "# 60-70：平\n",
    "# 60以下：需要努力\n",
    "\n",
    "score = input(\"请输入学生成绩:\")\n",
    "score = int(score)\n",
    "\n",
    "if score >= 90:\n",
    "    print(\"优秀\")\n",
    "elif score >= 80:\n",
    "    print(\"良\")\n",
    "elif score >= 70:\n",
    "    print(\"中\")\n",
    "elif score >= 60:\n",
    "    print(\"平\")\n",
    "else:\n",
    "    print(\"需要努力\")"
   ]
  },
  {
   "cell_type": "markdown",
   "metadata": {},
   "source": [
    "# if 语句其他\n",
    "- if语句可以嵌套使用，但不推荐\n",
    "- Python中没有switch-case语句"
   ]
  },
  {
   "cell_type": "markdown",
   "metadata": {},
   "source": [
    "# 循环语句\n",
    "- 重复执行某些固定动作或者处理基本固定的事物\n",
    "- 分类\n",
    "    - for循环\n",
    "    \n",
    "        for 变量 in 序列:\n",
    "            语句1\n",
    "            语句2\n",
    "            ..."
   ]
  },
  {
   "cell_type": "code",
   "execution_count": 9,
   "metadata": {},
   "outputs": [
    {
     "name": "stdout",
     "output_type": "stream",
     "text": [
      "zhangsan\n",
      "lisi\n",
      "wangwu\n",
      "jingjing\n"
     ]
    }
   ],
   "source": [
    "# 列表就是一列数字或者其他值，一般用中括号表示\n",
    "# 例如 ['zhangsan', 'lisi', 'wangwu', 'jingjing']\n",
    "\n",
    "# 打印学生列表名\n",
    "list = ['zhangsan', 'lisi', 'wangwu', 'jingjing']\n",
    "for name in list:\n",
    "    print(name)"
   ]
  },
  {
   "cell_type": "code",
   "execution_count": 10,
   "metadata": {},
   "outputs": [
    {
     "name": "stdout",
     "output_type": "stream",
     "text": [
      "zhangsan\n",
      "我们不约\n",
      "lisi\n",
      "我们不约\n",
      "wangwu\n",
      "我们不约\n",
      "jingjing\n",
      "我的最爱jingjing出现了\n"
     ]
    }
   ],
   "source": [
    "# 打印学生列表名\n",
    "# 如果是jingjing，那肯定是最爱啊\n",
    "# 如果是别的学生，那就拒绝\n",
    "list = ['zhangsan', 'lisi', 'wangwu', 'jingjing']\n",
    "for name in list:\n",
    "    print(name)\n",
    "    if name == \"jingjing\":\n",
    "        print(\"我的最爱{0}出现了\".format(name))\n",
    "    else:\n",
    "        print(\"我们不约\")"
   ]
  },
  {
   "cell_type": "markdown",
   "metadata": {},
   "source": [
    "# range介绍\n",
    "- 生成一个数字序列\n",
    "- 具体范围可以设定"
   ]
  },
  {
   "cell_type": "code",
   "execution_count": 11,
   "metadata": {},
   "outputs": [
    {
     "name": "stdout",
     "output_type": "stream",
     "text": [
      "1\n",
      "2\n",
      "3\n",
      "4\n",
      "5\n",
      "6\n",
      "7\n",
      "8\n",
      "9\n",
      "10\n"
     ]
    }
   ],
   "source": [
    "# range练习\n",
    "# 打印从1-10的数字\n",
    "# 注意，一般在Python中，如果有表示数字范围的两个数，一般是包含左边数字不包含右边数字\n",
    "# randint是特例，左右都包含\n",
    "# range函数在Python2和Python3中有严重区别\n",
    "for i in range(1, 11):\n",
    "    print(i)"
   ]
  },
  {
   "cell_type": "markdown",
   "metadata": {},
   "source": [
    "# for-else语句\n",
    "- 当for循环结束的时候，会执行else语句\n",
    "- else语句是可选语句"
   ]
  },
  {
   "cell_type": "code",
   "execution_count": 13,
   "metadata": {},
   "outputs": [
    {
     "name": "stdout",
     "output_type": "stream",
     "text": [
      "zhangsan\n",
      "我们不约\n",
      "lisi\n",
      "我们不约\n",
      "wangwu\n",
      "我们不约\n",
      "jingjing\n",
      "我的最爱jingjing出现了\n",
      "不爱了\n"
     ]
    }
   ],
   "source": [
    "# for-else语句\n",
    "# 打印学生列表名\n",
    "# 如果不在列表中，或列表结束了，则打印不再爱了\n",
    "list = ['zhangsan', 'lisi', 'wangwu', 'jingjing']\n",
    "for name in list:\n",
    "    print(name)\n",
    "    if name == \"jingjing\":\n",
    "        print(\"我的最爱{0}出现了\".format(name))\n",
    "    else:\n",
    "        print(\"我们不约\")\n",
    "else:\n",
    "    print(\"不爱了\")"
   ]
  },
  {
   "cell_type": "markdown",
   "metadata": {},
   "source": [
    "# 循环之break,continue,pass\n",
    "- break：无条件结束整个循环，简称循环猝死\n",
    "- continue：无条件结束本次循环，重新进入下一轮循环\n",
    "- pass：表示略过"
   ]
  },
  {
   "cell_type": "code",
   "execution_count": 14,
   "metadata": {},
   "outputs": [
    {
     "name": "stdout",
     "output_type": "stream",
     "text": [
      "1\n",
      "2\n",
      "3\n",
      "4\n",
      "5\n",
      "6\n",
      "我找到了\n"
     ]
    }
   ],
   "source": [
    "# 在数字1-10中，寻找数字7，一旦找到，打印出来，其余则什么都不做\n",
    "# for 循环中的变量表示，一般用i,k,m,n或者index，idx, item之类\n",
    "# Python中，如果循环变量名称不重要，可以用下划线(_)代替\n",
    "\n",
    "for i in range(1, 11):\n",
    "    if i == 7:\n",
    "        print(\"我找到了\")\n",
    "        break\n",
    "    else:\n",
    "        print(i)"
   ]
  },
  {
   "cell_type": "code",
   "execution_count": 15,
   "metadata": {},
   "outputs": [
    {
     "name": "stdout",
     "output_type": "stream",
     "text": [
      "2 是偶数\n",
      "4 是偶数\n",
      "6 是偶数\n",
      "8 是偶数\n",
      "10 是偶数\n"
     ]
    }
   ],
   "source": [
    "# 在数字1-10中，寻找所有偶数，找到后打印\n",
    "\n",
    "for i in range(1, 11):\n",
    "    if i % 2 == 0:\n",
    "        print(\"{0} 是偶数\".format(i))"
   ]
  }
 ],
 "metadata": {
  "kernelspec": {
   "display_name": "Python 3",
   "language": "python",
   "name": "python3"
  },
  "language_info": {
   "codemirror_mode": {
    "name": "ipython",
    "version": 3
   },
   "file_extension": ".py",
   "mimetype": "text/x-python",
   "name": "python",
   "nbconvert_exporter": "python",
   "pygments_lexer": "ipython3",
   "version": "3.6.7"
  }
 },
 "nbformat": 4,
 "nbformat_minor": 2
}

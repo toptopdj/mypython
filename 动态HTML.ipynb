{
 "cells": [
  {
   "cell_type": "markdown",
   "metadata": {},
   "source": [
    "# 动态HTML\n",
    "\n",
    "## 爬虫跟反爬虫\n",
    "\n",
    "## 动态HTML介绍\n",
    "- JavaScrapt\n",
    "- jQuery\n",
    "- Ajax\n",
    "- DHTML\n",
    "- Python采集动态数据\n",
    "    - 从Javascript代码入手采集\n",
    "    - Python第三方库运行JavaScript，直接采集你在浏览器看到的页面\n",
    "\n",
    "## Selenium + PhantomJS\n",
    "- Selenium: web自动化测试工具\n",
    "    - 自动加载页面\n",
    "    - 获取数据\n",
    "    - 截屏\n",
    "    - 安装： pip install selenium==2.48.0\n",
    "    - 官网： http://selenium-python.readthedocs.io/index.html\n",
    "- PhantomJS(幽灵)\n",
    "    - 基于Webkit 的无界面的浏览器 \n",
    "    - 官网： http://phantomjs.org/download.html\n",
    "- Selenium 库有有一个WebDriver的API\n",
    "- WebDriver可以跟页面上的元素进行各种交互，用它可以来进行爬取\n",
    "- 案例 v36\n",
    "- chrome + chromedriver\n",
    "    - 下载安装chrome： 下载+安装\n",
    "    - 下载安装chromedriver：\n",
    "- Selenium操作主要分两大类：\n",
    "    - 得到UI元素\n",
    "        - find_element_by_id\n",
    "        - find_elements_by_name\n",
    "        - find_elements_by_xpath\n",
    "        - find_elements_by_link_text\n",
    "        - find_elements_by_partial_link_text\n",
    "        - find_elements_by_tag_name\n",
    "        - find_elements_by_class_name\n",
    "        - find_elements_by_css_selector\n",
    "    - 基于UI元素操作的模拟\n",
    "        - 单击\n",
    "        - 右键\n",
    "        - 拖拽\n",
    "        - 输入\n",
    "        - 可以通过导入ActionsChains类来做到\n",
    "    - 案例37"
   ]
  }
 ],
 "metadata": {
  "kernelspec": {
   "display_name": "Python 3",
   "language": "python",
   "name": "python3"
  },
  "language_info": {
   "codemirror_mode": {
    "name": "ipython",
    "version": 3
   },
   "file_extension": ".py",
   "mimetype": "text/x-python",
   "name": "python",
   "nbconvert_exporter": "python",
   "pygments_lexer": "ipython3",
   "version": "3.6.7"
  }
 },
 "nbformat": 4,
 "nbformat_minor": 2
}

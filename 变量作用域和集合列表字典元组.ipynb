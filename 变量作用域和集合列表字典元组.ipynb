{
 "cells": [
  {
   "cell_type": "markdown",
   "metadata": {},
   "source": [
    "# 变量作用域\n",
    "- 变量由作用范围限制\n",
    "- 分类\n",
    "    - 按照作用域分类\n",
    "        - 全局（global）：在函数外部定义\n",
    "        - 局部（local）：在函数内部定义\n",
    "- 变量的作用范围\n",
    "    - 全局变量： 在整个全局范围都有效\n",
    "    - 全局变量在局部可以使用（即函数内部可以访问函数外部定义的变量）\n",
    "    - 局部变量在局部范围可以使用\n",
    "    - 局部变量在全局范围无法使用\n",
    "- LEGB原则\n",
    "    - L(local)局部作用域\n",
    "    - E(Enclosing function locale)外部嵌套函数作用域\n",
    "    - G(Global module)函数定义所在模块作用域\n",
    "    - B(Building)Python内置魔抗的作用域"
   ]
  },
  {
   "cell_type": "code",
   "execution_count": 1,
   "metadata": {},
   "outputs": [
    {
     "name": "stdout",
     "output_type": "stream",
     "text": [
      "100\n",
      "100\n",
      "I am in fun\n",
      "99\n"
     ]
    },
    {
     "ename": "NameError",
     "evalue": "name 'a2' is not defined",
     "output_type": "error",
     "traceback": [
      "\u001b[0;31m---------------------------------------------------------------------------\u001b[0m",
      "\u001b[0;31mNameError\u001b[0m                                 Traceback (most recent call last)",
      "\u001b[0;32m<ipython-input-1-ecc157117ac3>\u001b[0m in \u001b[0;36m<module>\u001b[0;34m()\u001b[0m\n\u001b[1;32m     13\u001b[0m \u001b[0mprint\u001b[0m\u001b[0;34m(\u001b[0m\u001b[0ma1\u001b[0m\u001b[0;34m)\u001b[0m\u001b[0;34m\u001b[0m\u001b[0;34m\u001b[0m\u001b[0m\n\u001b[1;32m     14\u001b[0m \u001b[0mfun\u001b[0m\u001b[0;34m(\u001b[0m\u001b[0;34m)\u001b[0m\u001b[0;34m\u001b[0m\u001b[0;34m\u001b[0m\u001b[0m\n\u001b[0;32m---> 15\u001b[0;31m \u001b[0mprint\u001b[0m\u001b[0;34m(\u001b[0m\u001b[0ma2\u001b[0m\u001b[0;34m)\u001b[0m\u001b[0;34m\u001b[0m\u001b[0;34m\u001b[0m\u001b[0m\n\u001b[0m",
      "\u001b[0;31mNameError\u001b[0m: name 'a2' is not defined"
     ]
    }
   ],
   "source": [
    "# 认为a1是全局的\n",
    "\n",
    "a1 = 100\n",
    "\n",
    "def fun():\n",
    "    print(a1)\n",
    "    print('I am in fun')\n",
    "    \n",
    "    # a2的作用范围是fun\n",
    "    a2 = 99\n",
    "    print(a2)\n",
    "    \n",
    "print(a1)\n",
    "fun()\n",
    "print(a2)"
   ]
  },
  {
   "cell_type": "markdown",
   "metadata": {},
   "source": [
    "# 提升局部变量为全局变量\n",
    "- 使用global\n",
    "- 案例如下"
   ]
  },
  {
   "cell_type": "code",
   "execution_count": 6,
   "metadata": {},
   "outputs": [
    {
     "name": "stdout",
     "output_type": "stream",
     "text": [
      "初始值b1:  99**\r\n",
      "修改后的b1值： 100\n",
      "99\n"
     ]
    }
   ],
   "source": [
    "b1 = 99\n",
    "def fun():\n",
    "    global b1\n",
    "    b1 = 100\n",
    "    print('修改后的b1值：', b1)\n",
    "    \n",
    "    # a2的作用范围是fun\n",
    "    b2 = 99\n",
    "    print(b2)\n",
    "    \n",
    "print('初始值b1: ', b1, end='**\\r\\n')\n",
    "fun()"
   ]
  },
  {
   "cell_type": "markdown",
   "metadata": {},
   "source": [
    "# globals, locals函数\n",
    "\n",
    "- 可以通过globals和locals显示出局部变量和全局变量\n",
    "- 参看以下案例"
   ]
  },
  {
   "cell_type": "code",
   "execution_count": 8,
   "metadata": {},
   "outputs": [
    {
     "name": "stdout",
     "output_type": "stream",
     "text": [
      "Locals={'e': 111, 'd': 200, 'c': 100}\n",
      "Globals={'__name__': '__main__', '__doc__': 'Automatically created module for IPython interactive environment', '__package__': None, '__loader__': None, '__spec__': None, '__builtin__': <module 'builtins' (built-in)>, '__builtins__': <module 'builtins' (built-in)>, '_ih': ['', \"# 认为a1是全局的\\n\\na1 = 100\\n\\ndef fun():\\n    print(a1)\\n    print('I am in fun')\\n    \\n    # a2的作用范围是fun\\n    a2 = 99\\n    print(a2)\\n    \\nprint(a1)\\nfun()\\nprint(a2)\", \"def fun():\\n    print(b1)\\n    print('I am in fun')\\n    \\n    # a2的作用范围是fun\\n    b2 = 99\\n    print(b2)\\n    \\nprint(b1)\\nprint(a2)\\nfun()\", \"def fun():\\n    global b1\\n    b1 = 100\\n    print(b1)\\n    print('I am in fun')\\n    \\n    # a2的作用范围是fun\\n    b2 = 99\\n    print(b2)\\n    \\nprint(b1)\\nprint(b2)\\nfun()\", \"b1 = 99\\ndef fun():\\n    global b1\\n    b1 = 100\\n    print('修改后的b1值：', b1)\\n    \\n    # a2的作用范围是fun\\n    b2 = 99\\n    print(b2)\\n    \\nprint('初始值b1: ', b1)\\nfun()\", \"b1 = 99\\ndef fun():\\n    global b1\\n    b1 = 100\\n    print('修改后的b1值：', b1)\\n    \\n    # a2的作用范围是fun\\n    b2 = 99\\n    print(b2)\\n    \\nprint('初始值b1: ', b1, end='**')\\nfun()\", \"b1 = 99\\ndef fun():\\n    global b1\\n    b1 = 100\\n    print('修改后的b1值：', b1)\\n    \\n    # a2的作用范围是fun\\n    b2 = 99\\n    print(b2)\\n    \\nprint('初始值b1: ', b1, end='**\\\\r\\\\n')\\nfun()\", \"# globals 和 locals\\na = 1\\nb = 2\\n\\ndef fun(c, d):\\n    e = 111\\n    print('Locals={0}'.format(locals()))\\n    print('Globals={0}'.format(globals()))\\n    \\nfun(100, 200)\", \"# globals 和 locals\\na = 1\\nb = 2\\n\\ndef fun_area(c, d):\\n    e = 111\\n    print('Locals={0}'.format(locals()))\\n    print('Globals={0}'.format(globals()))\\n    \\nfun_area(100, 200)\"], '_oh': {}, '_dh': ['/home/gavin/Documents/python学习'], '_sh': <module 'IPython.core.shadowns' from '/usr/lib/python3/dist-packages/IPython/core/shadowns.py'>, 'In': ['', \"# 认为a1是全局的\\n\\na1 = 100\\n\\ndef fun():\\n    print(a1)\\n    print('I am in fun')\\n    \\n    # a2的作用范围是fun\\n    a2 = 99\\n    print(a2)\\n    \\nprint(a1)\\nfun()\\nprint(a2)\", \"def fun():\\n    print(b1)\\n    print('I am in fun')\\n    \\n    # a2的作用范围是fun\\n    b2 = 99\\n    print(b2)\\n    \\nprint(b1)\\nprint(a2)\\nfun()\", \"def fun():\\n    global b1\\n    b1 = 100\\n    print(b1)\\n    print('I am in fun')\\n    \\n    # a2的作用范围是fun\\n    b2 = 99\\n    print(b2)\\n    \\nprint(b1)\\nprint(b2)\\nfun()\", \"b1 = 99\\ndef fun():\\n    global b1\\n    b1 = 100\\n    print('修改后的b1值：', b1)\\n    \\n    # a2的作用范围是fun\\n    b2 = 99\\n    print(b2)\\n    \\nprint('初始值b1: ', b1)\\nfun()\", \"b1 = 99\\ndef fun():\\n    global b1\\n    b1 = 100\\n    print('修改后的b1值：', b1)\\n    \\n    # a2的作用范围是fun\\n    b2 = 99\\n    print(b2)\\n    \\nprint('初始值b1: ', b1, end='**')\\nfun()\", \"b1 = 99\\ndef fun():\\n    global b1\\n    b1 = 100\\n    print('修改后的b1值：', b1)\\n    \\n    # a2的作用范围是fun\\n    b2 = 99\\n    print(b2)\\n    \\nprint('初始值b1: ', b1, end='**\\\\r\\\\n')\\nfun()\", \"# globals 和 locals\\na = 1\\nb = 2\\n\\ndef fun(c, d):\\n    e = 111\\n    print('Locals={0}'.format(locals()))\\n    print('Globals={0}'.format(globals()))\\n    \\nfun(100, 200)\", \"# globals 和 locals\\na = 1\\nb = 2\\n\\ndef fun_area(c, d):\\n    e = 111\\n    print('Locals={0}'.format(locals()))\\n    print('Globals={0}'.format(globals()))\\n    \\nfun_area(100, 200)\"], 'Out': {}, 'get_ipython': <bound method InteractiveShell.get_ipython of <ipykernel.zmqshell.ZMQInteractiveShell object at 0x7efc4ffe75c0>>, 'exit': <IPython.core.autocall.ZMQExitAutocall object at 0x7efc4cd91fd0>, 'quit': <IPython.core.autocall.ZMQExitAutocall object at 0x7efc4cd91fd0>, '_': '', '__': '', '___': '', '_i': \"# globals 和 locals\\na = 1\\nb = 2\\n\\ndef fun(c, d):\\n    e = 111\\n    print('Locals={0}'.format(locals()))\\n    print('Globals={0}'.format(globals()))\\n    \\nfun(100, 200)\", '_ii': \"b1 = 99\\ndef fun():\\n    global b1\\n    b1 = 100\\n    print('修改后的b1值：', b1)\\n    \\n    # a2的作用范围是fun\\n    b2 = 99\\n    print(b2)\\n    \\nprint('初始值b1: ', b1, end='**\\\\r\\\\n')\\nfun()\", '_iii': \"b1 = 99\\ndef fun():\\n    global b1\\n    b1 = 100\\n    print('修改后的b1值：', b1)\\n    \\n    # a2的作用范围是fun\\n    b2 = 99\\n    print(b2)\\n    \\nprint('初始值b1: ', b1, end='**')\\nfun()\", '_i1': \"# 认为a1是全局的\\n\\na1 = 100\\n\\ndef fun():\\n    print(a1)\\n    print('I am in fun')\\n    \\n    # a2的作用范围是fun\\n    a2 = 99\\n    print(a2)\\n    \\nprint(a1)\\nfun()\\nprint(a2)\", 'a1': 100, 'fun': <function fun at 0x7efc4c44e1e0>, '_i2': \"def fun():\\n    print(b1)\\n    print('I am in fun')\\n    \\n    # a2的作用范围是fun\\n    b2 = 99\\n    print(b2)\\n    \\nprint(b1)\\nprint(a2)\\nfun()\", '_i3': \"def fun():\\n    global b1\\n    b1 = 100\\n    print(b1)\\n    print('I am in fun')\\n    \\n    # a2的作用范围是fun\\n    b2 = 99\\n    print(b2)\\n    \\nprint(b1)\\nprint(b2)\\nfun()\", '_i4': \"b1 = 99\\ndef fun():\\n    global b1\\n    b1 = 100\\n    print('修改后的b1值：', b1)\\n    \\n    # a2的作用范围是fun\\n    b2 = 99\\n    print(b2)\\n    \\nprint('初始值b1: ', b1)\\nfun()\", 'b1': 100, '_i5': \"b1 = 99\\ndef fun():\\n    global b1\\n    b1 = 100\\n    print('修改后的b1值：', b1)\\n    \\n    # a2的作用范围是fun\\n    b2 = 99\\n    print(b2)\\n    \\nprint('初始值b1: ', b1, end='**')\\nfun()\", '_i6': \"b1 = 99\\ndef fun():\\n    global b1\\n    b1 = 100\\n    print('修改后的b1值：', b1)\\n    \\n    # a2的作用范围是fun\\n    b2 = 99\\n    print(b2)\\n    \\nprint('初始值b1: ', b1, end='**\\\\r\\\\n')\\nfun()\", '_i7': \"# globals 和 locals\\na = 1\\nb = 2\\n\\ndef fun(c, d):\\n    e = 111\\n    print('Locals={0}'.format(locals()))\\n    print('Globals={0}'.format(globals()))\\n    \\nfun(100, 200)\", 'a': 1, 'b': 2, '_i8': \"# globals 和 locals\\na = 1\\nb = 2\\n\\ndef fun_area(c, d):\\n    e = 111\\n    print('Locals={0}'.format(locals()))\\n    print('Globals={0}'.format(globals()))\\n    \\nfun_area(100, 200)\", 'fun_area': <function fun_area at 0x7efc4c44e2f0>}\n"
     ]
    }
   ],
   "source": [
    "# globals 和 locals\n",
    "# globals 和 locals 叫做内置函数\n",
    "a = 1\n",
    "b = 2\n",
    "\n",
    "def fun_area(c, d):\n",
    "    e = 111\n",
    "    print('Locals={0}'.format(locals()))\n",
    "    print('Globals={0}'.format(globals()))\n",
    "    \n",
    "fun_area(100, 200)"
   ]
  },
  {
   "cell_type": "markdown",
   "metadata": {},
   "source": [
    "# eval()函数\n",
    "\n",
    "- 把一个字符串当成一个表达式来执行，返回表达式执行后的结果\n",
    "- 语法\n",
    "\n",
    "            eval(string_code, globals=None, locals=None)\n",
    "            "
   ]
  },
  {
   "cell_type": "code",
   "execution_count": 9,
   "metadata": {},
   "outputs": [
    {
     "name": "stdout",
     "output_type": "stream",
     "text": [
      "300\n",
      "300\n"
     ]
    }
   ],
   "source": [
    "x = 100\n",
    "y = 200\n",
    "\n",
    "# 执行x+y\n",
    "# z = x + y\n",
    "z1 = x + y\n",
    "z2 = eval('x+y')\n",
    "\n",
    "print(z1)\n",
    "print(z2)"
   ]
  },
  {
   "cell_type": "markdown",
   "metadata": {},
   "source": [
    "# exec()函数\n",
    "\n",
    "- 跟eval()函数功能类似，但是不返回结果\n",
    "- 语法\n",
    "\n",
    "            exec(string_code, globals=None, locals=None)"
   ]
  },
  {
   "cell_type": "code",
   "execution_count": 10,
   "metadata": {},
   "outputs": [
    {
     "name": "stdout",
     "output_type": "stream",
     "text": [
      "300\n",
      "None\n"
     ]
    }
   ],
   "source": [
    "x = 100\n",
    "y = 200\n",
    "\n",
    "# 执行x+y\n",
    "# z = x + y\n",
    "z1 = x + y\n",
    "z2 = exec('x+y')\n",
    "\n",
    "print(z1)\n",
    "print(z2)"
   ]
  },
  {
   "cell_type": "markdown",
   "metadata": {},
   "source": [
    "# 递归函数\n",
    "\n",
    "- 含税直接或者间接调用自身\n",
    "- 优点：简洁，理解容易\n",
    "- 缺点：对递归深度有限制，消耗资源大\n",
    "- Python对递归深度有限制，超过限制报错"
   ]
  },
  {
   "cell_type": "code",
   "execution_count": 12,
   "metadata": {},
   "outputs": [
    {
     "name": "stdout",
     "output_type": "stream",
     "text": [
      "1 2 3 4 5 6 7 8 9 10 11 12 13 14 15 16 17 18 19 20 21 22 23 24 25 26 27 28 29 30 31 32 33 34 35 36 37 38 39 40 41 42 43 44 45 46 47 48 49 50 51 52 53 54 55 56 57 58 59 60 61 62 63 64 65 66 67 68 69 70 71 72 73 74 75 76 77 78 79 80 81 82 83 84 85 86 87 88 89 90 91 92 93 94 95 96 97 98 99 100 101 102 103 104 105 106 107 108 109 110 111 112 113 114 115 116 117 118 119 120 121 122 123 124 125 126 127 128 129 130 131 132 133 134 135 136 137 138 139 140 141 142 143 144 145 146 147 148 149 150 151 152 153 154 155 156 157 158 159 160 161 162 163 164 165 166 167 168 169 170 171 172 173 174 175 176 177 178 179 180 181 182 183 184 185 186 187 188 189 190 191 192 193 194 195 196 197 198 199 200 201 202 203 204 205 206 207 208 209 210 211 212 213 214 215 216 217 218 219 220 221 222 223 224 225 226 227 228 229 230 231 232 233 234 235 236 237 238 239 240 241 242 243 244 245 246 247 248 249 250 251 252 253 254 255 256 257 258 259 260 261 262 263 264 265 266 267 268 269 270 271 272 273 274 275 276 277 278 279 280 281 282 283 284 285 286 287 288 289 290 291 292 293 294 295 296 297 298 299 300 301 302 303 304 305 306 307 308 309 310 311 312 313 314 315 316 317 318 319 320 321 322 323 324 325 326 327 328 329 330 331 332 333 334 335 336 337 338 339 340 341 342 343 344 345 346 347 348 349 350 351 352 353 354 355 356 357 358 359 360 361 362 363 364 365 366 367 368 369 370 371 372 373 374 375 376 377 378 379 380 381 382 383 384 385 386 387 388 389 390 391 392 393 394 395 396 397 398 399 400 401 402 403 404 405 406 407 408 409 410 411 412 413 414 415 416 417 418 419 420 421 422 423 424 425 426 427 428 429 430 431 432 433 434 435 436 437 438 439 440 441 442 443 444 445 446 447 448 449 450 451 452 453 454 455 456 457 458 459 460 461 462 463 464 465 466 467 468 469 470 471 472 473 474 475 476 477 478 479 480 481 482 483 484 485 486 487 488 489 490 491 492 493 494 495 496 497 498 499 500 501 502 503 504 505 506 507 508 509 510 511 512 513 514 515 516 517 518 519 520 521 522 523 524 525 526 527 528 529 530 531 532 533 534 535 536 537 538 539 540 541 542 543 544 545 546 547 548 549 550 551 552 553 554 555 556 557 558 559 560 561 562 563 564 565 566 567 568 569 570 571 572 573 574 575 576 577 578 579 580 581 582 583 584 585 586 587 588 589 590 591 592 593 594 595 596 597 598 599 600 601 602 603 604 605 606 607 608 609 610 611 612 613 614 615 616 617 618 619 620 621 622 623 624 625 626 627 628 629 630 631 632 633 634 635 636 637 638 639 640 641 642 643 644 645 646 647 648 649 650 651 652 653 654 655 656 657 658 659 660 661 662 663 664 665 666 667 668 669 670 671 672 673 674 675 676 677 678 679 680 681 682 683 684 685 686 687 688 689 690 691 692 693 694 695 696 697 698 699 700 701 702 703 704 705 706 707 708 709 710 711 712 713 714 715 716 717 718 719 720 721 722 723 724 725 726 727 728 729 730 731 732 733 734 735 736 737 738 739 740 741 742 743 744 745 746 747 748 749 750 751 752 753 754 755 756 757 758 759 760 761 762 763 764 765 766 767 768 769 770 771 772 773 774 775 776 777 778 779 780 781 782 783 784 785 786 787 788 789 790 791 792 793 794 795 796 797 798 799 800 801 802 803 804 805 806 807 808 809 810 811 812 813 814 815 816 817 818 819 820 821 822 823 824 825 826 827 828 829 830 831 832 833 834 835 836 837 838 839 840 841 842 843 844 845 846 847 848 849 850 851 852 853 854 855 856 857 858 859 860 861 862 863 864 865 866 867 868 869 870 871 872 873 874 875 876 877 878 879 880 881 882 883 884 885 886 887 888 889 890 891 892 893 894 895 896 897 898 899 900 901 902 903 904 905 906 907 908 909 910 911 912 913 914 915 916 917 918 919 920 921 922 923 924 925 926 927 928 929 930 931 932 933 934 935 936 937 938 939 940 941 942 943 944 945 946 947 948 949 950 951 952 953 954 955 956 957 958 959 960 961"
     ]
    },
    {
     "ename": "RecursionError",
     "evalue": "maximum recursion depth exceeded in comparison",
     "output_type": "error",
     "traceback": [
      "\u001b[0;31m---------------------------------------------------------------------------\u001b[0m",
      "\u001b[0;31mRecursionError\u001b[0m                            Traceback (most recent call last)",
      "\u001b[0;32m<ipython-input-12-a574e1dc1427>\u001b[0m in \u001b[0;36m<module>\u001b[0;34m()\u001b[0m\n\u001b[1;32m     11\u001b[0m \u001b[0;34m\u001b[0m\u001b[0m\n\u001b[1;32m     12\u001b[0m \u001b[0;31m# 调用函数\u001b[0m\u001b[0;34m\u001b[0m\u001b[0;34m\u001b[0m\u001b[0;34m\u001b[0m\u001b[0m\n\u001b[0;32m---> 13\u001b[0;31m \u001b[0mfun\u001b[0m\u001b[0;34m(\u001b[0m\u001b[0;34m)\u001b[0m\u001b[0;34m\u001b[0m\u001b[0;34m\u001b[0m\u001b[0m\n\u001b[0m",
      "\u001b[0;32m<ipython-input-12-a574e1dc1427>\u001b[0m in \u001b[0;36mfun\u001b[0;34m()\u001b[0m\n\u001b[1;32m      8\u001b[0m     \u001b[0mprint\u001b[0m\u001b[0;34m(\u001b[0m\u001b[0mx\u001b[0m\u001b[0;34m,\u001b[0m \u001b[0mend\u001b[0m\u001b[0;34m=\u001b[0m\u001b[0;34m' '\u001b[0m\u001b[0;34m)\u001b[0m\u001b[0;34m\u001b[0m\u001b[0;34m\u001b[0m\u001b[0m\n\u001b[1;32m      9\u001b[0m     \u001b[0;31m# 函数自己调用自己\u001b[0m\u001b[0;34m\u001b[0m\u001b[0;34m\u001b[0m\u001b[0;34m\u001b[0m\u001b[0m\n\u001b[0;32m---> 10\u001b[0;31m     \u001b[0mfun\u001b[0m\u001b[0;34m(\u001b[0m\u001b[0;34m)\u001b[0m\u001b[0;34m\u001b[0m\u001b[0;34m\u001b[0m\u001b[0m\n\u001b[0m\u001b[1;32m     11\u001b[0m \u001b[0;34m\u001b[0m\u001b[0m\n\u001b[1;32m     12\u001b[0m \u001b[0;31m# 调用函数\u001b[0m\u001b[0;34m\u001b[0m\u001b[0;34m\u001b[0m\u001b[0;34m\u001b[0m\u001b[0m\n",
      "... last 1 frames repeated, from the frame below ...\n",
      "\u001b[0;32m<ipython-input-12-a574e1dc1427>\u001b[0m in \u001b[0;36mfun\u001b[0;34m()\u001b[0m\n\u001b[1;32m      8\u001b[0m     \u001b[0mprint\u001b[0m\u001b[0;34m(\u001b[0m\u001b[0mx\u001b[0m\u001b[0;34m,\u001b[0m \u001b[0mend\u001b[0m\u001b[0;34m=\u001b[0m\u001b[0;34m' '\u001b[0m\u001b[0;34m)\u001b[0m\u001b[0;34m\u001b[0m\u001b[0;34m\u001b[0m\u001b[0m\n\u001b[1;32m      9\u001b[0m     \u001b[0;31m# 函数自己调用自己\u001b[0m\u001b[0;34m\u001b[0m\u001b[0;34m\u001b[0m\u001b[0;34m\u001b[0m\u001b[0m\n\u001b[0;32m---> 10\u001b[0;31m     \u001b[0mfun\u001b[0m\u001b[0;34m(\u001b[0m\u001b[0;34m)\u001b[0m\u001b[0;34m\u001b[0m\u001b[0;34m\u001b[0m\u001b[0m\n\u001b[0m\u001b[1;32m     11\u001b[0m \u001b[0;34m\u001b[0m\u001b[0m\n\u001b[1;32m     12\u001b[0m \u001b[0;31m# 调用函数\u001b[0m\u001b[0;34m\u001b[0m\u001b[0;34m\u001b[0m\u001b[0;34m\u001b[0m\u001b[0m\n",
      "\u001b[0;31mRecursionError\u001b[0m: maximum recursion depth exceeded in comparison"
     ]
    }
   ],
   "source": [
    "# 递归调用深度限制代码\n",
    "\n",
    "x = 0\n",
    "\n",
    "def fun():\n",
    "    global x\n",
    "    x += 1\n",
    "    print(x, end=' ')\n",
    "    # 函数自己调用自己\n",
    "    fun()\n",
    "    \n",
    "# 调用函数\n",
    "fun()"
   ]
  },
  {
   "cell_type": "code",
   "execution_count": 21,
   "metadata": {},
   "outputs": [
    {
     "name": "stdout",
     "output_type": "stream",
     "text": [
      "55\n"
     ]
    }
   ],
   "source": [
    "# 斐波那契数列\n",
    "# 一列数字，第一个值是1，第二个值也是1，从第三个数值开始等于前两个数值的和\n",
    "# 数学公式： f(1) = 1, f(2) = 1, f(3) = 2, f(n) = f(n-1) + f(n-2)\n",
    "# 例如： 1， 1， 2， 3， 5， 8， 13，...\n",
    "\n",
    "def fib(n):\n",
    "    if n == 1:\n",
    "        return 1\n",
    "    \n",
    "    if n == 2:\n",
    "        return 1\n",
    "    \n",
    "    return fib(n-1) + fib(n-2)\n",
    "\n",
    "print(fib(10))"
   ]
  },
  {
   "cell_type": "markdown",
   "metadata": {},
   "source": [
    "# 内置数据结构（变量类型）\n",
    "\n",
    "- list\n",
    "- set\n",
    "- dict\n",
    "- tuple\n",
    "\n",
    "## list(列表)\n",
    "- 一组有顺序的数据的组合\n",
    "- 创建列表\n",
    "    - 空列表\n"
   ]
  },
  {
   "cell_type": "code",
   "execution_count": 24,
   "metadata": {},
   "outputs": [
    {
     "name": "stdout",
     "output_type": "stream",
     "text": [
      "<class 'list'>\n",
      "[]\n",
      "<class 'list'>\n",
      "[100]\n",
      "<class 'list'>\n",
      "[1, 2, 3, 4, 5, 6]\n",
      "<class 'list'>\n",
      "[3, 5, 9, 4, 8, 1, 2, 0, 6]\n"
     ]
    }
   ],
   "source": [
    "#1. 创建空列表\n",
    "l1 = []\n",
    "\n",
    "print(type(l1))\n",
    "print(l1)\n",
    "\n",
    "#2. 创建带值的列表\n",
    "l2 = [100]\n",
    "\n",
    "print(type(l2))\n",
    "print(l2)\n",
    "\n",
    "#3. 创建列表,多个值\n",
    "l3 = [1, 2, 3, 4, 5, 6]\n",
    "\n",
    "print(type(l3))\n",
    "print(l3)\n",
    "\n",
    "#4. 使用list\n",
    "l4 = list\n",
    "print(type(l4))\n",
    "print(l4)"
   ]
  },
  {
   "cell_type": "markdown",
   "metadata": {},
   "source": [
    "# 列表常用操作\n",
    "\n",
    "- 访问\n",
    "    - 使用下标操作（索引）\n",
    "    - 列表的位置是从0开始"
   ]
  },
  {
   "cell_type": "code",
   "execution_count": 26,
   "metadata": {},
   "outputs": [
    {
     "name": "stdout",
     "output_type": "stream",
     "text": [
      "3\n",
      "2\n",
      "6\n"
     ]
    }
   ],
   "source": [
    "# 下标访问列表\n",
    "l = [3, 2, 1, 4, 6, 3, 2]\n",
    "\n",
    "print(l[0])\n",
    "print(l[1])\n",
    "print(l[4])"
   ]
  },
  {
   "cell_type": "markdown",
   "metadata": {},
   "source": [
    "- 分片操作\n",
    "    - 对列表进行任意一段的截取\n",
    "    - l[:]"
   ]
  },
  {
   "cell_type": "code",
   "execution_count": 28,
   "metadata": {},
   "outputs": [
    {
     "name": "stdout",
     "output_type": "stream",
     "text": [
      "[2, 1]\n",
      "[3, 2, 1, 4, 6, 3, 2]\n",
      "[3, 2, 1, 4]\n",
      "[1, 4, 6, 3, 2]\n"
     ]
    }
   ],
   "source": [
    "# 包含左边下标值，但不包含右边下标值\n",
    "print(l[1:3])\n",
    "\n",
    "# 下标值可以为空，如果不写，左边下标值默认为0，右边下标值为最大数加一，即表示截取到最后一个数据\n",
    "print(l[:])\n",
    "print(l[:4])\n",
    "print(l[2:])"
   ]
  },
  {
   "cell_type": "code",
   "execution_count": 33,
   "metadata": {},
   "outputs": [
    {
     "name": "stdout",
     "output_type": "stream",
     "text": [
      "[3, 2, 1, 4, 6, 3, 2]\n",
      "[2, 1, 4, 6, 3]\n",
      "[2, 4, 3]\n",
      "[1, 4, 6, 3, 2]\n",
      "[]\n",
      "[4, 6]\n",
      "[3, 6]\n"
     ]
    }
   ],
   "source": [
    "# 分片可以控制增长幅度，默认为1\n",
    "print(l)\n",
    "print(l[1:6:1])\n",
    "print(l[1:6:2])\n",
    "\n",
    "# 下标可以超出范围，超出后不再考虑多余下标内容\n",
    "print(l[2:10])\n",
    "\n",
    "# 下标值，增长幅度可以为负数\n",
    "# 为负数，表明顺序是从右往左\n",
    "# 规定： 数组最后一个数字的下标是-1\n",
    "print(l[-2:-4])\n",
    "print(l[-4:-2])\n",
    "\n",
    "# 如果分片一定左边值比右边大，则步长参数需要使用负数\n",
    "# 此案例为一个list直接正反颠倒提供了一种思路\n",
    "print(l[-2:-4:-1])"
   ]
  },
  {
   "cell_type": "markdown",
   "metadata": {},
   "source": [
    "## 分片操作是生成一个新的list\n",
    "- 内置函数id，负责显示一个变量或者数据的唯一确定编号"
   ]
  },
  {
   "cell_type": "code",
   "execution_count": 34,
   "metadata": {},
   "outputs": [
    {
     "name": "stdout",
     "output_type": "stream",
     "text": [
      "8832864\n",
      "8836064\n",
      "8832864\n"
     ]
    }
   ],
   "source": [
    "# id函数举例\n",
    "\n",
    "a = 100\n",
    "b = 200\n",
    "print(id(a))\n",
    "print(id(b))\n",
    "\n",
    "c = a\n",
    "print(id(c))\n"
   ]
  },
  {
   "cell_type": "code",
   "execution_count": 35,
   "metadata": {},
   "outputs": [
    {
     "name": "stdout",
     "output_type": "stream",
     "text": [
      "101\n",
      "100\n"
     ]
    }
   ],
   "source": [
    "# 如果a跟c指向同一数据，则更改a的值同样也会更改c的值\n",
    "# 但是，显示结果并非如此，为什么？\n",
    "a = 101\n",
    "print(a)\n",
    "print(c)"
   ]
  },
  {
   "cell_type": "code",
   "execution_count": 36,
   "metadata": {},
   "outputs": [
    {
     "name": "stdout",
     "output_type": "stream",
     "text": [
      "139622073282440\n",
      "139622073282312\n",
      "139622073282312\n",
      "==================================================\n",
      "[3, 100, 56, 76, 32, 21, 43, 5]\n",
      "[3, 4, 56, 76, 32, 21, 43, 5]\n",
      "==================================================\n",
      "[3, 100, 56, 76, 32, 21, 43, 5]\n",
      "[3, 100, 56, 76, 32, 21, 43, 5]\n"
     ]
    }
   ],
   "source": [
    "# 通过id可以直接判断出分片是重新生成了一份数据还是使用的同一份数据\n",
    "l = [3, 4, 56, 76, 32, 21, 43, 5]\n",
    "ll = l[:]\n",
    "lll = ll\n",
    "\n",
    "# 如果两个id值一样，则表明分片产生的列表是使用的同一地址同一份数据\n",
    "# 否则，则表明分片是重新生成了一份数据，即一个新的列表，然后把数值拷贝到新列表中\n",
    "print(id(l))\n",
    "print(id(ll))\n",
    "print(id(lll))\n",
    "\n",
    "print('=' * 50)\n",
    "\n",
    "# 通过id知道，ll和lll是同一份数据，验证代码如下\n",
    "l[1] = 100\n",
    "print(l)\n",
    "print(ll)\n",
    "\n",
    "print('=' * 50)\n",
    "\n",
    "ll[1] = 100\n",
    "print(ll)\n",
    "print(lll)"
   ]
  },
  {
   "cell_type": "code",
   "execution_count": null,
   "metadata": {},
   "outputs": [],
   "source": []
  }
 ],
 "metadata": {
  "kernelspec": {
   "display_name": "Python 3",
   "language": "python",
   "name": "python3"
  },
  "language_info": {
   "codemirror_mode": {
    "name": "ipython",
    "version": 3
   },
   "file_extension": ".py",
   "mimetype": "text/x-python",
   "name": "python",
   "nbconvert_exporter": "python",
   "pygments_lexer": "ipython3",
   "version": "3.6.7"
  }
 },
 "nbformat": 4,
 "nbformat_minor": 2
}

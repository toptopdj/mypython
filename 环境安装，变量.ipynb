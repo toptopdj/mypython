{
 "cells": [
  {
   "cell_type": "markdown",
   "metadata": {},
   "source": [
    "# 环境安装\n",
    "- 推荐Virtualbox + Ubuntu\n",
    "- 套件推荐 Anaconda3+pycharm"
   ]
  },
  {
   "cell_type": "code",
   "execution_count": 1,
   "metadata": {},
   "outputs": [
    {
     "name": "stdout",
     "output_type": "stream",
     "text": [
      "Hello World\n"
     ]
    },
    {
     "data": {
      "text/plain": [
       "'\\n这里面任何内容机器都不管\\n可以写很多内容\\n'"
      ]
     },
     "execution_count": 1,
     "metadata": {},
     "output_type": "execute_result"
    }
   ],
   "source": [
    "# 代码的作用\n",
    "# 1.给人看\n",
    "# 2.给机器看\n",
    "# 注释是纯给人看的内容\n",
    "print('Hello World') #打印hello world\n",
    "'''\n",
    "这里面任何内容机器都不管\n",
    "可以写很多内容\n",
    "'''"
   ]
  },
  {
   "cell_type": "markdown",
   "metadata": {},
   "source": [
    "#注释\n",
    "    - 机器不去执行注释内容\n",
    "    - 注释一般用自然语言书写\n",
    "    - 注释的写法：\n",
    "        - 行注释： 以#开头，可以单独行，也可以在某行代码后面\n",
    "        - 块注释： 好几行代码或者内容，以三个连续单引号或双引号开始和结束，中间任何内容机器都忽略"
   ]
  },
  {
   "cell_type": "markdown",
   "metadata": {},
   "source": [
    "# 变量\n",
    "- 程序=数据结构+算法\n",
    "- 变量就是可以重复使用的一个量，或者叫一个代号\n",
    "- 变量命名的规则\n",
    "    - 变量命名可以包含数字，大小写字母，下划线或者更多，但是我们不推荐除了三种内容之外的符号\n",
    "    - 数字不可以打头\n",
    "        - 4man, 5for 是不可以的\n",
    "        - man4, for5 是可以的\n",
    "    - 一般在Python中，以下划线开头的内容具有特殊含义，不建议使用\n",
    "        - 比如 _age, _name,理论是可以的，但强烈不推荐，包括但不限于一个下划线开头和两个连续下划线开头\n",
    "    - 大小写不一样，俗称大小写敏感\n",
    "        - ForMan跟forMan不是一个变量名称\n",
    "    - 推荐：\n",
    "        - 使用具有固定含义的英文单词或者缩写，srv=server skt=socket,一般以posix命名规则为主\n",
    "        - 驼峰命名法：\n",
    "            - 名称以单词自动连接，且每个单词首字母大写\n",
    "                - 大驼峰，每个单词第一个字母均大写\n",
    "                    - 在Python中给类命名使用此法\n",
    "                    - MyFirstLove，IntOne\n",
    "                - 小驼峰，类似大驼峰，但第一个字母小写\n",
    "                    - 在Python中一般给普通变量或者函数命名\n",
    "                    - myFirstLove, intOne\n",
    "                - posix写法\n",
    "                    - 多个单词用下划线链接\n",
    "                    - 单词全部小写\n",
    "                    - my_first_love, int_one\n",
    "    - 保留字和关键字\n",
    "        - 变量命名必须避开，不能跟关键字和保留字重复\n",
    "        - class, def, break, for\n",
    "        \n",
    "                    "
   ]
  },
  {
   "cell_type": "code",
   "execution_count": 2,
   "metadata": {},
   "outputs": [
    {
     "name": "stdout",
     "output_type": "stream",
     "text": [
      "['False', 'None', 'True', 'and', 'as', 'assert', 'break', 'class', 'continue', 'def', 'del', 'elif', 'else', 'except', 'finally', 'for', 'from', 'global', 'if', 'import', 'in', 'is', 'lambda', 'nonlocal', 'not', 'or', 'pass', 'raise', 'return', 'try', 'while', 'with', 'yield']\n"
     ]
    }
   ],
   "source": [
    "# 查看关键字的方法\n",
    "import keyword  # 引入关键字模块\n",
    "print(keyword.kwlist) # 打印关键字"
   ]
  },
  {
   "cell_type": "markdown",
   "metadata": {},
   "source": [
    "# 变量声明\n",
    "- var_name = var_value\n",
    "- var1 = var2 = var3 = var_value\n",
    "- var1, var2, var3 = v1, v2, v3"
   ]
  },
  {
   "cell_type": "code",
   "execution_count": 3,
   "metadata": {},
   "outputs": [
    {
     "name": "stdout",
     "output_type": "stream",
     "text": [
      "18\n",
      "18\n",
      "18\n",
      "18\n",
      "18\n",
      "12\n",
      "21\n",
      "45\n"
     ]
    }
   ],
   "source": [
    "# 定义变量age, 把18放入变量age中\n",
    "age = 18\n",
    "print(age) # 18\n",
    "print(18)  # 18\n",
    "\n",
    "# 给age1, age2, age3 放入同样一个内容或值\n",
    "age1 = age2 = age3 =18\n",
    "print(age1) # 18\n",
    "print(age2) # 18\n",
    "print(age3) # 18\n",
    "\n",
    "# 一行内给多个变量赋值\n",
    "age4, age5, age6 = 12, 21, 45\n",
    "print(age4) # 12\n",
    "print(age5) # 21\n",
    "print(age6) # 45"
   ]
  },
  {
   "cell_type": "markdown",
   "metadata": {},
   "source": [
    "# 变量类型\n",
    "- 严格意义上讲，Python只有一个类型\n",
    "- 标准数据一共六种\n",
    "    - 数字类型Number\n",
    "        - 整数：\n",
    "            - 没有小数部分，表示个数的数字\n",
    "            - 自然数，0，负自然数\n",
    "            - 整数分进制：\n",
    "                - 二进制：\n",
    "                    - 计算机常用\n",
    "                    - 是计算机唯一能直接理解的数字\n",
    "                    - 表示为0b开头的0,1代码\n",
    "                    - 例如 0b01101, 0b10001\n",
    "                - 八进制\n",
    "                    - 不常用\n",
    "                    - 以0o开头的包含0-7的数字\n",
    "                - 十六进制\n",
    "                    - 逢16进1\n",
    "                    - 其实是每四位二进制表示一位十六进制数\n",
    "                    - 包含0-9， a-f\n",
    "                    - 数字上以0x开头表示\n",
    "                - 十进制\n",
    "                    - 18， 89， 178\n",
    "            - 浮点型：\n",
    "                - 小数\n",
    "                - 计算机里表示浮点数可以有条件省略\n",
    "                - 3.1415， 3. ， 0.5 ， .5\n",
    "                - 科学计数法：\n",
    "                    - 定义跟数学定义\n",
    "                    - 写法是用e/E后面跟整数表示10的指数\n",
    "                    - 176.23 == 1.7634e2\n",
    "                    - 0.876 == 8.76e-1\n",
    "            - 复数complex\n",
    "                - 定义跟数学定义一直\n",
    "                - 一个由实部和虚部构成的数字\n",
    "                - 虚部用j/J表示\n",
    "                - 5+3j\n",
    "                - 3j\n",
    "                -  (3j)\n",
    "            - 布尔值\n",
    "                - 表示真假的值\n",
    "                - 只有两个值， True/False\n",
    "                - 布尔值可以跟数字直接操作\n",
    "                eg. age = 18 + True\n",
    "                    print(age) #19\n",
    "    \n",
    "    - 字符串类型str\n",
    "        - 用来表示一串文字信息\n",
    "        - 如何表示\n",
    "            - 单引号\n",
    "                str = '好好学习'\n",
    "            - 双引号\n",
    "                str = \"好好学习\"\n",
    "            - 三引号（三个单引号或者三个双引号）\n",
    "                \n",
    "                str = '''\n",
    "                    好好学习\n",
    "                    天天向上\n",
    "                    '''\n",
    "                str = \"\"\"\n",
    "                    好好学习\n",
    "                    天天向上\n",
    "                    \"\"\"\n",
    "        - 单双引号交错使用\n",
    "            html = '<a href=\"https://www.baidu.com\">百度</a>'\n",
    "        - 转义字符\n",
    "            - 用一些特殊的方法表示出一系列不方便写出的内容，比如回车键，换行键，退格键\n",
    "            - 借助反斜杠字符，一旦字符串中出现反斜杠，则反斜杠后面一个或几个字符表示已经不是原来的意思了，进行了转义\n",
    "        "
   ]
  },
  {
   "cell_type": "code",
   "execution_count": 1,
   "metadata": {},
   "outputs": [
    {
     "name": "stdout",
     "output_type": "stream",
     "text": [
      "i love python\n"
     ]
    }
   ],
   "source": [
    "s = 'i love python'\n",
    "print(s)"
   ]
  },
  {
   "cell_type": "code",
   "execution_count": 2,
   "metadata": {},
   "outputs": [
    {
     "name": "stdout",
     "output_type": "stream",
     "text": [
      "let's go\n",
      "Let's go\n",
      "c:\\user\n",
      "I love \r\n",
      " python\n"
     ]
    }
   ],
   "source": [
    "# 如果想表示出let's go\n",
    "# 1.可以使用嵌套引号，即外层使用双引号\n",
    "# 2.转义字符\n",
    "s = \"let's go\"\n",
    "print(s)\n",
    "\n",
    "ss = 'Let\\'s go'\n",
    "print(ss)\n",
    "\n",
    "# \\\\ = \\\n",
    "sss = \"c:\\\\user\"\n",
    "print(sss)\n",
    "\n",
    "#回车换行符\n",
    "s1 = \"I love \\r\\n python\"\n",
    "print(s1)"
   ]
  },
  {
   "cell_type": "markdown",
   "metadata": {},
   "source": [
    "            - 在字符串中，一旦出现反斜杠就要倍加小心，可能有转义字符出现 \n",
    "            - 不同系统对换行操作有不同的表示\n",
    "                - windows: \\n\n",
    "                - linux:   \\r\\n\n",
    "        "
   ]
  },
  {
   "cell_type": "code",
   "execution_count": 3,
   "metadata": {},
   "outputs": [],
   "source": [
    "s = \"好好学习，天天向上。\""
   ]
  },
  {
   "cell_type": "markdown",
   "metadata": {},
   "source": [
    "        - 格式化\n",
    "            - 把字符串按照一定格式打印或者填充\n",
    "            - 格式化有两种方法\n",
    "                - 利用百分号\n",
    "                    - 在字符串中利用%表示一个特殊的含义，表示对字符进行格式化\n",
    "                    - %d:此处应该放入一个整数\n",
    "                    - %s:此处应该放入一个字符串\n",
    "                "
   ]
  },
  {
   "cell_type": "code",
   "execution_count": 4,
   "metadata": {},
   "outputs": [
    {
     "name": "stdout",
     "output_type": "stream",
     "text": [
      "I love %s\n"
     ]
    }
   ],
   "source": [
    "s = \"I love %s\"\n",
    "print(s) #直接把%s作为字符串的一个内容打印出来"
   ]
  },
  {
   "cell_type": "code",
   "execution_count": 5,
   "metadata": {},
   "outputs": [
    {
     "name": "stdout",
     "output_type": "stream",
     "text": [
      "I love Python\n"
     ]
    }
   ],
   "source": [
    "print(\"I love %s\" % \"Python\")"
   ]
  },
  {
   "cell_type": "code",
   "execution_count": 6,
   "metadata": {},
   "outputs": [
    {
     "name": "stdout",
     "output_type": "stream",
     "text": [
      "I love python\n"
     ]
    }
   ],
   "source": [
    "print( s % \"python\" )"
   ]
  },
  {
   "cell_type": "code",
   "execution_count": 7,
   "metadata": {},
   "outputs": [
    {
     "name": "stdout",
     "output_type": "stream",
     "text": [
      "I am %d years old\n",
      "I am 18 years old\n"
     ]
    }
   ],
   "source": [
    "s = 'I am %d years old'\n",
    "print(s)\n",
    "print(s % 18)"
   ]
  },
  {
   "cell_type": "code",
   "execution_count": 9,
   "metadata": {},
   "outputs": [
    {
     "name": "stdout",
     "output_type": "stream",
     "text": [
      "I am %s, i am %d years old\n",
      "I am Gavin, i am 18 years old\n"
     ]
    }
   ],
   "source": [
    "s = 'I am %s, i am %d years old'\n",
    "print(s)\n",
    "print(s% ('Gavin',18))"
   ]
  },
  {
   "cell_type": "markdown",
   "metadata": {},
   "source": [
    "            - 利用format函数格式化\n",
    "                - 以{}和;代替%，后面用format带参数完成\n",
    "    - 列表list\n",
    "    - 元组tuple\n",
    "    - 字典Dictionary\n",
    "    - 集合set\n",
    "    "
   ]
  },
  {
   "cell_type": "code",
   "execution_count": 11,
   "metadata": {},
   "outputs": [
    {
     "name": "stdout",
     "output_type": "stream",
     "text": [
      "I love python\n",
      "Yes, i am 18 years old, i love Gavin and i am 18 years old\n"
     ]
    }
   ],
   "source": [
    "s = \"I love {}\".format(\"python\")\n",
    "print(s)\n",
    "\n",
    "s = \"Yes, i am {1} years old, i love {0} and i am {1} years old\".format(\"Gavin\", 18)\n",
    "print(s)"
   ]
  },
  {
   "cell_type": "markdown",
   "metadata": {},
   "source": [
    "# None\n",
    "- 表示什么都没有\n",
    "- 如果函数没有返回值，可以返回None\n",
    "- 用来占位置\n",
    "- 用来接触变量绑定\n",
    "\n",
    "# 表达式\n",
    "- 由一个或者几个数字或者变量和运算符组合成的一行代码\n",
    "- 通常会返回一个结果\n",
    "\n",
    "# 运算符\n",
    "- 由一个以上的值经过变化得到新值得过程就叫运算\n",
    "- 用于运算的符号叫运算符\n",
    "- 运算符分类\n",
    "    - 算术运算符\n",
    "        - 进行算术运算的符号"
   ]
  },
  {
   "cell_type": "code",
   "execution_count": 13,
   "metadata": {},
   "outputs": [
    {
     "name": "stdout",
     "output_type": "stream",
     "text": [
      "10\n",
      "36\n",
      "3.0\n",
      "1\n",
      "27\n",
      "2\n"
     ]
    }
   ],
   "source": [
    "# + ， - 跟正常算术运算符一样\n",
    "a = 9 + 3 - 2\n",
    "print(a)\n",
    "\n",
    "# 乘法\n",
    "a = 9 * 4\n",
    "print(a)\n",
    "\n",
    "# 除法\n",
    "a = 9/3\n",
    "print(a)\n",
    "\n",
    "# 求余\n",
    "a = 9%4\n",
    "print(a)\n",
    "\n",
    "# 求幂\n",
    "a = 3**3\n",
    "print(a)\n",
    "\n",
    "# 求商运算\n",
    "a = 9//4\n",
    "print(a)"
   ]
  },
  {
   "cell_type": "markdown",
   "metadata": {},
   "source": [
    "    - 比较或者关系运算符\n",
    "        - 对两个变量或者值进行比较的运算符\n",
    "        - 比较的结果是布尔值，即True/False"
   ]
  },
  {
   "cell_type": "code",
   "execution_count": 14,
   "metadata": {},
   "outputs": [
    {
     "name": "stdout",
     "output_type": "stream",
     "text": [
      "False\n",
      "True\n"
     ]
    }
   ],
   "source": [
    "# ==， 等于号\n",
    "a = 3**4\n",
    "# 下面与执行顺序是\n",
    "# 1. 计算 a == 80\n",
    "# 2. 把结果放入b中\n",
    "b = a == 80\n",
    "print(b)\n",
    "\n",
    "\n",
    "# != 不等于\n",
    "print(9 != 8)\n",
    "\n",
    "# > 大于\n",
    "# >= 大于等于\n",
    "# < 小于\n",
    "# <= 小于等于"
   ]
  },
  {
   "cell_type": "markdown",
   "metadata": {},
   "source": [
    "- 赋值运算符"
   ]
  },
  {
   "cell_type": "code",
   "execution_count": 15,
   "metadata": {},
   "outputs": [
    {
     "name": "stdout",
     "output_type": "stream",
     "text": [
      "7\n"
     ]
    }
   ],
   "source": [
    "# = ， 赋值\n",
    "a = 0\n",
    "c = a = 4\n",
    "\n",
    "# += 是缩写\n",
    "a = 0\n",
    "a += 7  #a = a + 7 的缩写\n",
    "print(a)\n",
    "\n",
    "# 所有数学运算符都有缩写形式\n",
    "# -=, /=, //=, %=, **=, *="
   ]
  },
  {
   "cell_type": "markdown",
   "metadata": {},
   "source": [
    "- 逻辑运算符\n",
    "    - 对布尔值进行计算的符号\n",
    "    - and 逻辑与\n",
    "    - or  逻辑或\n",
    "    - not 逻辑非\n",
    "    - Python中逻辑运算没有异或运算\n",
    "    - 运算规则\n",
    "        - and 看做乘法， or看做加法\n",
    "        - True看做1， false看做0\n",
    "        - 则逻辑运算就能转换成整数数字运算\n",
    "        - 最后结果如果是0则为False， 否则为True\n",
    "    - 逻辑运算的短路问题\n",
    "        - 逻辑运算式，按照运算顺序计算，一旦能够确定整个式子未来的值，则不再进行计算，直接返回"
   ]
  },
  {
   "cell_type": "code",
   "execution_count": 17,
   "metadata": {},
   "outputs": [
    {
     "name": "stdout",
     "output_type": "stream",
     "text": [
      "True\n",
      "True\n"
     ]
    }
   ],
   "source": [
    "# 逻辑运算符案例\n",
    "a = True\n",
    "b = False\n",
    "c = True\n",
    "\n",
    "# 以下式子等价于 d = 1 * 0 + 1\n",
    "d = a and b or c\n",
    "print(d)\n",
    "\n",
    "d = a or b and a\n",
    "print(a)"
   ]
  },
  {
   "cell_type": "code",
   "execution_count": 18,
   "metadata": {},
   "outputs": [
    {
     "ename": "SyntaxError",
     "evalue": "invalid syntax (<ipython-input-18-c734ffca425f>, line 8)",
     "output_type": "error",
     "traceback": [
      "\u001b[0;36m  File \u001b[0;32m\"<ipython-input-18-c734ffca425f>\"\u001b[0;36m, line \u001b[0;32m8\u001b[0m\n\u001b[0;31m    a = a or (b=9) and 6\u001b[0m\n\u001b[0m               ^\u001b[0m\n\u001b[0;31mSyntaxError\u001b[0m\u001b[0;31m:\u001b[0m invalid syntax\n"
     ]
    }
   ],
   "source": [
    "# 逻辑运算的短路案例\n",
    "# 下面的逻辑表达式，a的值一定是True，则运行到or的时候，整个表达式不再向下计算\n",
    "a = True or xxxxxxxxxxx\n",
    "\n",
    "# 下面表达式，如果xxx中包含赋值表达式，则结果很难预期\n",
    "# 代码示例\n",
    "b = 0\n",
    "a = a or (b=9) and 6\n",
    "# 假定上面表达式如果没有语法错误\n",
    "# 则b最终的值应该是0而不是9\n",
    "print(a)\n",
    "print(b)"
   ]
  },
  {
   "cell_type": "markdown",
   "metadata": {},
   "source": [
    "- 位运算\n",
    "- 成员运算\n",
    "    - 用来检测某一个变量是否是另一个变量的成员\n",
    "    - in\n",
    "    - not in"
   ]
  },
  {
   "cell_type": "code",
   "execution_count": 19,
   "metadata": {},
   "outputs": [
    {
     "name": "stdout",
     "output_type": "stream",
     "text": [
      "False\n",
      "True\n",
      "False\n"
     ]
    }
   ],
   "source": [
    "# 案例\n",
    "l = [1, 2, 3, 4, 5]\n",
    "a = 7\n",
    "\n",
    "b = a in l\n",
    "print(b)\n",
    "\n",
    "a = 4\n",
    "print(a in l)\n",
    "print(a not in l)"
   ]
  },
  {
   "cell_type": "markdown",
   "metadata": {},
   "source": [
    "- 身份运算\n",
    "    - is: 用来检测两个变量是否是同一个变量\n",
    "        - 语法就是 var1 is var2\n",
    "    - is not: 两个变量不是同一个变量"
   ]
  },
  {
   "cell_type": "code",
   "execution_count": 20,
   "metadata": {},
   "outputs": [
    {
     "name": "stdout",
     "output_type": "stream",
     "text": [
      "True\n",
      "True\n"
     ]
    }
   ],
   "source": [
    "a = 9\n",
    "b = 9\n",
    "print(a is b)\n",
    "\n",
    "# 区分大小写\n",
    "a = 'i love python'\n",
    "b = 'I love python'\n",
    "print(a is not b)"
   ]
  },
  {
   "cell_type": "markdown",
   "metadata": {},
   "source": [
    "- 运算符的优先级问题\n",
    "    - 永远记住， 括号具有最高优先级\n",
    "    - 优先级表格\n",
    "        ** 指数（最高优先级）\n",
    "        ~ + - 按位翻转，一元加号和减号（最后两个的方法名为 +@ 和 -@）\n",
    "        * / % // 乘，除，取模和取整数\n",
    "        + - 加法减法\n",
    "        >> << 右移，左移运算符\n",
    "        &  位'AND'\n",
    "        ^ | 位运算符\n",
    "        <= < > >= 比较运算符\n",
    "        <> == !=  等于运算符\n",
    "        = %= /= //= -= += *= **= 赋值运算符\n",
    "        is is not 身份运算符\n",
    "        in not in 成员运算符\n",
    "        not or and 逻辑运算符\n"
   ]
  }
 ],
 "metadata": {
  "kernelspec": {
   "display_name": "Python 3",
   "language": "python",
   "name": "python3"
  },
  "language_info": {
   "codemirror_mode": {
    "name": "ipython",
    "version": 3
   },
   "file_extension": ".py",
   "mimetype": "text/x-python",
   "name": "python",
   "nbconvert_exporter": "python",
   "pygments_lexer": "ipython3",
   "version": "3.6.7"
  }
 },
 "nbformat": 4,
 "nbformat_minor": 2
}

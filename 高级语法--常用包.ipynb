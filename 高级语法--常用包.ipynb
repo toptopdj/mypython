{
 "cells": [
  {
   "cell_type": "markdown",
   "metadata": {},
   "source": [
    "# 常用模块\n",
    "- calendar\n",
    "- time\n",
    "- datetime\n",
    "- timeit\n",
    "- os\n",
    "- shutil\n",
    "- zip\n",
    "- math\n",
    "- string\n",
    "- 上述所有模块使用理论上都应该先导入，string是个特例\n",
    "- calendar，time，datetime的区别参考中文意思"
   ]
  },
  {
   "cell_type": "markdown",
   "metadata": {},
   "source": [
    "# calendar\n",
    "- 跟日历相关的模块"
   ]
  },
  {
   "cell_type": "code",
   "execution_count": 1,
   "metadata": {},
   "outputs": [
    {
     "name": "stdout",
     "output_type": "stream",
     "text": [
      "<class 'str'>\n",
      "                                  2018\n",
      "\n",
      "      January                   February                   March\n",
      "Mo Tu We Th Fr Sa Su      Mo Tu We Th Fr Sa Su      Mo Tu We Th Fr Sa Su\n",
      " 1  2  3  4  5  6  7                1  2  3  4                1  2  3  4\n",
      " 8  9 10 11 12 13 14       5  6  7  8  9 10 11       5  6  7  8  9 10 11\n",
      "15 16 17 18 19 20 21      12 13 14 15 16 17 18      12 13 14 15 16 17 18\n",
      "22 23 24 25 26 27 28      19 20 21 22 23 24 25      19 20 21 22 23 24 25\n",
      "29 30 31                  26 27 28                  26 27 28 29 30 31\n",
      "\n",
      "       April                      May                       June\n",
      "Mo Tu We Th Fr Sa Su      Mo Tu We Th Fr Sa Su      Mo Tu We Th Fr Sa Su\n",
      "                   1          1  2  3  4  5  6                   1  2  3\n",
      " 2  3  4  5  6  7  8       7  8  9 10 11 12 13       4  5  6  7  8  9 10\n",
      " 9 10 11 12 13 14 15      14 15 16 17 18 19 20      11 12 13 14 15 16 17\n",
      "16 17 18 19 20 21 22      21 22 23 24 25 26 27      18 19 20 21 22 23 24\n",
      "23 24 25 26 27 28 29      28 29 30 31               25 26 27 28 29 30\n",
      "30\n",
      "\n",
      "        July                     August                  September\n",
      "Mo Tu We Th Fr Sa Su      Mo Tu We Th Fr Sa Su      Mo Tu We Th Fr Sa Su\n",
      "                   1             1  2  3  4  5                      1  2\n",
      " 2  3  4  5  6  7  8       6  7  8  9 10 11 12       3  4  5  6  7  8  9\n",
      " 9 10 11 12 13 14 15      13 14 15 16 17 18 19      10 11 12 13 14 15 16\n",
      "16 17 18 19 20 21 22      20 21 22 23 24 25 26      17 18 19 20 21 22 23\n",
      "23 24 25 26 27 28 29      27 28 29 30 31            24 25 26 27 28 29 30\n",
      "30 31\n",
      "\n",
      "      October                   November                  December\n",
      "Mo Tu We Th Fr Sa Su      Mo Tu We Th Fr Sa Su      Mo Tu We Th Fr Sa Su\n",
      " 1  2  3  4  5  6  7                1  2  3  4                      1  2\n",
      " 8  9 10 11 12 13 14       5  6  7  8  9 10 11       3  4  5  6  7  8  9\n",
      "15 16 17 18 19 20 21      12 13 14 15 16 17 18      10 11 12 13 14 15 16\n",
      "22 23 24 25 26 27 28      19 20 21 22 23 24 25      17 18 19 20 21 22 23\n",
      "29 30 31                  26 27 28 29 30            24 25 26 27 28 29 30\n",
      "                                                    31\n",
      "\n"
     ]
    }
   ],
   "source": [
    "# 使用需要先导入\n",
    "import calendar\n",
    "\n",
    "# calendar: 获取一年的日历字符串\n",
    "# 参数\n",
    "# w = 每个日期之间的间隔字符数\n",
    "# l = 每周所占用的行数\n",
    "# c = 每个月之间的间隔字符数\n",
    "cal = calendar.calendar(2018)\n",
    "print(type(cal))\n",
    "print(cal)"
   ]
  },
  {
   "cell_type": "code",
   "execution_count": 2,
   "metadata": {},
   "outputs": [
    {
     "name": "stdout",
     "output_type": "stream",
     "text": [
      "                                 2018\n",
      "\n",
      "      January                  February                  March\n",
      "Mo Tu We Th Fr Sa Su     Mo Tu We Th Fr Sa Su     Mo Tu We Th Fr Sa Su\n",
      " 1  2  3  4  5  6  7               1  2  3  4               1  2  3  4\n",
      " 8  9 10 11 12 13 14      5  6  7  8  9 10 11      5  6  7  8  9 10 11\n",
      "15 16 17 18 19 20 21     12 13 14 15 16 17 18     12 13 14 15 16 17 18\n",
      "22 23 24 25 26 27 28     19 20 21 22 23 24 25     19 20 21 22 23 24 25\n",
      "29 30 31                 26 27 28                 26 27 28 29 30 31\n",
      "\n",
      "       April                     May                      June\n",
      "Mo Tu We Th Fr Sa Su     Mo Tu We Th Fr Sa Su     Mo Tu We Th Fr Sa Su\n",
      "                   1         1  2  3  4  5  6                  1  2  3\n",
      " 2  3  4  5  6  7  8      7  8  9 10 11 12 13      4  5  6  7  8  9 10\n",
      " 9 10 11 12 13 14 15     14 15 16 17 18 19 20     11 12 13 14 15 16 17\n",
      "16 17 18 19 20 21 22     21 22 23 24 25 26 27     18 19 20 21 22 23 24\n",
      "23 24 25 26 27 28 29     28 29 30 31              25 26 27 28 29 30\n",
      "30\n",
      "\n",
      "        July                    August                 September\n",
      "Mo Tu We Th Fr Sa Su     Mo Tu We Th Fr Sa Su     Mo Tu We Th Fr Sa Su\n",
      "                   1            1  2  3  4  5                     1  2\n",
      " 2  3  4  5  6  7  8      6  7  8  9 10 11 12      3  4  5  6  7  8  9\n",
      " 9 10 11 12 13 14 15     13 14 15 16 17 18 19     10 11 12 13 14 15 16\n",
      "16 17 18 19 20 21 22     20 21 22 23 24 25 26     17 18 19 20 21 22 23\n",
      "23 24 25 26 27 28 29     27 28 29 30 31           24 25 26 27 28 29 30\n",
      "30 31\n",
      "\n",
      "      October                  November                 December\n",
      "Mo Tu We Th Fr Sa Su     Mo Tu We Th Fr Sa Su     Mo Tu We Th Fr Sa Su\n",
      " 1  2  3  4  5  6  7               1  2  3  4                     1  2\n",
      " 8  9 10 11 12 13 14      5  6  7  8  9 10 11      3  4  5  6  7  8  9\n",
      "15 16 17 18 19 20 21     12 13 14 15 16 17 18     10 11 12 13 14 15 16\n",
      "22 23 24 25 26 27 28     19 20 21 22 23 24 25     17 18 19 20 21 22 23\n",
      "29 30 31                 26 27 28 29 30           24 25 26 27 28 29 30\n",
      "                                                  31\n",
      "\n"
     ]
    }
   ],
   "source": [
    "cal = calendar.calendar(2018, l = 0, c = 5)\n",
    "print(cal)"
   ]
  },
  {
   "cell_type": "code",
   "execution_count": 3,
   "metadata": {},
   "outputs": [
    {
     "data": {
      "text/plain": [
       "True"
      ]
     },
     "execution_count": 3,
     "metadata": {},
     "output_type": "execute_result"
    }
   ],
   "source": [
    "# isleap: 判断某一年是否是闰年\n",
    "calendar.isleap(2000)"
   ]
  },
  {
   "cell_type": "code",
   "execution_count": 4,
   "metadata": {},
   "outputs": [
    {
     "data": {
      "text/plain": [
       "4"
      ]
     },
     "execution_count": 4,
     "metadata": {},
     "output_type": "execute_result"
    }
   ],
   "source": [
    "# leapdays: 获取指定年份之间的闰年的个数\n",
    "calendar.leapdays(2001, 2018)"
   ]
  },
  {
   "cell_type": "code",
   "execution_count": 5,
   "metadata": {},
   "outputs": [
    {
     "name": "stdout",
     "output_type": "stream",
     "text": [
      "Help on function leapdays in module calendar:\n",
      "\n",
      "leapdays(y1, y2)\n",
      "    Return number of leap years in range [y1, y2).\n",
      "    Assume y1 <= y2.\n",
      "\n"
     ]
    }
   ],
   "source": [
    "help(calendar.leapdays)"
   ]
  },
  {
   "cell_type": "code",
   "execution_count": 6,
   "metadata": {},
   "outputs": [
    {
     "name": "stdout",
     "output_type": "stream",
     "text": [
      "   December 2018\n",
      "Mo Tu We Th Fr Sa Su\n",
      "                1  2\n",
      " 3  4  5  6  7  8  9\n",
      "10 11 12 13 14 15 16\n",
      "17 18 19 20 21 22 23\n",
      "24 25 26 27 28 29 30\n",
      "31\n",
      "\n"
     ]
    }
   ],
   "source": [
    "# month() 获取某个月的日历字符串\n",
    "# 格式: calendar.month(year, month)\n",
    "# 返回值：月日历的字符串\n",
    "\n",
    "cal = calendar.month(2018, 12)\n",
    "print(cal)"
   ]
  },
  {
   "cell_type": "code",
   "execution_count": 7,
   "metadata": {},
   "outputs": [
    {
     "name": "stdout",
     "output_type": "stream",
     "text": [
      "5\n",
      "31\n"
     ]
    }
   ],
   "source": [
    "# monthrange() 获取一个月的周几开始即和天数\n",
    "# 格式：calendar.monthrange(year, month)\n",
    "# 返回值：元组(周几开始，总天数)\n",
    "# 注意：周默认0-6表示周一到周天\n",
    "w,t = calendar.monthrange(2018, 12)\n",
    "print(w)\n",
    "print(t)"
   ]
  },
  {
   "cell_type": "code",
   "execution_count": 8,
   "metadata": {},
   "outputs": [
    {
     "name": "stdout",
     "output_type": "stream",
     "text": [
      "<class 'list'>\n",
      "[[0, 0, 0, 0, 0, 1, 2], [3, 4, 5, 6, 7, 8, 9], [10, 11, 12, 13, 14, 15, 16], [17, 18, 19, 20, 21, 22, 23], [24, 25, 26, 27, 28, 29, 30], [31, 0, 0, 0, 0, 0, 0]]\n"
     ]
    }
   ],
   "source": [
    "# monthcalendar() 返回一个月每天的矩阵列表\n",
    "# 格式：calendar.monthcalendar(year, month)\n",
    "# 返回值：二级列表\n",
    "# 注意：矩阵中没有天数用0表示\n",
    "m = calendar.monthcalendar(2018, 12)\n",
    "print(type(m))\n",
    "print(m)"
   ]
  },
  {
   "cell_type": "code",
   "execution_count": 9,
   "metadata": {},
   "outputs": [
    {
     "name": "stdout",
     "output_type": "stream",
     "text": [
      "                                  2018\n",
      "\n",
      "      January                   February                   March\n",
      "Mo Tu We Th Fr Sa Su      Mo Tu We Th Fr Sa Su      Mo Tu We Th Fr Sa Su\n",
      " 1  2  3  4  5  6  7                1  2  3  4                1  2  3  4\n",
      " 8  9 10 11 12 13 14       5  6  7  8  9 10 11       5  6  7  8  9 10 11\n",
      "15 16 17 18 19 20 21      12 13 14 15 16 17 18      12 13 14 15 16 17 18\n",
      "22 23 24 25 26 27 28      19 20 21 22 23 24 25      19 20 21 22 23 24 25\n",
      "29 30 31                  26 27 28                  26 27 28 29 30 31\n",
      "\n",
      "       April                      May                       June\n",
      "Mo Tu We Th Fr Sa Su      Mo Tu We Th Fr Sa Su      Mo Tu We Th Fr Sa Su\n",
      "                   1          1  2  3  4  5  6                   1  2  3\n",
      " 2  3  4  5  6  7  8       7  8  9 10 11 12 13       4  5  6  7  8  9 10\n",
      " 9 10 11 12 13 14 15      14 15 16 17 18 19 20      11 12 13 14 15 16 17\n",
      "16 17 18 19 20 21 22      21 22 23 24 25 26 27      18 19 20 21 22 23 24\n",
      "23 24 25 26 27 28 29      28 29 30 31               25 26 27 28 29 30\n",
      "30\n",
      "\n",
      "        July                     August                  September\n",
      "Mo Tu We Th Fr Sa Su      Mo Tu We Th Fr Sa Su      Mo Tu We Th Fr Sa Su\n",
      "                   1             1  2  3  4  5                      1  2\n",
      " 2  3  4  5  6  7  8       6  7  8  9 10 11 12       3  4  5  6  7  8  9\n",
      " 9 10 11 12 13 14 15      13 14 15 16 17 18 19      10 11 12 13 14 15 16\n",
      "16 17 18 19 20 21 22      20 21 22 23 24 25 26      17 18 19 20 21 22 23\n",
      "23 24 25 26 27 28 29      27 28 29 30 31            24 25 26 27 28 29 30\n",
      "30 31\n",
      "\n",
      "      October                   November                  December\n",
      "Mo Tu We Th Fr Sa Su      Mo Tu We Th Fr Sa Su      Mo Tu We Th Fr Sa Su\n",
      " 1  2  3  4  5  6  7                1  2  3  4                      1  2\n",
      " 8  9 10 11 12 13 14       5  6  7  8  9 10 11       3  4  5  6  7  8  9\n",
      "15 16 17 18 19 20 21      12 13 14 15 16 17 18      10 11 12 13 14 15 16\n",
      "22 23 24 25 26 27 28      19 20 21 22 23 24 25      17 18 19 20 21 22 23\n",
      "29 30 31                  26 27 28 29 30            24 25 26 27 28 29 30\n",
      "                                                    31\n",
      "\n",
      "++++++++++++++++++++++++++++++\n",
      "Help on method pryear in module calendar:\n",
      "\n",
      "pryear(theyear, w=0, l=0, c=6, m=3) method of calendar.TextCalendar instance\n",
      "    Print a year's calendar.\n",
      "\n"
     ]
    }
   ],
   "source": [
    "# prcal: 直接打印日历\n",
    "calendar.prcal(2018)\n",
    "print('+' * 30)\n",
    "help(calendar.prcal)"
   ]
  },
  {
   "cell_type": "code",
   "execution_count": 10,
   "metadata": {},
   "outputs": [
    {
     "name": "stdout",
     "output_type": "stream",
     "text": [
      "   December 2018\n",
      "Mo Tu We Th Fr Sa Su\n",
      "                1  2\n",
      " 3  4  5  6  7  8  9\n",
      "10 11 12 13 14 15 16\n",
      "17 18 19 20 21 22 23\n",
      "24 25 26 27 28 29 30\n",
      "31\n"
     ]
    }
   ],
   "source": [
    "# prmonth() 直接打印整个月的日历\n",
    "# 格式：calendar.prmonth(year, month)\n",
    "# 返回值：无\n",
    "calendar.prmonth(2018, 12)"
   ]
  },
  {
   "cell_type": "code",
   "execution_count": 11,
   "metadata": {},
   "outputs": [
    {
     "data": {
      "text/plain": [
       "0"
      ]
     },
     "execution_count": 11,
     "metadata": {},
     "output_type": "execute_result"
    }
   ],
   "source": [
    "# weekday() 获取周几\n",
    "# 格式：calendar.weekday(year, month, day)\n",
    "# 返回值：周几对应的数字\n",
    "calendar.weekday(2018, 12, 3)"
   ]
  },
  {
   "cell_type": "markdown",
   "metadata": {},
   "source": [
    "# time模块\n",
    "## 时间戳\n",
    "    - 一个时间表示，根据不同语言，可以是整数或者浮点数\n",
    "    - 是从1970年1月1日0时0分0秒到现在经历的秒数\n",
    "    - 如果表示的时间是197年以前或者太遥远的未来，可能出现异常\n",
    "    - 32位系统能够支持到2038年\n",
    "    \n",
    "### UTC时间\n",
    "    - UTC又称为世界协调时间，以英国的格林尼知天文所在地区的时间作为参考的时间，也叫做世界标准时间\n",
    "    - 中国时间是 UTC + 8 东八区\n",
    "    \n",
    "### 夏令时\n",
    "    - 夏令时就是在夏天的时候将时间调快一小时，本意是督促大家早睡早起节省蜡烛！每天变成25小时，本质没变还是24小时\n",
    "    \n",
    "### 时间元组（自行百度）\n",
    "    - 一个包含时间内容的普通元组"
   ]
  },
  {
   "cell_type": "code",
   "execution_count": 12,
   "metadata": {},
   "outputs": [
    {
     "name": "stdout",
     "output_type": "stream",
     "text": [
      "-28800\n"
     ]
    }
   ],
   "source": [
    "# 需要单独引入\n",
    "\n",
    "import time\n",
    "\n",
    "# 时间模块的属性\n",
    "# timezone: 当前时区和UTC时间相差的秒数，在没有夏令时的情况下的间隔，东八区的是 -2800\n",
    "print(time.timezone)"
   ]
  },
  {
   "cell_type": "code",
   "execution_count": 13,
   "metadata": {},
   "outputs": [
    {
     "name": "stdout",
     "output_type": "stream",
     "text": [
      "-28800\n"
     ]
    }
   ],
   "source": [
    "# altzone 获取当前时区与UTC时间相差的秒数，在没有夏令时的情况下\n",
    "print(time.altzone)"
   ]
  },
  {
   "cell_type": "code",
   "execution_count": 14,
   "metadata": {},
   "outputs": [
    {
     "name": "stdout",
     "output_type": "stream",
     "text": [
      "0\n"
     ]
    }
   ],
   "source": [
    "# daylight 测当前是否是夏令时间状态， 0 表示是\n",
    "print(time.daylight)"
   ]
  },
  {
   "cell_type": "code",
   "execution_count": 15,
   "metadata": {},
   "outputs": [
    {
     "data": {
      "text/plain": [
       "1543801754.3065753"
      ]
     },
     "execution_count": 15,
     "metadata": {},
     "output_type": "execute_result"
    }
   ],
   "source": [
    "# 得到时间戳\n",
    "time.time()"
   ]
  },
  {
   "cell_type": "code",
   "execution_count": 17,
   "metadata": {},
   "outputs": [
    {
     "name": "stdout",
     "output_type": "stream",
     "text": [
      "time.struct_time(tm_year=2018, tm_mon=12, tm_mday=3, tm_hour=9, tm_min=51, tm_sec=22, tm_wday=0, tm_yday=337, tm_isdst=0)\n",
      "2018\n"
     ]
    }
   ],
   "source": [
    "# 得到当前时间\n",
    "# 可以通过点操作符得到相应属性\n",
    "t = time.localtime()\n",
    "print(t)\n",
    "print(t.tm_year)"
   ]
  },
  {
   "cell_type": "code",
   "execution_count": 18,
   "metadata": {},
   "outputs": [
    {
     "name": "stdout",
     "output_type": "stream",
     "text": [
      "<class 'str'>\n",
      "Mon Dec  3 09:53:12 2018\n"
     ]
    }
   ],
   "source": [
    "# asctime() 返回元组的正常字符串化之后的时间格式\n",
    "# 格式： time.asctime(时间元组)\n",
    "# 返回值：字符串\n",
    "t = time.localtime()\n",
    "tt = time.asctime(t)\n",
    "print(type(tt))\n",
    "print(tt)"
   ]
  },
  {
   "cell_type": "code",
   "execution_count": 19,
   "metadata": {},
   "outputs": [
    {
     "name": "stdout",
     "output_type": "stream",
     "text": [
      "<class 'str'>\n",
      "Mon Dec  3 09:54:01 2018\n"
     ]
    }
   ],
   "source": [
    "# ctime: 获取字符串化的当前时间\n",
    "t = time.ctime()\n",
    "print(type(t))\n",
    "print(t)"
   ]
  },
  {
   "cell_type": "code",
   "execution_count": 20,
   "metadata": {},
   "outputs": [
    {
     "name": "stdout",
     "output_type": "stream",
     "text": [
      "<class 'float'>\n",
      "1543802141.0\n"
     ]
    }
   ],
   "source": [
    "# mktime() 使用时间元组获取对应的时间戳\n",
    "# 格式：time.mktime(时间元组)\n",
    "# 返回值：浮点数时间戳\n",
    "lt = time.localtime()\n",
    "ts = time.mktime(lt)\n",
    "print(type(ts))\n",
    "print(ts)"
   ]
  },
  {
   "cell_type": "code",
   "execution_count": 21,
   "metadata": {},
   "outputs": [],
   "source": [
    "# clock: 获取cpu时间， 3.0-3.3版本直接使用，3.6调用有问题"
   ]
  },
  {
   "cell_type": "code",
   "execution_count": 24,
   "metadata": {},
   "outputs": [
    {
     "name": "stdout",
     "output_type": "stream",
     "text": [
      "0 1 2 3 4 5 6 7 8 9 "
     ]
    }
   ],
   "source": [
    "# sleep: 使程序进入睡眠，n秒后继续\n",
    "\n",
    "for i in range(10):\n",
    "    print(i, end=' ')\n",
    "    time.sleep(1)"
   ]
  },
  {
   "cell_type": "markdown",
   "metadata": {},
   "source": [
    "# strftime 将时间元组转化为自定义的字符串格式\n",
    "\n",
    "    %y 两位数的年份表示（00-99）\n",
    "    %Y 四位数的年份表示（000-9999）\n",
    "    %m 月份（01-12）\n",
    "    %d 月内中的一天（0-31）\n",
    "    %H 24小时制小时数（0-23）\n",
    "    %I 12小时制小时数（01-12）\n",
    "    %M 分钟数（00=59）\n",
    "    %S 秒（00-59）\n",
    "    %a 本地简化星期名称\n",
    "    %A 本地完整星期名称\n",
    "    %b 本地简化的月份名称\n",
    "    %B 本地完整的月份名称\n",
    "    %c 本地相应的日期表示和时间表示\n",
    "    %j 年内的一天（001-366）\n",
    "    %p 本地A.M.或P.M.的等价符\n",
    "    %U 一年中的星期数（00-53）星期天为星期的开始\n",
    "    %w 星期（0-6），星期天为星期的开始\n",
    "    %W 一年中的星期数（00-53）星期一为星期的开始\n",
    "    %x 本地相应的日期表示\n",
    "    %X 本地相应的时间表示\n",
    "    %Z 当前时区的名称\n",
    "    %% %号本身\n",
    "\n"
   ]
  },
  {
   "cell_type": "code",
   "execution_count": 26,
   "metadata": {},
   "outputs": [
    {
     "name": "stdout",
     "output_type": "stream",
     "text": [
      "2018年12月03日 10:12\n"
     ]
    }
   ],
   "source": [
    "# 把时间表示成 2018年12月3日 10:11\n",
    "t = time.localtime()\n",
    "ft = time.strftime('%Y年%m月%d日 %H:%M', t)\n",
    "print(ft)"
   ]
  },
  {
   "cell_type": "markdown",
   "metadata": {},
   "source": [
    "# datetime 模块\n",
    "    - datetime 提供日期和时间的运算和表示"
   ]
  },
  {
   "cell_type": "code",
   "execution_count": 28,
   "metadata": {},
   "outputs": [
    {
     "name": "stdout",
     "output_type": "stream",
     "text": [
      "2018-12-03\n",
      "2018\n",
      "3\n",
      "12\n"
     ]
    }
   ],
   "source": [
    "import datetime\n",
    "\n",
    "# datetime常见属性\n",
    "# datetime.date: 一个理想和的日期，提供year, month, day属性\n",
    "dt = datetime.date(2018, 12, 3)\n",
    "print(dt)\n",
    "print(dt.year)\n",
    "print(dt.day)\n",
    "print(dt.month)\n",
    "\n",
    "# datetime.time: 提供一个理想和的时间，居于hour, minute, sec, microsec等\n",
    "# datetime.datetime: 提供日期跟时间的组合\n",
    "# datetime.timedelta: 提供一个时间差，时间长度"
   ]
  },
  {
   "cell_type": "code",
   "execution_count": 29,
   "metadata": {},
   "outputs": [
    {
     "name": "stdout",
     "output_type": "stream",
     "text": [
      "2018-12-03 10:41:21.355160\n",
      "2018-12-03 10:41:21.356529\n",
      "2018-12-03 10:41:21.356677\n"
     ]
    }
   ],
   "source": [
    "# datetime.datetime\n",
    "\n",
    "from datetime import datetime\n",
    "\n",
    "# 常用类方法：\n",
    "# today：\n",
    "# now\n",
    "# utcnow\n",
    "# fromtimestamp： 从时间戳中返回本地时间\n",
    "\n",
    "dt = datetime(2018, 12, 3)\n",
    "print(dt.today())\n",
    "print(dt.now())\n",
    "\n",
    "print(dt.fromtimestamp(time.time()))"
   ]
  },
  {
   "cell_type": "code",
   "execution_count": 30,
   "metadata": {},
   "outputs": [
    {
     "name": "stdout",
     "output_type": "stream",
     "text": [
      "2018-12-03 10:45:26\n",
      "2018-12-03 11:45:26\n"
     ]
    }
   ],
   "source": [
    "# datetime.timedelta\n",
    "# 表示一个时间间隔\n",
    "\n",
    "from datetime import datetime, timedelta\n",
    "\n",
    "t1 = datetime.now()\n",
    "print(t1.strftime('%Y-%m-%d %H:%M:%S'))\n",
    "\n",
    "# td表示一小时的时间长度\n",
    "td = timedelta(hours=1)\n",
    "# 当前时间加上时间间隔后，把得到的一个小时后的时间格式化输出\n",
    "print((t1+td).strftime('%Y-%m-%d %H:%M:%S'))"
   ]
  },
  {
   "cell_type": "code",
   "execution_count": 31,
   "metadata": {},
   "outputs": [
    {
     "name": "stdout",
     "output_type": "stream",
     "text": [
      "3.601383686065674\n"
     ]
    }
   ],
   "source": [
    "# timeit-时间测量工具\n",
    "# 测量程序运行时间间隔实验\n",
    "def p():\n",
    "    time.sleep(3.6)\n",
    "    \n",
    "t1 = time.time()\n",
    "p()\n",
    "print(time.time() - t1)"
   ]
  },
  {
   "cell_type": "code",
   "execution_count": 34,
   "metadata": {},
   "outputs": [
    {
     "name": "stdout",
     "output_type": "stream",
     "text": [
      "3.1724556230001326\n",
      "7.488290336001228\n"
     ]
    }
   ],
   "source": [
    "import timeit\n",
    "# 生成列表两种方法的比较\n",
    "# 如果单纯比较生成一个列表的时间，可能很难实现\n",
    "c = '''\n",
    "sum = []\n",
    "for i in range(1000):\n",
    "    sum.append(i)\n",
    "'''\n",
    "\n",
    "# 利用timeit调用代码，执行100000次，查看运行时间\n",
    "t1 = timeit.timeit(stmt = '[i for i in range(1000)]', number=100000)\n",
    "# 测量代码c执行100000次运行结果\n",
    "t2 = timeit.timeit(stmt=c, number=100000)\n",
    "print(t1)\n",
    "print(t2)"
   ]
  },
  {
   "cell_type": "code",
   "execution_count": 35,
   "metadata": {},
   "outputs": [
    {
     "name": "stdout",
     "output_type": "stream",
     "text": [
      "Help on function timeit in module timeit:\n",
      "\n",
      "timeit(stmt='pass', setup='pass', timer=<built-in function perf_counter>, number=1000000, globals=None)\n",
      "    Convenience function to create Timer object and call timeit method.\n",
      "\n"
     ]
    }
   ],
   "source": [
    "help(timeit.timeit)"
   ]
  },
  {
   "cell_type": "code",
   "execution_count": 36,
   "metadata": {},
   "outputs": [
    {
     "name": "stdout",
     "output_type": "stream",
     "text": [
      "Repeat for 0\n",
      "Repeat for 1\n",
      "Repeat for 2\n",
      "Repeat for 0\n",
      "Repeat for 1\n",
      "Repeat for 2\n",
      "Repeat for 0\n",
      "Repeat for 1\n",
      "Repeat for 2\n",
      "Repeat for 0\n",
      "Repeat for 1\n",
      "Repeat for 2\n",
      "Repeat for 0\n",
      "Repeat for 1\n",
      "Repeat for 2\n",
      "Repeat for 0\n",
      "Repeat for 1\n",
      "Repeat for 2\n",
      "Repeat for 0\n",
      "Repeat for 1\n",
      "Repeat for 2\n",
      "Repeat for 0\n",
      "Repeat for 1\n",
      "Repeat for 2\n",
      "Repeat for 0\n",
      "Repeat for 1\n",
      "Repeat for 2\n",
      "Repeat for 0\n",
      "Repeat for 1\n",
      "Repeat for 2\n",
      "0.005837477998284157\n"
     ]
    }
   ],
   "source": [
    "# timeit 可以执行一个函数，来测量一个函数的执行时间\n",
    "def doIt():\n",
    "    num = 3\n",
    "    for i in range(num):\n",
    "        print('Repeat for {0}'.format(i))\n",
    "        \n",
    "# 执行函数，重复10次\n",
    "t = timeit.timeit(stmt=doIt, number=10)\n",
    "print(t)"
   ]
  },
  {
   "cell_type": "code",
   "execution_count": 38,
   "metadata": {},
   "outputs": [
    {
     "name": "stdout",
     "output_type": "stream",
     "text": [
      "Repeat for 0\n",
      "Repeat for 1\n",
      "Repeat for 2\n",
      "Repeat for 0\n",
      "Repeat for 1\n",
      "Repeat for 2\n",
      "Repeat for 0\n",
      "Repeat for 1\n",
      "Repeat for 2\n",
      "Repeat for 0\n",
      "Repeat for 1\n",
      "Repeat for 2\n",
      "Repeat for 0\n",
      "Repeat for 1\n",
      "Repeat for 2\n",
      "Repeat for 0\n",
      "Repeat for 1\n",
      "Repeat for 2\n",
      "Repeat for 0\n",
      "Repeat for 1\n",
      "Repeat for 2\n",
      "Repeat for 0\n",
      "Repeat for 1\n",
      "Repeat for 2\n",
      "Repeat for 0\n",
      "Repeat for 1\n",
      "Repeat for 2\n",
      "Repeat for 0\n",
      "Repeat for 1\n",
      "Repeat for 2\n",
      "0.0010819380004249979\n"
     ]
    }
   ],
   "source": [
    "s = '''\n",
    "def doIt(num):\n",
    "    for i in range(num):\n",
    "        print('Repeat for {0}'.format(i))\n",
    "        \n",
    "'''\n",
    "# 执行doIt(num)\n",
    "# setup负责把环境变量准备好\n",
    "# 实际相当于给timeit创造了一个小环境\n",
    "# 在创作的小环境中，代码执行的顺序大致是\n",
    "#\n",
    "'''\n",
    "def doIt(num):\n",
    "    for i in range(num):\n",
    "        print('Repeat for {0}'.format(i))\n",
    "        \n",
    "num = 3\n",
    "\n",
    "doIt(num)\n",
    "        \n",
    "'''\n",
    "t = timeit.timeit('doIt(num)', setup=s+'num=3', number=10)\n",
    "print(t)"
   ]
  },
  {
   "cell_type": "markdown",
   "metadata": {},
   "source": [
    "# datetime.datetime模块\n",
    "- 提供一个比较好用的时间\n",
    "- 类定义\n",
    "    - 详细参考手册"
   ]
  },
  {
   "cell_type": "code",
   "execution_count": 39,
   "metadata": {},
   "outputs": [
    {
     "name": "stdout",
     "output_type": "stream",
     "text": [
      "2018-12-03 11:16:42.518105\n"
     ]
    }
   ],
   "source": [
    "from datetime import datetime as dt\n",
    "\n",
    "print(dt.now())"
   ]
  },
  {
   "cell_type": "markdown",
   "metadata": {},
   "source": [
    "# os模块-操作系统相关\n",
    "- 跟操作系统相关，主要是文件操作\n",
    "- 与系统相关的操作，主要包含在三个模块里\n",
    "    - os 操作系统目录相关\n",
    "    - os.path 系统路径相关\n",
    "    - shutil 高级文件操作，目录树的操作，文件赋值，删除，移动\n",
    "- 路径：\n",
    "    - 绝对路径：总是从根目录上开始\n",
    "    - 相对路径：基本以当前环境开始的一个相对的地方\n",
    "   "
   ]
  },
  {
   "cell_type": "code",
   "execution_count": 40,
   "metadata": {},
   "outputs": [
    {
     "name": "stdout",
     "output_type": "stream",
     "text": [
      "/home/gavin/Documents/python学习\n"
     ]
    }
   ],
   "source": [
    "# os模块\n",
    "\n",
    "# getcwd() 获取当前的工作目录\n",
    "# 格式 os.getcwd()\n",
    "# 返回值： 当前工作目录的字符串\n",
    "# 当前工作目录就是程序在进行文件相关操作，默认查找文件的目录\n",
    "\n",
    "import os\n",
    "\n",
    "mydir = os.getcwd()\n",
    "print(mydir)"
   ]
  },
  {
   "cell_type": "code",
   "execution_count": 41,
   "metadata": {},
   "outputs": [
    {
     "ename": "FileNotFoundError",
     "evalue": "[Errno 2] No such file or directory: 'home/tlxy'",
     "output_type": "error",
     "traceback": [
      "\u001b[0;31m---------------------------------------------------------------------------\u001b[0m",
      "\u001b[0;31mFileNotFoundError\u001b[0m                         Traceback (most recent call last)",
      "\u001b[0;32m<ipython-input-41-4916cf4a42f6>\u001b[0m in \u001b[0;36m<module>\u001b[0;34m()\u001b[0m\n\u001b[1;32m      4\u001b[0m \u001b[0;31m# 返回值：无\u001b[0m\u001b[0;34m\u001b[0m\u001b[0;34m\u001b[0m\u001b[0;34m\u001b[0m\u001b[0m\n\u001b[1;32m      5\u001b[0m \u001b[0;34m\u001b[0m\u001b[0m\n\u001b[0;32m----> 6\u001b[0;31m \u001b[0mos\u001b[0m\u001b[0;34m.\u001b[0m\u001b[0mchdir\u001b[0m\u001b[0;34m(\u001b[0m\u001b[0;34m'home/tlxy'\u001b[0m\u001b[0;34m)\u001b[0m\u001b[0;34m\u001b[0m\u001b[0;34m\u001b[0m\u001b[0m\n\u001b[0m\u001b[1;32m      7\u001b[0m \u001b[0mmydir\u001b[0m \u001b[0;34m=\u001b[0m \u001b[0mos\u001b[0m\u001b[0;34m.\u001b[0m\u001b[0mgetcwd\u001b[0m\u001b[0;34m(\u001b[0m\u001b[0;34m)\u001b[0m\u001b[0;34m\u001b[0m\u001b[0;34m\u001b[0m\u001b[0m\n\u001b[1;32m      8\u001b[0m \u001b[0mprint\u001b[0m\u001b[0;34m(\u001b[0m\u001b[0mmydir\u001b[0m\u001b[0;34m)\u001b[0m\u001b[0;34m\u001b[0m\u001b[0;34m\u001b[0m\u001b[0m\n",
      "\u001b[0;31mFileNotFoundError\u001b[0m: [Errno 2] No such file or directory: 'home/tlxy'"
     ]
    }
   ],
   "source": [
    "# chdir() 改变当前的工作目录\n",
    "# change directory\n",
    "# 格式 os.chdir(路径)\n",
    "# 返回值：无\n",
    "\n",
    "os.chdir('home/tlxy')\n",
    "mydir = os.getcwd()\n",
    "print(mydir)"
   ]
  },
  {
   "cell_type": "code",
   "execution_count": 42,
   "metadata": {},
   "outputs": [
    {
     "name": "stdout",
     "output_type": "stream",
     "text": [
      "['高级语法--常用包.ipynb', 'OOP(下).ipynb', '变量作用域和集合列表字典元组.ipynb', '.ipynb_checkpoints', '内建结构list-dict-set(下).ipynb', '函数.ipynb', '分支循环.ipynb', 'OOP(上).ipynb', 'anaconda使用.ipynb', 'Python基础学习.ipynb', '内建结构list-dict-set(上).ipynb', '环境安装，变量.ipynb', '高级语法部分--包.ipynb']\n"
     ]
    }
   ],
   "source": [
    "# listdir() 获取一个目录中所有子目录和文件的名称列表\n",
    "# 格式 os.listdir(路径)\n",
    "# 返回值：所有子目录和文件名称的列表\n",
    "\n",
    "ld = os.listdir()\n",
    "print(ld)"
   ]
  },
  {
   "cell_type": "code",
   "execution_count": 43,
   "metadata": {},
   "outputs": [
    {
     "name": "stdout",
     "output_type": "stream",
     "text": [
      "None\n"
     ]
    }
   ],
   "source": [
    "# makedirs() 递归创建文件夹\n",
    "# 格式 os.makedirs(递归路径)\n",
    "# 返回值：无\n",
    "# 递归路径：多个文件夹层层包含的路径就是递归路径\n",
    "\n",
    "rst = os.makedirs('dana')\n",
    "print(rst)"
   ]
  },
  {
   "cell_type": "code",
   "execution_count": 44,
   "metadata": {},
   "outputs": [
    {
     "name": "stdout",
     "output_type": "stream",
     "text": [
      "0\n"
     ]
    }
   ],
   "source": [
    "# system() 运行系统shell命令\n",
    "# 格式： os.system(shell)\n",
    "# 返回值：打开一个shell或者终端界面\n",
    "\n",
    "# ls是列出当前文件和文件夹的系统命令\n",
    "rst = os.system('ls')\n",
    "print(rst)"
   ]
  },
  {
   "cell_type": "code",
   "execution_count": 45,
   "metadata": {},
   "outputs": [
    {
     "name": "stdout",
     "output_type": "stream",
     "text": [
      "/usr/bin:/home/gavin/.local/bin:/usr/local/sbin:/usr/local/bin:/usr/sbin:/usr/bin:/sbin:/bin:/usr/games:/usr/local/games:/snap/bin\n"
     ]
    }
   ],
   "source": [
    "# getenv() 获取指定的系统环境变量值\n",
    "# 相应的还有putenv()\n",
    "# 格式：os.getenv('环境变量名')\n",
    "# 返回值：指定环境变量名对应的值\n",
    "\n",
    "rst = os.getenv('PATH')\n",
    "print(rst)"
   ]
  },
  {
   "cell_type": "code",
   "execution_count": 46,
   "metadata": {},
   "outputs": [],
   "source": [
    "# exit() 退出当前程序\n",
    "# 格式 exit()\n",
    "# 返回值：无"
   ]
  },
  {
   "cell_type": "markdown",
   "metadata": {},
   "source": [
    "# 值部分\n",
    "\n",
    "- os.curdir: curretn dir 当前目录\n",
    "- os.pardir: parent dir 父级目录\n",
    "- os.sep: 当前系统的路径分隔符\n",
    "    - windows: '\\'\n",
    "    - linux: '/'\n",
    "- os.linesep: 当前系统的换行符\n",
    "    - windows: '\\r\\n'\n",
    "    - unix,linux,macos: '\\n\\\n",
    "- os.name: 当前系统名称\n",
    "    - windows: nt\n",
    "    - mac, unix, linux: posix\n"
   ]
  },
  {
   "cell_type": "code",
   "execution_count": 47,
   "metadata": {},
   "outputs": [
    {
     "name": "stdout",
     "output_type": "stream",
     "text": [
      "..\n",
      ".\n"
     ]
    }
   ],
   "source": [
    "print(os.pardir)\n",
    "print(os.curdir)"
   ]
  },
  {
   "cell_type": "code",
   "execution_count": 48,
   "metadata": {},
   "outputs": [
    {
     "name": "stdout",
     "output_type": "stream",
     "text": [
      "/\n",
      "\n",
      "\n"
     ]
    }
   ],
   "source": [
    "print(os.sep)\n",
    "print(os.linesep)"
   ]
  },
  {
   "cell_type": "code",
   "execution_count": 49,
   "metadata": {},
   "outputs": [
    {
     "name": "stdout",
     "output_type": "stream",
     "text": [
      "/home/tlxy/dana\n"
     ]
    }
   ],
   "source": [
    "# 在路径相关的操作中，不要手动拼写地址，因为手动拼写的路径可能不具有移植性\n",
    "path = '/home/tlxy' + '/' + 'dana'\n",
    "print(path)"
   ]
  },
  {
   "cell_type": "code",
   "execution_count": 50,
   "metadata": {},
   "outputs": [
    {
     "name": "stdout",
     "output_type": "stream",
     "text": [
      "posix\n"
     ]
    }
   ],
   "source": [
    "# linux 操作系统的名称是posix\n",
    "print(os.name)"
   ]
  },
  {
   "cell_type": "markdown",
   "metadata": {},
   "source": [
    "## os.path 模块，跟路径相关的模块\n"
   ]
  },
  {
   "cell_type": "code",
   "execution_count": 51,
   "metadata": {},
   "outputs": [
    {
     "name": "stdout",
     "output_type": "stream",
     "text": [
      "/home/gavin/Documents/python学习\n"
     ]
    }
   ],
   "source": [
    "# abaspath() 将路径转化为绝对路径\n",
    "# absolute 绝对\n",
    "# 格式 os.path.abspath('路径')\n",
    "# 返回值：路径的绝对路径形式\n",
    "\n",
    "# Linux中\n",
    "# .点号代表当前目录\n",
    "# ..代表当前目录父目录\n",
    "\n",
    "import os.path as op\n",
    "\n",
    "absp = op.abspath('.')\n",
    "print(absp)"
   ]
  },
  {
   "cell_type": "code",
   "execution_count": 52,
   "metadata": {},
   "outputs": [
    {
     "name": "stdout",
     "output_type": "stream",
     "text": [
      "python学习\n"
     ]
    }
   ],
   "source": [
    "# basename() 获取路径中的文件名部分\n",
    "# 格式 os.path.basename(路径)\n",
    "# 返回值：文件名字符串\n",
    "\n",
    "bn = op.basename('/home/gavin/Documents/python学习')\n",
    "print(bn)"
   ]
  },
  {
   "cell_type": "code",
   "execution_count": 56,
   "metadata": {},
   "outputs": [
    {
     "name": "stdout",
     "output_type": "stream",
     "text": [
      "/home/gavin/Documents/python学习/dana.haha\n"
     ]
    }
   ],
   "source": [
    "# join() 将多个路径拼合成一个路径\n",
    "# 格式 os.path.join(路径1, 路径2, ...)\n",
    "# 返回值：组合之后的新路径字符串\n",
    "\n",
    "bd = '/home/gavin/Documents/python学习'\n",
    "fn = 'dana.haha'\n",
    "\n",
    "p = op.join(bd, fn)\n",
    "print(p)"
   ]
  },
  {
   "cell_type": "code",
   "execution_count": 57,
   "metadata": {},
   "outputs": [
    {
     "name": "stdout",
     "output_type": "stream",
     "text": [
      "('/home/gavin/Documents/python学习', 'dana.haha')\n",
      "/home/gavin/Documents/python学习 dana.haha\n"
     ]
    }
   ],
   "source": [
    "# split() 将路径切割为文件夹部分和当前文件部分\n",
    "# 格式 os.path.split(路径)\n",
    "# 返回值：路径和文件名组成的元组\n",
    "\n",
    "t = op.split('/home/gavin/Documents/python学习/dana.haha')\n",
    "print(t)\n",
    "\n",
    "d,p = op.split('/home/gavin/Documents/python学习/dana.haha')\n",
    "print(d, p)"
   ]
  },
  {
   "cell_type": "code",
   "execution_count": 55,
   "metadata": {},
   "outputs": [
    {
     "name": "stdout",
     "output_type": "stream",
     "text": [
      "False\n"
     ]
    }
   ],
   "source": [
    "# isdir() 检测是否是目录\n",
    "# 格式 os.path.isdir(路径)\n",
    "# 返回值：布尔值\n",
    "\n",
    "rst = op.isdir('/home/gavin/Documents/python学习/dana.haha')\n",
    "print(rst)"
   ]
  },
  {
   "cell_type": "code",
   "execution_count": 59,
   "metadata": {},
   "outputs": [
    {
     "name": "stdout",
     "output_type": "stream",
     "text": [
      "False\n"
     ]
    }
   ],
   "source": [
    "# exists() 检测文件或者目录是否存在\n",
    "# 格式 os.path.exists(路径)\n",
    "# 返回值：布尔值\n",
    "\n",
    "e = op.exists('/home/gavin/Documents/python学习/dana.haha')\n",
    "print(e)"
   ]
  },
  {
   "cell_type": "markdown",
   "metadata": {},
   "source": [
    "# shutil 模块\n"
   ]
  },
  {
   "cell_type": "code",
   "execution_count": 61,
   "metadata": {},
   "outputs": [
    {
     "ename": "FileNotFoundError",
     "evalue": "[Errno 2] No such file or directory: '/home/gavin/Documents/python学习/dana.haha'",
     "output_type": "error",
     "traceback": [
      "\u001b[0;31m---------------------------------------------------------------------------\u001b[0m",
      "\u001b[0;31mFileNotFoundError\u001b[0m                         Traceback (most recent call last)",
      "\u001b[0;32m<ipython-input-61-2fc98679ce4c>\u001b[0m in \u001b[0;36m<module>\u001b[0;34m()\u001b[0m\n\u001b[1;32m      6\u001b[0m \u001b[0;32mimport\u001b[0m \u001b[0mshutil\u001b[0m\u001b[0;34m\u001b[0m\u001b[0;34m\u001b[0m\u001b[0m\n\u001b[1;32m      7\u001b[0m \u001b[0;34m\u001b[0m\u001b[0m\n\u001b[0;32m----> 8\u001b[0;31m \u001b[0mrst\u001b[0m \u001b[0;34m=\u001b[0m \u001b[0mshutil\u001b[0m\u001b[0;34m.\u001b[0m\u001b[0mcopy\u001b[0m\u001b[0;34m(\u001b[0m\u001b[0;34m'/home/gavin/Documents/python学习/dana.haha'\u001b[0m\u001b[0;34m,\u001b[0m \u001b[0;34m'/home/gavin/Documents/python学习/haha.haha'\u001b[0m\u001b[0;34m)\u001b[0m\u001b[0;34m\u001b[0m\u001b[0;34m\u001b[0m\u001b[0m\n\u001b[0m\u001b[1;32m      9\u001b[0m \u001b[0mprint\u001b[0m\u001b[0;34m(\u001b[0m\u001b[0mrst\u001b[0m\u001b[0;34m)\u001b[0m\u001b[0;34m\u001b[0m\u001b[0;34m\u001b[0m\u001b[0m\n",
      "\u001b[0;32m/usr/lib/python3.6/shutil.py\u001b[0m in \u001b[0;36mcopy\u001b[0;34m(src, dst, follow_symlinks)\u001b[0m\n\u001b[1;32m    239\u001b[0m     \u001b[0;32mif\u001b[0m \u001b[0mos\u001b[0m\u001b[0;34m.\u001b[0m\u001b[0mpath\u001b[0m\u001b[0;34m.\u001b[0m\u001b[0misdir\u001b[0m\u001b[0;34m(\u001b[0m\u001b[0mdst\u001b[0m\u001b[0;34m)\u001b[0m\u001b[0;34m:\u001b[0m\u001b[0;34m\u001b[0m\u001b[0;34m\u001b[0m\u001b[0m\n\u001b[1;32m    240\u001b[0m         \u001b[0mdst\u001b[0m \u001b[0;34m=\u001b[0m \u001b[0mos\u001b[0m\u001b[0;34m.\u001b[0m\u001b[0mpath\u001b[0m\u001b[0;34m.\u001b[0m\u001b[0mjoin\u001b[0m\u001b[0;34m(\u001b[0m\u001b[0mdst\u001b[0m\u001b[0;34m,\u001b[0m \u001b[0mos\u001b[0m\u001b[0;34m.\u001b[0m\u001b[0mpath\u001b[0m\u001b[0;34m.\u001b[0m\u001b[0mbasename\u001b[0m\u001b[0;34m(\u001b[0m\u001b[0msrc\u001b[0m\u001b[0;34m)\u001b[0m\u001b[0;34m)\u001b[0m\u001b[0;34m\u001b[0m\u001b[0;34m\u001b[0m\u001b[0m\n\u001b[0;32m--> 241\u001b[0;31m     \u001b[0mcopyfile\u001b[0m\u001b[0;34m(\u001b[0m\u001b[0msrc\u001b[0m\u001b[0;34m,\u001b[0m \u001b[0mdst\u001b[0m\u001b[0;34m,\u001b[0m \u001b[0mfollow_symlinks\u001b[0m\u001b[0;34m=\u001b[0m\u001b[0mfollow_symlinks\u001b[0m\u001b[0;34m)\u001b[0m\u001b[0;34m\u001b[0m\u001b[0;34m\u001b[0m\u001b[0m\n\u001b[0m\u001b[1;32m    242\u001b[0m     \u001b[0mcopymode\u001b[0m\u001b[0;34m(\u001b[0m\u001b[0msrc\u001b[0m\u001b[0;34m,\u001b[0m \u001b[0mdst\u001b[0m\u001b[0;34m,\u001b[0m \u001b[0mfollow_symlinks\u001b[0m\u001b[0;34m=\u001b[0m\u001b[0mfollow_symlinks\u001b[0m\u001b[0;34m)\u001b[0m\u001b[0;34m\u001b[0m\u001b[0;34m\u001b[0m\u001b[0m\n\u001b[1;32m    243\u001b[0m     \u001b[0;32mreturn\u001b[0m \u001b[0mdst\u001b[0m\u001b[0;34m\u001b[0m\u001b[0;34m\u001b[0m\u001b[0m\n",
      "\u001b[0;32m/usr/lib/python3.6/shutil.py\u001b[0m in \u001b[0;36mcopyfile\u001b[0;34m(src, dst, follow_symlinks)\u001b[0m\n\u001b[1;32m    118\u001b[0m         \u001b[0mos\u001b[0m\u001b[0;34m.\u001b[0m\u001b[0msymlink\u001b[0m\u001b[0;34m(\u001b[0m\u001b[0mos\u001b[0m\u001b[0;34m.\u001b[0m\u001b[0mreadlink\u001b[0m\u001b[0;34m(\u001b[0m\u001b[0msrc\u001b[0m\u001b[0;34m)\u001b[0m\u001b[0;34m,\u001b[0m \u001b[0mdst\u001b[0m\u001b[0;34m)\u001b[0m\u001b[0;34m\u001b[0m\u001b[0;34m\u001b[0m\u001b[0m\n\u001b[1;32m    119\u001b[0m     \u001b[0;32melse\u001b[0m\u001b[0;34m:\u001b[0m\u001b[0;34m\u001b[0m\u001b[0;34m\u001b[0m\u001b[0m\n\u001b[0;32m--> 120\u001b[0;31m         \u001b[0;32mwith\u001b[0m \u001b[0mopen\u001b[0m\u001b[0;34m(\u001b[0m\u001b[0msrc\u001b[0m\u001b[0;34m,\u001b[0m \u001b[0;34m'rb'\u001b[0m\u001b[0;34m)\u001b[0m \u001b[0;32mas\u001b[0m \u001b[0mfsrc\u001b[0m\u001b[0;34m:\u001b[0m\u001b[0;34m\u001b[0m\u001b[0;34m\u001b[0m\u001b[0m\n\u001b[0m\u001b[1;32m    121\u001b[0m             \u001b[0;32mwith\u001b[0m \u001b[0mopen\u001b[0m\u001b[0;34m(\u001b[0m\u001b[0mdst\u001b[0m\u001b[0;34m,\u001b[0m \u001b[0;34m'wb'\u001b[0m\u001b[0;34m)\u001b[0m \u001b[0;32mas\u001b[0m \u001b[0mfdst\u001b[0m\u001b[0;34m:\u001b[0m\u001b[0;34m\u001b[0m\u001b[0;34m\u001b[0m\u001b[0m\n\u001b[1;32m    122\u001b[0m                 \u001b[0mcopyfileobj\u001b[0m\u001b[0;34m(\u001b[0m\u001b[0mfsrc\u001b[0m\u001b[0;34m,\u001b[0m \u001b[0mfdst\u001b[0m\u001b[0;34m)\u001b[0m\u001b[0;34m\u001b[0m\u001b[0;34m\u001b[0m\u001b[0m\n",
      "\u001b[0;31mFileNotFoundError\u001b[0m: [Errno 2] No such file or directory: '/home/gavin/Documents/python学习/dana.haha'"
     ]
    }
   ],
   "source": [
    "# copy() 复制文件\n",
    "# 格式 shutil.copy(来源路径，目标路径)\n",
    "# 返回值：返回目标路径\n",
    "# 拷贝的同时，可以给文件重命名\n",
    "\n",
    "import shutil\n",
    "\n",
    "rst = shutil.copy('/home/gavin/Documents/python学习/dana.haha', '/home/gavin/Documents/python学习/haha.haha')\n",
    "print(rst)"
   ]
  },
  {
   "cell_type": "code",
   "execution_count": 62,
   "metadata": {},
   "outputs": [],
   "source": [
    "# copy2() 复制文件，保留原数据(文件信息)\n",
    "# 格式：shutil.copy2(来源路径, 目标路径)\n",
    "# 返回值: 返回目标路径\n",
    "# 注意: copy和copy2的唯一区别在于copy2复制文件时尽量保留原数据\n",
    "\n"
   ]
  },
  {
   "cell_type": "code",
   "execution_count": 63,
   "metadata": {},
   "outputs": [
    {
     "name": "stdout",
     "output_type": "stream",
     "text": [
      "Help on function copyfile in module shutil:\n",
      "\n",
      "copyfile(src, dst, *, follow_symlinks=True)\n",
      "    Copy data from src to dst.\n",
      "    \n",
      "    If follow_symlinks is not set and src is a symbolic link, a new\n",
      "    symlink will be created instead of copying the file it points to.\n",
      "\n"
     ]
    }
   ],
   "source": [
    "# copyfile() 将一个文件中的内容复制到另外一个文件当中\n",
    "# 格式 shutil.copyfile('源路径', '目标路径')\n",
    "# 返回值: 无\n",
    "\n",
    "help(shutil.copyfile)"
   ]
  },
  {
   "cell_type": "code",
   "execution_count": 64,
   "metadata": {},
   "outputs": [
    {
     "ename": "FileNotFoundError",
     "evalue": "[Errno 2] No such file or directory: '/home/gavin/Documents/python学习/dana.haha'",
     "output_type": "error",
     "traceback": [
      "\u001b[0;31m---------------------------------------------------------------------------\u001b[0m",
      "\u001b[0;31mFileNotFoundError\u001b[0m                         Traceback (most recent call last)",
      "\u001b[0;32m/usr/lib/python3.6/shutil.py\u001b[0m in \u001b[0;36mmove\u001b[0;34m(src, dst, copy_function)\u001b[0m\n\u001b[1;32m    543\u001b[0m     \u001b[0;32mtry\u001b[0m\u001b[0;34m:\u001b[0m\u001b[0;34m\u001b[0m\u001b[0;34m\u001b[0m\u001b[0m\n\u001b[0;32m--> 544\u001b[0;31m         \u001b[0mos\u001b[0m\u001b[0;34m.\u001b[0m\u001b[0mrename\u001b[0m\u001b[0;34m(\u001b[0m\u001b[0msrc\u001b[0m\u001b[0;34m,\u001b[0m \u001b[0mreal_dst\u001b[0m\u001b[0;34m)\u001b[0m\u001b[0;34m\u001b[0m\u001b[0;34m\u001b[0m\u001b[0m\n\u001b[0m\u001b[1;32m    545\u001b[0m     \u001b[0;32mexcept\u001b[0m \u001b[0mOSError\u001b[0m\u001b[0;34m:\u001b[0m\u001b[0;34m\u001b[0m\u001b[0;34m\u001b[0m\u001b[0m\n",
      "\u001b[0;31mFileNotFoundError\u001b[0m: [Errno 2] No such file or directory: '/home/gavin/Documents/python学习/dana.haha' -> '/home/dana.haha'",
      "\nDuring handling of the above exception, another exception occurred:\n",
      "\u001b[0;31mFileNotFoundError\u001b[0m                         Traceback (most recent call last)",
      "\u001b[0;32m<ipython-input-64-518d55eda935>\u001b[0m in \u001b[0;36m<module>\u001b[0;34m()\u001b[0m\n\u001b[1;32m      2\u001b[0m \u001b[0;31m# 格式 shutil.move(源路径, 目标路径)\u001b[0m\u001b[0;34m\u001b[0m\u001b[0;34m\u001b[0m\u001b[0;34m\u001b[0m\u001b[0m\n\u001b[1;32m      3\u001b[0m \u001b[0;31m# 返回值： 目标路径\u001b[0m\u001b[0;34m\u001b[0m\u001b[0;34m\u001b[0m\u001b[0;34m\u001b[0m\u001b[0m\n\u001b[0;32m----> 4\u001b[0;31m \u001b[0mrst\u001b[0m \u001b[0;34m=\u001b[0m \u001b[0mshutil\u001b[0m\u001b[0;34m.\u001b[0m\u001b[0mmove\u001b[0m\u001b[0;34m(\u001b[0m\u001b[0;34m'/home/gavin/Documents/python学习/dana.haha'\u001b[0m\u001b[0;34m,\u001b[0m \u001b[0;34m'/home'\u001b[0m\u001b[0;34m)\u001b[0m\u001b[0;34m\u001b[0m\u001b[0;34m\u001b[0m\u001b[0m\n\u001b[0m\u001b[1;32m      5\u001b[0m \u001b[0mprint\u001b[0m\u001b[0;34m(\u001b[0m\u001b[0mrst\u001b[0m\u001b[0;34m)\u001b[0m\u001b[0;34m\u001b[0m\u001b[0;34m\u001b[0m\u001b[0m\n",
      "\u001b[0;32m/usr/lib/python3.6/shutil.py\u001b[0m in \u001b[0;36mmove\u001b[0;34m(src, dst, copy_function)\u001b[0m\n\u001b[1;32m    556\u001b[0m             \u001b[0mrmtree\u001b[0m\u001b[0;34m(\u001b[0m\u001b[0msrc\u001b[0m\u001b[0;34m)\u001b[0m\u001b[0;34m\u001b[0m\u001b[0;34m\u001b[0m\u001b[0m\n\u001b[1;32m    557\u001b[0m         \u001b[0;32melse\u001b[0m\u001b[0;34m:\u001b[0m\u001b[0;34m\u001b[0m\u001b[0;34m\u001b[0m\u001b[0m\n\u001b[0;32m--> 558\u001b[0;31m             \u001b[0mcopy_function\u001b[0m\u001b[0;34m(\u001b[0m\u001b[0msrc\u001b[0m\u001b[0;34m,\u001b[0m \u001b[0mreal_dst\u001b[0m\u001b[0;34m)\u001b[0m\u001b[0;34m\u001b[0m\u001b[0;34m\u001b[0m\u001b[0m\n\u001b[0m\u001b[1;32m    559\u001b[0m             \u001b[0mos\u001b[0m\u001b[0;34m.\u001b[0m\u001b[0munlink\u001b[0m\u001b[0;34m(\u001b[0m\u001b[0msrc\u001b[0m\u001b[0;34m)\u001b[0m\u001b[0;34m\u001b[0m\u001b[0;34m\u001b[0m\u001b[0m\n\u001b[1;32m    560\u001b[0m     \u001b[0;32mreturn\u001b[0m \u001b[0mreal_dst\u001b[0m\u001b[0;34m\u001b[0m\u001b[0;34m\u001b[0m\u001b[0m\n",
      "\u001b[0;32m/usr/lib/python3.6/shutil.py\u001b[0m in \u001b[0;36mcopy2\u001b[0;34m(src, dst, follow_symlinks)\u001b[0m\n\u001b[1;32m    255\u001b[0m     \u001b[0;32mif\u001b[0m \u001b[0mos\u001b[0m\u001b[0;34m.\u001b[0m\u001b[0mpath\u001b[0m\u001b[0;34m.\u001b[0m\u001b[0misdir\u001b[0m\u001b[0;34m(\u001b[0m\u001b[0mdst\u001b[0m\u001b[0;34m)\u001b[0m\u001b[0;34m:\u001b[0m\u001b[0;34m\u001b[0m\u001b[0;34m\u001b[0m\u001b[0m\n\u001b[1;32m    256\u001b[0m         \u001b[0mdst\u001b[0m \u001b[0;34m=\u001b[0m \u001b[0mos\u001b[0m\u001b[0;34m.\u001b[0m\u001b[0mpath\u001b[0m\u001b[0;34m.\u001b[0m\u001b[0mjoin\u001b[0m\u001b[0;34m(\u001b[0m\u001b[0mdst\u001b[0m\u001b[0;34m,\u001b[0m \u001b[0mos\u001b[0m\u001b[0;34m.\u001b[0m\u001b[0mpath\u001b[0m\u001b[0;34m.\u001b[0m\u001b[0mbasename\u001b[0m\u001b[0;34m(\u001b[0m\u001b[0msrc\u001b[0m\u001b[0;34m)\u001b[0m\u001b[0;34m)\u001b[0m\u001b[0;34m\u001b[0m\u001b[0;34m\u001b[0m\u001b[0m\n\u001b[0;32m--> 257\u001b[0;31m     \u001b[0mcopyfile\u001b[0m\u001b[0;34m(\u001b[0m\u001b[0msrc\u001b[0m\u001b[0;34m,\u001b[0m \u001b[0mdst\u001b[0m\u001b[0;34m,\u001b[0m \u001b[0mfollow_symlinks\u001b[0m\u001b[0;34m=\u001b[0m\u001b[0mfollow_symlinks\u001b[0m\u001b[0;34m)\u001b[0m\u001b[0;34m\u001b[0m\u001b[0;34m\u001b[0m\u001b[0m\n\u001b[0m\u001b[1;32m    258\u001b[0m     \u001b[0mcopystat\u001b[0m\u001b[0;34m(\u001b[0m\u001b[0msrc\u001b[0m\u001b[0;34m,\u001b[0m \u001b[0mdst\u001b[0m\u001b[0;34m,\u001b[0m \u001b[0mfollow_symlinks\u001b[0m\u001b[0;34m=\u001b[0m\u001b[0mfollow_symlinks\u001b[0m\u001b[0;34m)\u001b[0m\u001b[0;34m\u001b[0m\u001b[0;34m\u001b[0m\u001b[0m\n\u001b[1;32m    259\u001b[0m     \u001b[0;32mreturn\u001b[0m \u001b[0mdst\u001b[0m\u001b[0;34m\u001b[0m\u001b[0;34m\u001b[0m\u001b[0m\n",
      "\u001b[0;32m/usr/lib/python3.6/shutil.py\u001b[0m in \u001b[0;36mcopyfile\u001b[0;34m(src, dst, follow_symlinks)\u001b[0m\n\u001b[1;32m    118\u001b[0m         \u001b[0mos\u001b[0m\u001b[0;34m.\u001b[0m\u001b[0msymlink\u001b[0m\u001b[0;34m(\u001b[0m\u001b[0mos\u001b[0m\u001b[0;34m.\u001b[0m\u001b[0mreadlink\u001b[0m\u001b[0;34m(\u001b[0m\u001b[0msrc\u001b[0m\u001b[0;34m)\u001b[0m\u001b[0;34m,\u001b[0m \u001b[0mdst\u001b[0m\u001b[0;34m)\u001b[0m\u001b[0;34m\u001b[0m\u001b[0;34m\u001b[0m\u001b[0m\n\u001b[1;32m    119\u001b[0m     \u001b[0;32melse\u001b[0m\u001b[0;34m:\u001b[0m\u001b[0;34m\u001b[0m\u001b[0;34m\u001b[0m\u001b[0m\n\u001b[0;32m--> 120\u001b[0;31m         \u001b[0;32mwith\u001b[0m \u001b[0mopen\u001b[0m\u001b[0;34m(\u001b[0m\u001b[0msrc\u001b[0m\u001b[0;34m,\u001b[0m \u001b[0;34m'rb'\u001b[0m\u001b[0;34m)\u001b[0m \u001b[0;32mas\u001b[0m \u001b[0mfsrc\u001b[0m\u001b[0;34m:\u001b[0m\u001b[0;34m\u001b[0m\u001b[0;34m\u001b[0m\u001b[0m\n\u001b[0m\u001b[1;32m    121\u001b[0m             \u001b[0;32mwith\u001b[0m \u001b[0mopen\u001b[0m\u001b[0;34m(\u001b[0m\u001b[0mdst\u001b[0m\u001b[0;34m,\u001b[0m \u001b[0;34m'wb'\u001b[0m\u001b[0;34m)\u001b[0m \u001b[0;32mas\u001b[0m \u001b[0mfdst\u001b[0m\u001b[0;34m:\u001b[0m\u001b[0;34m\u001b[0m\u001b[0;34m\u001b[0m\u001b[0m\n\u001b[1;32m    122\u001b[0m                 \u001b[0mcopyfileobj\u001b[0m\u001b[0;34m(\u001b[0m\u001b[0mfsrc\u001b[0m\u001b[0;34m,\u001b[0m \u001b[0mfdst\u001b[0m\u001b[0;34m)\u001b[0m\u001b[0;34m\u001b[0m\u001b[0;34m\u001b[0m\u001b[0m\n",
      "\u001b[0;31mFileNotFoundError\u001b[0m: [Errno 2] No such file or directory: '/home/gavin/Documents/python学习/dana.haha'"
     ]
    }
   ],
   "source": [
    "# move() 移动文件/文件夹\n",
    "# 格式 shutil.move(源路径, 目标路径)\n",
    "# 返回值： 目标路径\n",
    "rst = shutil.move('/home/gavin/Documents/python学习/dana.haha', '/home')\n",
    "print(rst)"
   ]
  },
  {
   "cell_type": "markdown",
   "metadata": {},
   "source": [
    "# 归档和压缩\n",
    "\n",
    "- 归档：把多个文件或者文件夹合并到一个文件当中\n",
    "- 压缩：用算法把多个文件或者文件夹无损或者有损合并到一个文件当中\n"
   ]
  },
  {
   "cell_type": "code",
   "execution_count": 65,
   "metadata": {},
   "outputs": [],
   "source": [
    "# make_archive() 归档操作\n",
    "# 格式 shutil.make_archive('归档之后的目录和文件名', '后缀', '需要归档的文件夹')\n",
    "# 返回值： 归档之后的地址\n",
    "\n",
    "# rst = shutil.make_archive('/home/gavin/Documents/python学习/dana', 'zip', '/home')\n",
    "# print(rst)"
   ]
  },
  {
   "cell_type": "code",
   "execution_count": 66,
   "metadata": {},
   "outputs": [],
   "source": [
    "# unpack_archive() 解包操作\n",
    "# 格式 shutil.unpack_archive('归档文件地址', '解包之后的地址')\n",
    "# 返回值： 解包之后的地址"
   ]
  },
  {
   "cell_type": "markdown",
   "metadata": {},
   "source": [
    "# zip-压缩包\n",
    "- 模块名称叫 zipfile"
   ]
  },
  {
   "cell_type": "code",
   "execution_count": 67,
   "metadata": {},
   "outputs": [],
   "source": [
    "import zipfile"
   ]
  },
  {
   "cell_type": "code",
   "execution_count": 68,
   "metadata": {},
   "outputs": [],
   "source": [
    "# zipfile.ZipFile(file[, mode[, compression[, allowZip64]]])\n",
    "# 创建一个ZipFile对象，表示一个zip文件。参数file表示文件的路径或类文件对象(file-)\n",
    "\n",
    "# zf = zipfile.ZipFile('/home/gavin/Documents/python学习/dana.zip')\n",
    "\n",
    "# ZipFile.getinfo(name)\n",
    "# 获取zip文档内指定文件的信息，返回一个zipfile.ZipInfo对象，它包括文件的详细信息\n",
    "\n",
    "# rst = zf.getinfo('dana.haha')\n",
    "# print(rst)\n",
    "\n",
    "# ZipFile.namelist()\n",
    "# 获取zip文档内所有文件的名称列表\n",
    "\n",
    "# nl = zf.namelist()\n",
    "# print(nl)\n",
    "\n",
    "# ZipFile.extractall([path[, members[, pwd]]])\n",
    "# 解压zip文档中的所有文件到当前目录，参数members的默认值为zip文档内的所有文件名称列表\n",
    "\n",
    "# rst = zf.extractall('/home/gavin/Documents/python学习/dana.haha')\n",
    "# print(rst)"
   ]
  },
  {
   "cell_type": "markdown",
   "metadata": {},
   "source": [
    "# random\n",
    "\n",
    "- 随机数\n",
    "- 所有的随机模块都是伪随机\n"
   ]
  },
  {
   "cell_type": "code",
   "execution_count": 69,
   "metadata": {},
   "outputs": [
    {
     "name": "stdout",
     "output_type": "stream",
     "text": [
      "0.4251692433749509\n"
     ]
    }
   ],
   "source": [
    "# random() 获取0-1之间的随机小数\n",
    "# 格式 random.random()\n",
    "# 返回值：随机0-1之间的小数\n",
    "\n",
    "import random\n",
    "\n",
    "print(random.random())"
   ]
  },
  {
   "cell_type": "code",
   "execution_count": 70,
   "metadata": {},
   "outputs": [
    {
     "name": "stdout",
     "output_type": "stream",
     "text": [
      "['0haha', '1haha', '2haha', '3haha', '4haha', '5haha', '6haha', '7haha', '8haha', '9haha']\n",
      "6haha\n"
     ]
    }
   ],
   "source": [
    "# choice() 随机返回序列中的某个值\n",
    "# 格式 random.choice(序列)\n",
    "# 返回值：序列中的某个值\n",
    "\n",
    "l = [str(i) + 'haha' for i in range(10)]\n",
    "print(l)\n",
    "rst = random.choice(l)\n",
    "print(rst)"
   ]
  },
  {
   "cell_type": "code",
   "execution_count": 72,
   "metadata": {},
   "outputs": [
    {
     "name": "stdout",
     "output_type": "stream",
     "text": [
      "[0, 1, 2, 3, 4, 5, 6, 7, 8, 9]\n",
      "[0, 4, 9, 8, 6, 5, 3, 2, 1, 7]\n",
      "Help on method shuffle in module random:\n",
      "\n",
      "shuffle(x, random=None) method of random.Random instance\n",
      "    Shuffle list x in place, and return None.\n",
      "    \n",
      "    Optional argument random is a 0-argument function returning a\n",
      "    random float in [0.0, 1.0); if it is the default None, the\n",
      "    standard random.random will be used.\n",
      "\n"
     ]
    }
   ],
   "source": [
    "# shuffe() 随机打乱列表\n",
    "# 格式 random.shuffle(list)\n",
    "# 返回值：打乱顺序之后的列表\n",
    "\n",
    "l1 = [i for i in range(10)]\n",
    "print(l1)\n",
    "\n",
    "random.shuffle(l1)\n",
    "print(l1)\n",
    "\n",
    "help(random.shuffle)"
   ]
  },
  {
   "cell_type": "code",
   "execution_count": 73,
   "metadata": {},
   "outputs": [
    {
     "name": "stdout",
     "output_type": "stream",
     "text": [
      "47\n",
      "Help on method randint in module random:\n",
      "\n",
      "randint(a, b) method of random.Random instance\n",
      "    Return random integer in range [a, b], including both end points.\n",
      "\n"
     ]
    }
   ],
   "source": [
    "# randint(a, b) 返回一个a到b间的随机整数，包含a和b\n",
    "\n",
    "print(random.randint(0, 100))\n",
    "\n",
    "help(random.randint)"
   ]
  },
  {
   "cell_type": "code",
   "execution_count": null,
   "metadata": {},
   "outputs": [],
   "source": []
  }
 ],
 "metadata": {
  "kernelspec": {
   "display_name": "Python 3",
   "language": "python",
   "name": "python3"
  },
  "language_info": {
   "codemirror_mode": {
    "name": "ipython",
    "version": 3
   },
   "file_extension": ".py",
   "mimetype": "text/x-python",
   "name": "python",
   "nbconvert_exporter": "python",
   "pygments_lexer": "ipython3",
   "version": "3.6.7"
  }
 },
 "nbformat": 4,
 "nbformat_minor": 2
}

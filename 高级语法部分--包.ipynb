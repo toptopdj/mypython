{
 "cells": [
  {
   "cell_type": "markdown",
   "metadata": {},
   "source": [
    "# 模块\n",
    "- 一个模块就是一个包含Python代码的文件，后缀名是`.py`就可以\n",
    "- 为什么要用模块\n",
    "    - 程序太大，编写维护非常不方便，需要拆分\n",
    "    - 模块可以增加代码重复利用的方式\n",
    "    - 当作命名空间使用，避免命名冲突\n",
    "- 如何定义模块\n",
    "    - 模块就是一个普通文件，所以任何代码可以直接书写\n",
    "    - 不过根据模块的规范，最好在模块中编写以下内容\n",
    "        - 函数(单一功能)\n",
    "        - 类(相似功能的组合，或者类似业务模块)\n",
    "        - 测试代码\n",
    "- 如何使用模块\n",
    "    - 直接导入\n",
    "        - 假如模块名称直接以数字开头，需借助importlib帮助\n",
    "        \n",
    "    - 语法\n",
    "    \n",
    "        import module_name\n",
    "        module_name.funciton_name\n",
    "        module_name.class_name\n",
    "    \n",
    "    - import 模块 as 别名\n",
    "        - 导入的同时给模块起一个别名\n",
    "        - 其余用法跟第一种相同\n",
    "        \n",
    "    - from module_name import func_name, class_name\n",
    "        - 按上述方法有选择性的导入\n",
    "        - 使用时可以直接使用导入的内容，不需要前缀\n",
    "        \n",
    "    - from module_name import *\n",
    "        - 导入模块的所有内容\n",
    "        \n",
    "- `if __name__ == '__main__'`的使用\n",
    "    - 可以有效避免模块代码被导入时被动执行的问题\n",
    "    - 建议所有程序的入口都以此代码为入口"
   ]
  },
  {
   "cell_type": "code",
   "execution_count": 1,
   "metadata": {},
   "outputs": [],
   "source": [
    "# student.py\n",
    "\n",
    "class Student():\n",
    "    def __init__(self, name='NoName', age=18):\n",
    "        self.name = name\n",
    "        self.age = age\n",
    "        \n",
    "    def say(self):\n",
    "        print('My name is {0}'.format(self.name))\n",
    "        \n",
    "def sayHello():\n",
    "    print('Say Hello')\n",
    "    \n"
   ]
  },
  {
   "cell_type": "code",
   "execution_count": 2,
   "metadata": {},
   "outputs": [
    {
     "ename": "ModuleNotFoundError",
     "evalue": "No module named 'student'",
     "output_type": "error",
     "traceback": [
      "\u001b[0;31m---------------------------------------------------------------------------\u001b[0m",
      "\u001b[0;31mModuleNotFoundError\u001b[0m                       Traceback (most recent call last)",
      "\u001b[0;32m<ipython-input-2-07de68ac0b98>\u001b[0m in \u001b[0;36m<module>\u001b[0;34m()\u001b[0m\n\u001b[1;32m      1\u001b[0m \u001b[0;31m# 02.py\u001b[0m\u001b[0;34m\u001b[0m\u001b[0;34m\u001b[0m\u001b[0;34m\u001b[0m\u001b[0m\n\u001b[1;32m      2\u001b[0m \u001b[0;34m\u001b[0m\u001b[0m\n\u001b[0;32m----> 3\u001b[0;31m \u001b[0;32mimport\u001b[0m \u001b[0mstudent\u001b[0m\u001b[0;34m\u001b[0m\u001b[0;34m\u001b[0m\u001b[0m\n\u001b[0m\u001b[1;32m      4\u001b[0m \u001b[0;34m\u001b[0m\u001b[0m\n\u001b[1;32m      5\u001b[0m \u001b[0mstu\u001b[0m \u001b[0;34m=\u001b[0m \u001b[0mstudent\u001b[0m\u001b[0;34m.\u001b[0m\u001b[0mStudent\u001b[0m\u001b[0;34m(\u001b[0m\u001b[0;34m)\u001b[0m\u001b[0;34m\u001b[0m\u001b[0;34m\u001b[0m\u001b[0m\n",
      "\u001b[0;31mModuleNotFoundError\u001b[0m: No module named 'student'"
     ]
    }
   ],
   "source": [
    "# 02.py\n",
    "\n",
    "import student\n",
    "\n",
    "stu = student.Student()\n",
    "\n",
    "stu.say()\n"
   ]
  },
  {
   "cell_type": "markdown",
   "metadata": {},
   "source": [
    "# 模块的搜索路径和存储\n",
    "- 什么是模块的搜索路径\n",
    "    - 加载模块的时候，系统会在哪些地方寻找此模块\n",
    "- 系统默认的模块搜索路径\n",
    "\n",
    "        import sys\n",
    "        sys.path\n",
    "        \n",
    "- 添加搜索路径\n",
    "        \n",
    "        sys.path.append(dir)\n",
    "        \n",
    "- 模块的加载顺序\n",
    "    - 1.上搜索内存中已经加载好的模块\n",
    "    - 2.搜索Python的内置模块\n",
    "    - 3.搜索sys.path路径\n"
   ]
  },
  {
   "cell_type": "code",
   "execution_count": 4,
   "metadata": {},
   "outputs": [
    {
     "name": "stdout",
     "output_type": "stream",
     "text": [
      "<class 'list'>\n",
      "\n",
      "/usr/lib/python36.zip\n",
      "/usr/lib/python3.6\n",
      "/usr/lib/python3.6/lib-dynload\n",
      "/usr/local/lib/python3.6/dist-packages\n",
      "/usr/lib/python3/dist-packages\n",
      "/usr/lib/python3/dist-packages/IPython/extensions\n",
      "/home/gavin/.ipython\n"
     ]
    }
   ],
   "source": [
    "import sys\n",
    "\n",
    "print(type(sys.path))\n",
    "\n",
    "for p in sys.path:\n",
    "    print(p)"
   ]
  },
  {
   "cell_type": "markdown",
   "metadata": {},
   "source": [
    "# 包\n",
    "- 包是一种组织管理代码的方式，包里面存放的是模块\n",
    "- 用于将模块包含在一起的文件夹就是包\n",
    "- 自定义报的结构\n",
    "\n",
    "        /---包\n",
    "        /---/--- __init__.py 包的标志文件\n",
    "        /---/--- 模块1\n",
    "        /---/--- 模块2\n",
    "        /---/--- 子包（子文件夹）\n",
    "        /---/---/--- __init__.py 报的标志文件\n",
    "        /---/---/--- 子包模块1\n",
    "        /---/---/--- 子包模块2\n",
    "        \n",
    "- 包的导入操作\n",
    "    - import package_name\n",
    "        - 直接导入一个包，可以使用__init__.py中的内容\n",
    "        - 使用方式：\n",
    "            \n",
    "            package_name.func_name\n",
    "            package_name.class_name.func_name()\n",
    "            \n",
    "        - 此种方式的访问内容是\n",
    "    - import package_name as p\n",
    "        - 具体使用法跟作用方式，跟上述简单导入一致\n",
    "        - 注意的是此种方法是默认对__init__.py内容的导入\n",
    "        \n",
    "    - import package.module\n",
    "        - 导入包中某一个具体的模块\n",
    "        - 使用方法\n",
    "        \n",
    "                package.module.func_name\n",
    "                package.module.class.fun()\n",
    "                package.module.class.var\n",
    "    \n",
    "    - import package.module as pm\n",
    "    \n",
    "    - from...import 导入\n",
    "        - form package import module1, module2, ...\n",
    "        - 此种导入方法不执行`__init__`的内容\n",
    "        \n",
    "                from pkg01 import p01\n",
    "                p01.sayHello()\n",
    "                \n",
    "        - from package import *\n",
    "            - 导入当前包 `__init__.py` 文件中所有的函数和类\n",
    "            - 使用方法\n",
    "            \n",
    "                    func_name()\n",
    "                    class_name.func_name()\n",
    "                    class_name.var\n",
    "                    \n",
    "    - from package.module import *\n",
    "        - 导入包中指定的模块的所有内容\n",
    "        - 使用方法\n",
    "        \n",
    "                func_name()\n",
    "                class_name.func_name()\n",
    "        \n",
    "    - 在开发环境中经常会所以用其他模块，可以在当前包中直接导入其他模块中的内容\n",
    "        - import 完整的包或者模块的路径\n",
    "        \n",
    "    - `__all__` 的用法\n",
    "        - 在使用from package import *的时候，*可以导入的内容\n",
    "        - `__init__.py`中如果文件为空，或者没有`__all__`那么只可以把`__init__`中的内容导入\n",
    "        - `__init__` 如果设置了`__all__`的值，那么按照`__all__`指定的子包或者模块进行加载，如此则不会载入`__init__`中的内容\n",
    "    - `__all__=['module1', 'module2', 'package1', ...]`"
   ]
  },
  {
   "cell_type": "markdown",
   "metadata": {},
   "source": [
    "## 命名空间\n",
    "- 用于区分不同位置不同功能但相同名称的函数或者变量的一个特定前缀\n",
    "- 作用是防止命名冲突\n",
    "\n",
    "        setName()\n",
    "        Student.setName()\n",
    "        Dog.setName()"
   ]
  },
  {
   "cell_type": "markdown",
   "metadata": {},
   "source": [
    "# 异常\n",
    "\n",
    "- 广义上的错误分为错误和异常\n",
    "- 错误指的是可以人为避免\n",
    "- 异常是指在语法逻辑正确的前提下，出现的问题\n",
    "- 在Python里，异常是一个类，可以处理和使用\n",
    "    \n",
    "        BaseException\t所有异常的基类\n",
    "        SystemExit\t解释器请求退出\n",
    "        KeyboardInterrupt\t用户中断执行(通常是输入^C)\n",
    "        Exception\t常规错误的基类\n",
    "        StopIteration\t迭代器没有更多的值\n",
    "        GeneratorExit\t生成器(generator)发生异常来通知退出\n",
    "        StandardError\t所有的内建标准异常的基类\n",
    "        ArithmeticError\t所有数值计算错误的基类\n",
    "        FloatingPointError\t浮点计算错误\n",
    "        OverflowError\t数值运算超出最大限制\n",
    "        ZeroDivisionError\t除(或取模)零 (所有数据类型)\n",
    "        AssertionError\t断言语句失败\n",
    "        AttributeError\t对象没有这个属性\n",
    "        EOFError\t没有内建输入,到达EOF 标记\n",
    "        EnvironmentError\t操作系统错误的基类\n",
    "        IOError\t输入/输出操作失败\n",
    "        OSError\t操作系统错误\n",
    "        WindowsError\t系统调用失败\n",
    "        ImportError\t导入模块/对象失败\n",
    "        LookupError\t无效数据查询的基类\n",
    "        IndexError\t序列中没有此索引(index)\n",
    "        KeyError\t映射中没有这个键\n",
    "        MemoryError\t内存溢出错误(对于Python 解释器不是致命的)\n",
    "        NameError\t未声明/初始化对象 (没有属性)\n",
    "        UnboundLocalError\t访问未初始化的本地变量\n",
    "        ReferenceError\t弱引用(Weak reference)试图访问已经垃圾回收了的对象\n",
    "        RuntimeError\t一般的运行时错误\n",
    "        NotImplementedError\t尚未实现的方法\n",
    "        SyntaxError\tPython 语法错误\n",
    "        IndentationError\t缩进错误\n",
    "        TabError\tTab 和空格混用\n",
    "        SystemError\t一般的解释器系统错误\n",
    "        TypeError\t对类型无效的操作\n",
    "        ValueError\t传入无效的参数\n",
    "        UnicodeError\tUnicode 相关的错误\n",
    "        UnicodeDecodeError\tUnicode 解码时的错误\n",
    "        UnicodeEncodeError\tUnicode 编码时错误\n",
    "        UnicodeTranslateError\tUnicode 转换时错误\n",
    "        Warning\t警告的基类\n",
    "        DeprecationWarning\t关于被弃用的特征的警告\n",
    "        FutureWarning\t关于构造将来语义会有改变的警告\n",
    "        OverflowWarning\t旧的关于自动提升为长整型(long)的警告\n",
    "        PendingDeprecationWarning\t关于特性将会被废弃的警告\n",
    "        RuntimeWarning\t可疑的运行时行为(runtime behavior)的警告\n",
    "        SyntaxWarning\t可疑的语法的警告\n",
    "        UserWarning\t用户代码生成的警告\n",
    "        \n",
    "## 异常处理\n",
    "- 不能保证程序永远正确运行\n",
    "- 但是，必须保证程序在最坏的情况下得到的问题被妥善处理\n",
    "- Python的异常处理模块全部语法为\n",
    "\n",
    "           try:\n",
    "               代码块\n",
    "           except 异常类型:\n",
    "               解决方案\n",
    "           except 异常类型2:\n",
    "               解决方案\n",
    "           except (异常类型1，异常类型2):\n",
    "               解决方案\n",
    "           else:\n",
    "               如果没有任何异常，将会执行此处代码\n",
    "           finally:\n",
    "               管你有没有异常，都会执行的代码\n",
    "               \n",
    "- 流程\n",
    "    - 1.执行try下面的语句\n",
    "    - 2.如果出现异常，则在except语句中查找对应异常进行处理\n",
    "    - 3.如果没有出现异常，则执行else语句内容\n",
    "    - 4.最后，不管是否出现异常，都要执行finally语句\n",
    "    \n",
    "- 除except(最少一个)以外，else和finally可选\n",
    "               "
   ]
  },
  {
   "cell_type": "code",
   "execution_count": 1,
   "metadata": {},
   "outputs": [
    {
     "name": "stdout",
     "output_type": "stream",
     "text": [
      "input your number:20\n",
      "计算结果是:5.0\n"
     ]
    }
   ],
   "source": [
    "# 简单异常处理\n",
    "\n",
    "try:\n",
    "    num = int(input('input your number:'))\n",
    "    rst = 100/num\n",
    "    print('计算结果是:{0}'.format(rst))\n",
    "except:\n",
    "    print('你输入的是啥？')\n",
    "    # exit()退出程序\n",
    "    # exit()"
   ]
  },
  {
   "cell_type": "code",
   "execution_count": 2,
   "metadata": {},
   "outputs": [
    {
     "name": "stdout",
     "output_type": "stream",
     "text": [
      "input your number:0\n",
      "你输入的是啥？\n",
      "division by zero\n"
     ]
    }
   ],
   "source": [
    "# 简单异常处理\n",
    "# 输出提示信息\n",
    "\n",
    "try:\n",
    "    num = int(input('input your number:'))\n",
    "    rst = 100/num\n",
    "    print('计算结果是:{0}'.format(rst))\n",
    "# 捕获异常后，把异常实例化，\n",
    "# 注意以下写法\n",
    "# 以下语句是捕获ZeroDivisionError异常并实例化\n",
    "except ZeroDivisionError as e:\n",
    "    print('你输入的是啥？')\n",
    "    print(e)"
   ]
  },
  {
   "cell_type": "code",
   "execution_count": 4,
   "metadata": {},
   "outputs": [
    {
     "name": "stdout",
     "output_type": "stream",
     "text": [
      "input your number:Hello\n"
     ]
    },
    {
     "ename": "ValueError",
     "evalue": "invalid literal for int() with base 10: 'Hello'",
     "output_type": "error",
     "traceback": [
      "\u001b[0;31m---------------------------------------------------------------------------\u001b[0m",
      "\u001b[0;31mValueError\u001b[0m                                Traceback (most recent call last)",
      "\u001b[0;32m<ipython-input-4-0ea0c8b6a9fa>\u001b[0m in \u001b[0;36m<module>\u001b[0;34m()\u001b[0m\n\u001b[1;32m      3\u001b[0m \u001b[0;34m\u001b[0m\u001b[0m\n\u001b[1;32m      4\u001b[0m \u001b[0;32mtry\u001b[0m\u001b[0;34m:\u001b[0m\u001b[0;34m\u001b[0m\u001b[0;34m\u001b[0m\u001b[0m\n\u001b[0;32m----> 5\u001b[0;31m     \u001b[0mnum\u001b[0m \u001b[0;34m=\u001b[0m \u001b[0mint\u001b[0m\u001b[0;34m(\u001b[0m\u001b[0minput\u001b[0m\u001b[0;34m(\u001b[0m\u001b[0;34m'input your number:'\u001b[0m\u001b[0;34m)\u001b[0m\u001b[0;34m)\u001b[0m\u001b[0;34m\u001b[0m\u001b[0;34m\u001b[0m\u001b[0m\n\u001b[0m\u001b[1;32m      6\u001b[0m     \u001b[0mrst\u001b[0m \u001b[0;34m=\u001b[0m \u001b[0;36m100\u001b[0m\u001b[0;34m/\u001b[0m\u001b[0mnum\u001b[0m\u001b[0;34m\u001b[0m\u001b[0;34m\u001b[0m\u001b[0m\n\u001b[1;32m      7\u001b[0m     \u001b[0mprint\u001b[0m\u001b[0;34m(\u001b[0m\u001b[0;34m'计算结果是:{0}'\u001b[0m\u001b[0;34m.\u001b[0m\u001b[0mformat\u001b[0m\u001b[0;34m(\u001b[0m\u001b[0mrst\u001b[0m\u001b[0;34m)\u001b[0m\u001b[0;34m)\u001b[0m\u001b[0;34m\u001b[0m\u001b[0;34m\u001b[0m\u001b[0m\n",
      "\u001b[0;31mValueError\u001b[0m: invalid literal for int() with base 10: 'Hello'"
     ]
    }
   ],
   "source": [
    "# 简单异常处理\n",
    "# 输出提示信息\n",
    "\n",
    "try:\n",
    "    num = int(input('input your number:'))\n",
    "    rst = 100/num\n",
    "    print('计算结果是:{0}'.format(rst))\n",
    "# 如果是多种error的情况\n",
    "# 需要把越具体的错误，越往前放\n",
    "# 在异常类继承关系中，越是子类的异常，越要往前放\n",
    "# 越是父类的异常，越是往后放\n",
    "\n",
    "# 在处理异常的时候，一旦拦截到某一个异常，则不再继续往下查看，直接进行下一个\n",
    "# 代码，即有finally则执行finally语句块，否则就执行下一个大的语句\n",
    "except ZeroDivisionError as e:\n",
    "    print('你输入的是啥？')\n",
    "    print(e)\n",
    "    exit()\n",
    "except NameError as e:\n",
    "    print('名字起错了')\n",
    "    print(e)\n",
    "    exit()\n",
    "except AttributeError as e:\n",
    "    print('好像属性有问题')\n",
    "    print(e)\n",
    "    exit()"
   ]
  },
  {
   "cell_type": "markdown",
   "metadata": {},
   "source": [
    "# 用户手动引发异常\n",
    "\n",
    "- 当某些情况，用户希望自己引发一个异常的时候，可以使用\n",
    "- raise 关键字来引发异常\n"
   ]
  },
  {
   "cell_type": "code",
   "execution_count": 5,
   "metadata": {},
   "outputs": [
    {
     "name": "stdout",
     "output_type": "stream",
     "text": [
      "我爱静静\n",
      "3.1415926\n",
      "ValueError\n",
      "我肯定会被执行的\n"
     ]
    }
   ],
   "source": [
    "# raise案例\n",
    "\n",
    "try:\n",
    "    print('我爱静静')\n",
    "    print(3.1415926)\n",
    "    # 手动引发一个异常\n",
    "    # 注意语法： raise ErrorClassName\n",
    "    raise ValueError\n",
    "    print('还没完了')\n",
    "except NameError as e:\n",
    "    print('NameError')\n",
    "except ValueError as e:\n",
    "    print('ValueError')\n",
    "except Exception as e:\n",
    "    print('有异常')\n",
    "finally:\n",
    "    print('我肯定会被执行的')"
   ]
  },
  {
   "cell_type": "code",
   "execution_count": 8,
   "metadata": {},
   "outputs": [
    {
     "name": "stdout",
     "output_type": "stream",
     "text": [
      "我爱静静\n",
      "3.1415926\n",
      "ValueError\n",
      "我肯定会被执行的\n"
     ]
    }
   ],
   "source": [
    "# raise案例 -- 2\n",
    "# 自己定义异常\n",
    "# 需要注意： 自定义异常必须是系统异常的子类\n",
    "\n",
    "class DanaError(ValueError):\n",
    "    pass\n",
    "\n",
    "try:\n",
    "    print('我爱静静')\n",
    "    print(3.1415926)\n",
    "    # 手动引发一个异常\n",
    "    # 注意语法： raise ErrorClassName\n",
    "    raise DanaError\n",
    "    print('还没完了')\n",
    "except NameError as e:\n",
    "    print('NameError')\n",
    "# except DanaError as e:\n",
    "#    print('DanaError')\n",
    "except ValueError as e:\n",
    "    print('ValueError')\n",
    "except Exception as e:\n",
    "    print('有异常')\n",
    "finally:\n",
    "    print('我肯定会被执行的')"
   ]
  },
  {
   "cell_type": "code",
   "execution_count": 9,
   "metadata": {},
   "outputs": [
    {
     "name": "stdout",
     "output_type": "stream",
     "text": [
      "input your number:lalei\n",
      "Exception\n",
      "反正我背会执行\n"
     ]
    }
   ],
   "source": [
    "# else 语句案例\n",
    "\n",
    "try:\n",
    "    num = int(input('input your number:'))\n",
    "    rst = 100/num\n",
    "    print('计算结果是:{0}'.format(rst))\n",
    "except Exception as e:\n",
    "    print('Exception')\n",
    "    \n",
    "else:\n",
    "    print('No Exception')\n",
    "finally:\n",
    "    print('反正我背会执行')"
   ]
  },
  {
   "cell_type": "markdown",
   "metadata": {},
   "source": [
    "# 关于自定义异常\n",
    "- 只要是raise异常，则推荐自定义异常\n",
    "- 在自定义异常的时候，一般包含以下内容\n",
    "    - 自定义发生异常的异常代码\n",
    "    - 自定义发生异常后的问题提示\n",
    "    - 自定义发生异常的行数\n",
    "- 最终的目的是，一旦发生异常，方便程序员快速定位错误现场"
   ]
  }
 ],
 "metadata": {
  "kernelspec": {
   "display_name": "Python 3",
   "language": "python",
   "name": "python3"
  },
  "language_info": {
   "codemirror_mode": {
    "name": "ipython",
    "version": 3
   },
   "file_extension": ".py",
   "mimetype": "text/x-python",
   "name": "python",
   "nbconvert_exporter": "python",
   "pygments_lexer": "ipython3",
   "version": "3.6.7"
  }
 },
 "nbformat": 4,
 "nbformat_minor": 2
}
